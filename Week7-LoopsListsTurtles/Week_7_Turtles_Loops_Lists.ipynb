{
 "cells": [
  {
   "cell_type": "markdown",
   "id": "29c877e6",
   "metadata": {},
   "source": [
    "# Introduction to Python - Loops, Lists and Turtles\n",
    "\n",
    "**Remember:** This is a Jupyter notebook, an application that allows us to write code and view exercises easily.\n",
    "\n",
    "Like Spyder, Jupyter notebooks have cells (Markdown and Code cells) that allow us to separate code and text. Remember that the code cells have `In [ ]:` on the left hand side!\n",
    "\n",
    "## Let's Try\n",
    "\n",
    "**Remember** You can run the next cell using the \"<kbd>|> Run</kbd>\" button on the toolbar above, or you can press <kbd>Ctrl</kbd> + <kbd>Enter</kbd>.\n"
   ]
  },
  {
   "cell_type": "markdown",
   "id": "b1a54d55",
   "metadata": {},
   "source": [
    "🚩 **Exercise:** Run the next cell to make sure that your notebook is working!"
   ]
  },
  {
   "cell_type": "code",
   "execution_count": null,
   "id": "5464cf1b",
   "metadata": {},
   "outputs": [],
   "source": [
    "print('Welcome to Functions with Return Values in Python!')"
   ]
  },
  {
   "cell_type": "markdown",
   "id": "3438c438",
   "metadata": {},
   "source": [
    "## Warmup - Last Time (Functions with Return Values)\n",
    "\n",
    "Let's see if you can remember what we worked on last week! Here are some useful variables.\n"
   ]
  },
  {
   "cell_type": "markdown",
   "id": "7137f3f5",
   "metadata": {},
   "source": [
    "🚩 **Warmup 1:** Which keyword do we use to write a function?\n",
    "\n",
    "🚩 **Warmup 2:** What does it mean to define a function?\n",
    "\n",
    "🚩 **Warmup 3:** What does it mean to call a function?\n",
    "\n",
    "🚩 **Warmup 4:** How do we remember how functions are stored by Python? (Hint: Library) "
   ]
  },
  {
   "cell_type": "markdown",
   "id": "d7fc3d2e",
   "metadata": {},
   "source": [
    "🚩 **Warmup 5:** Write a function called `add` that adds two numbers `num1`, `num2` together."
   ]
  },
  {
   "cell_type": "code",
   "execution_count": null,
   "id": "1397916c",
   "metadata": {},
   "outputs": [],
   "source": [
    "def add(num1, num2):\n",
    "    break"
   ]
  },
  {
   "cell_type": "markdown",
   "id": "38c9c4d9",
   "metadata": {},
   "source": [
    "🚩 **Warmup 6:** Store the result of `add(5,10)` in a variable, then print this variable."
   ]
  },
  {
   "cell_type": "code",
   "execution_count": null,
   "id": "8d8efaba",
   "metadata": {},
   "outputs": [],
   "source": [
    "\n"
   ]
  },
  {
   "cell_type": "markdown",
   "id": "e5497bb5",
   "metadata": {},
   "source": [
    "## Exercises - This Week\n"
   ]
  },
  {
   "cell_type": "markdown",
   "id": "aa9a6519",
   "metadata": {},
   "source": [
    "### Loops\n",
    "\n",
    "We have seen two ways to use loops:\n",
    "- accessing elements in a string (one at a time)"
   ]
  },
  {
   "cell_type": "code",
   "execution_count": 1,
   "id": "257f2b56",
   "metadata": {
    "scrolled": true
   },
   "outputs": [
    {
     "name": "stdout",
     "output_type": "stream",
     "text": [
      "h\n",
      "e\n",
      "l\n",
      "l\n",
      "o\n"
     ]
    }
   ],
   "source": [
    "for i in \"hello\":\n",
    "    print(i)"
   ]
  },
  {
   "cell_type": "markdown",
   "id": "136f6cc9",
   "metadata": {},
   "source": [
    "- Accessing numbers in a range (one at a time)"
   ]
  },
  {
   "cell_type": "code",
   "execution_count": 3,
   "id": "656aa994",
   "metadata": {},
   "outputs": [
    {
     "name": "stdout",
     "output_type": "stream",
     "text": [
      "5\n",
      "6\n",
      "7\n",
      "8\n",
      "9\n"
     ]
    }
   ],
   "source": [
    "for i in range(5, 10):\n",
    "    print(i)"
   ]
  },
  {
   "cell_type": "markdown",
   "id": "14adb21d",
   "metadata": {},
   "source": [
    "🚩 **Exercise 1:** Write a loop that prints the first 100 numbers."
   ]
  },
  {
   "cell_type": "code",
   "execution_count": null,
   "id": "72843d81",
   "metadata": {},
   "outputs": [],
   "source": []
  },
  {
   "cell_type": "markdown",
   "id": "f1bc1546",
   "metadata": {},
   "source": [
    "🚩 **Exercise 2:** Write a loop that prints the numbers between 400 and 450."
   ]
  },
  {
   "cell_type": "code",
   "execution_count": null,
   "id": "7531f0b6",
   "metadata": {},
   "outputs": [],
   "source": []
  },
  {
   "cell_type": "markdown",
   "id": "a88ed37e",
   "metadata": {},
   "source": [
    "🚩 **Exercise 3:** Write a loop that will print `\"hello\"` 20 times (print all the numbers between 1 and 20)"
   ]
  },
  {
   "cell_type": "code",
   "execution_count": null,
   "id": "c62ca7ba",
   "metadata": {},
   "outputs": [],
   "source": []
  },
  {
   "cell_type": "markdown",
   "id": "e964a864",
   "metadata": {},
   "source": [
    "🚩 **Exercise 4:** Make a variable called `sum=0`. Write a loop that adds sum up to 10."
   ]
  },
  {
   "cell_type": "code",
   "execution_count": null,
   "id": "bc512d75",
   "metadata": {},
   "outputs": [],
   "source": []
  },
  {
   "cell_type": "markdown",
   "id": "59b457c7",
   "metadata": {},
   "source": [
    "🚩 **Exercise 5:** Make a variable called `a=2`. Write a loop that doubles this number up to 16."
   ]
  },
  {
   "cell_type": "code",
   "execution_count": null,
   "id": "bb7a7bed",
   "metadata": {},
   "outputs": [],
   "source": []
  },
  {
   "cell_type": "markdown",
   "id": "c603ef1d",
   "metadata": {},
   "source": [
    "🚩 **Exercise 5:** Make a variable called `a=2`. Write a loop that doubles this number up to 16."
   ]
  },
  {
   "cell_type": "code",
   "execution_count": null,
   "id": "6dc0e524",
   "metadata": {},
   "outputs": [],
   "source": []
  },
  {
   "cell_type": "markdown",
   "id": "504aee96",
   "metadata": {},
   "source": [
    "🚩 **Exercise 6:** Write a loop that prints all the letters of your name on separate lines."
   ]
  },
  {
   "cell_type": "code",
   "execution_count": null,
   "id": "55c9feb7",
   "metadata": {},
   "outputs": [],
   "source": []
  },
  {
   "cell_type": "markdown",
   "id": "a7547b7d",
   "metadata": {},
   "source": [
    "🚩 **Exercise 7:** Write a loop that prints all the letters of \"welcome\"."
   ]
  },
  {
   "cell_type": "code",
   "execution_count": null,
   "id": "faa44730",
   "metadata": {},
   "outputs": [],
   "source": []
  },
  {
   "cell_type": "markdown",
   "id": "b0698648",
   "metadata": {},
   "source": [
    "🚩 **Exercise 8:** Write a function `is_vowel(letter)` that checks if the letter is a vowel (a, e, i, o or u)."
   ]
  },
  {
   "cell_type": "code",
   "execution_count": null,
   "id": "014c9568",
   "metadata": {},
   "outputs": [],
   "source": []
  },
  {
   "cell_type": "markdown",
   "id": "c616dd47",
   "metadata": {},
   "source": [
    "🚩 **Exercise 9:** Write a loop that prints out all the vowels from the variable `alphabet`."
   ]
  },
  {
   "cell_type": "code",
   "execution_count": null,
   "id": "d4d06c12",
   "metadata": {},
   "outputs": [],
   "source": [
    "alphabet = \"abcdefghijklmnopqrstuvwyxz\""
   ]
  },
  {
   "cell_type": "markdown",
   "id": "63b559a0",
   "metadata": {},
   "source": [
    "🚩 **Exercise 10:** Pick 3 country names and print out all the vowels using your new function"
   ]
  },
  {
   "cell_type": "code",
   "execution_count": null,
   "id": "f816dcd3",
   "metadata": {},
   "outputs": [],
   "source": []
  },
  {
   "cell_type": "markdown",
   "id": "87fe4cb5",
   "metadata": {},
   "source": [
    "## Lists\n",
    "\n",
    "Remember, a list is a way of storing information that we can use later. It is a sequence of values and they are very useful! These are all lists:"
   ]
  },
  {
   "cell_type": "code",
   "execution_count": null,
   "id": "b0c736ff",
   "metadata": {},
   "outputs": [],
   "source": [
    "[10,20,30,40]\n",
    "['frog', 'horse', 'dog']\n",
    "[1, 'apple', 'potato']"
   ]
  },
  {
   "cell_type": "markdown",
   "id": "535315c6",
   "metadata": {},
   "source": [
    "We can store lists in variables, this will be the most useful way to use lists,"
   ]
  },
  {
   "cell_type": "code",
   "execution_count": 8,
   "id": "56d0301a",
   "metadata": {},
   "outputs": [],
   "source": [
    "numbers = [1,2,3]\n",
    "fruits=['apple','banana','tomato']"
   ]
  },
  {
   "cell_type": "markdown",
   "id": "3449b63b",
   "metadata": {},
   "source": [
    "We access elements of a list using square brackets, (remember we start counting from zero)"
   ]
  },
  {
   "cell_type": "code",
   "execution_count": 5,
   "id": "be04cf20",
   "metadata": {},
   "outputs": [
    {
     "name": "stdout",
     "output_type": "stream",
     "text": [
      "apple\n"
     ]
    }
   ],
   "source": [
    "print(fruits[0])"
   ]
  },
  {
   "cell_type": "code",
   "execution_count": null,
   "id": "66bb9d33",
   "metadata": {},
   "outputs": [],
   "source": []
  },
  {
   "cell_type": "markdown",
   "id": "146ea773",
   "metadata": {},
   "source": [
    "🚩 **Exercise 11:** Make a list called names that has the names of everyone in class today. "
   ]
  },
  {
   "cell_type": "code",
   "execution_count": null,
   "id": "31d5e84d",
   "metadata": {},
   "outputs": [],
   "source": []
  },
  {
   "cell_type": "markdown",
   "id": "011d1592",
   "metadata": {},
   "source": [
    "🚩 **Exercise 12:** Make a list called food that has your favourite three foods."
   ]
  },
  {
   "cell_type": "code",
   "execution_count": null,
   "id": "6ad30c8c",
   "metadata": {},
   "outputs": [],
   "source": []
  },
  {
   "cell_type": "markdown",
   "id": "95b629da",
   "metadata": {},
   "source": [
    "🚩 **Exercise 13:** Make a list called sports that has three sports you have played"
   ]
  },
  {
   "cell_type": "code",
   "execution_count": null,
   "id": "7ee715e3",
   "metadata": {},
   "outputs": [],
   "source": []
  },
  {
   "cell_type": "markdown",
   "id": "1f9d8946",
   "metadata": {},
   "source": [
    "🚩 **Exercise 14:** Make a list called numbers that has 10 numbers from 0 to 100, pick them randomly!"
   ]
  },
  {
   "cell_type": "code",
   "execution_count": null,
   "id": "ae032fa5",
   "metadata": {},
   "outputs": [],
   "source": []
  },
  {
   "cell_type": "markdown",
   "id": "7e61ba8e",
   "metadata": {},
   "source": [
    "🚩 **Exercise 15:** Print out the 3rd element of your names list"
   ]
  },
  {
   "cell_type": "code",
   "execution_count": null,
   "id": "41d0600e",
   "metadata": {},
   "outputs": [],
   "source": []
  },
  {
   "cell_type": "markdown",
   "id": "f697c2f9",
   "metadata": {},
   "source": [
    "🚩 **Exercise 16:** Print out the 1st element of your foods list"
   ]
  },
  {
   "cell_type": "code",
   "execution_count": null,
   "id": "48a6c4cb",
   "metadata": {},
   "outputs": [],
   "source": []
  },
  {
   "cell_type": "markdown",
   "id": "44aa1dd4",
   "metadata": {},
   "source": [
    "🚩 **Exercise 17:** Print out the last sport in your list"
   ]
  },
  {
   "cell_type": "code",
   "execution_count": null,
   "id": "16c13817",
   "metadata": {},
   "outputs": [],
   "source": []
  },
  {
   "cell_type": "markdown",
   "id": "4b9277b1",
   "metadata": {},
   "source": [
    "🚩 **Exercise 18:** Print out the last number from your list of numbers."
   ]
  },
  {
   "cell_type": "code",
   "execution_count": null,
   "id": "5eff0d5d",
   "metadata": {},
   "outputs": [],
   "source": []
  },
  {
   "cell_type": "markdown",
   "id": "8d1e3221",
   "metadata": {},
   "source": [
    "Here are two useful functions. `append` adds an element to the list and `pop` removes an element from the list,"
   ]
  },
  {
   "cell_type": "code",
   "execution_count": 9,
   "id": "7ba0c946",
   "metadata": {},
   "outputs": [
    {
     "name": "stdout",
     "output_type": "stream",
     "text": [
      "['apple', 'banana', 'tomato', 'melon']\n"
     ]
    }
   ],
   "source": [
    "fruits.append('melon')\n",
    "print(fruits)"
   ]
  },
  {
   "cell_type": "code",
   "execution_count": 10,
   "id": "a0046f57",
   "metadata": {},
   "outputs": [
    {
     "name": "stdout",
     "output_type": "stream",
     "text": [
      "['banana', 'tomato', 'melon']\n"
     ]
    }
   ],
   "source": [
    "fruits.pop(0)\n",
    "print(fruits)"
   ]
  },
  {
   "cell_type": "markdown",
   "id": "adb3a5f3",
   "metadata": {},
   "source": [
    "🚩 **Exercise 19:** Add another name to your list of names."
   ]
  },
  {
   "cell_type": "code",
   "execution_count": null,
   "id": "97ca3dba",
   "metadata": {},
   "outputs": [],
   "source": []
  },
  {
   "cell_type": "markdown",
   "id": "3a21cca2",
   "metadata": {},
   "source": [
    "🚩 **Exercise 20:** Take away the 2nd element of your food list."
   ]
  },
  {
   "cell_type": "code",
   "execution_count": null,
   "id": "c874780b",
   "metadata": {},
   "outputs": [],
   "source": []
  },
  {
   "cell_type": "markdown",
   "id": "12ec9f08",
   "metadata": {},
   "source": [
    "🚩 **Exercise 21:** Add two Olympic sports to your list of sports."
   ]
  },
  {
   "cell_type": "code",
   "execution_count": null,
   "id": "ea524bff",
   "metadata": {},
   "outputs": [],
   "source": []
  },
  {
   "cell_type": "markdown",
   "id": "a26890fd",
   "metadata": {},
   "source": [
    "🚩 **Exercise 22:** Remove the first and second numbers from your list of numbers."
   ]
  },
  {
   "cell_type": "code",
   "execution_count": null,
   "id": "a100638c",
   "metadata": {},
   "outputs": [],
   "source": []
  },
  {
   "cell_type": "markdown",
   "id": "bdace3cf",
   "metadata": {},
   "source": [
    "## Turtle"
   ]
  },
  {
   "cell_type": "code",
   "execution_count": 12,
   "id": "75b3fdf7",
   "metadata": {
    "scrolled": true
   },
   "outputs": [
    {
     "ename": "Terminator",
     "evalue": "",
     "output_type": "error",
     "traceback": [
      "\u001b[1;31m---------------------------------------------------------------------------\u001b[0m",
      "\u001b[1;31mTerminator\u001b[0m                                Traceback (most recent call last)",
      "\u001b[1;32m~\\AppData\\Local\\Temp/ipykernel_12496/3816184913.py\u001b[0m in \u001b[0;36m<module>\u001b[1;34m\u001b[0m\n\u001b[0;32m     14\u001b[0m \u001b[1;33m\u001b[0m\u001b[0m\n\u001b[0;32m     15\u001b[0m \u001b[0mturtle\u001b[0m\u001b[1;33m.\u001b[0m\u001b[0mdone\u001b[0m\u001b[1;33m(\u001b[0m\u001b[1;33m)\u001b[0m\u001b[1;33m\u001b[0m\u001b[1;33m\u001b[0m\u001b[0m\n\u001b[1;32m---> 16\u001b[1;33m \u001b[0mturtle\u001b[0m\u001b[1;33m.\u001b[0m\u001b[0mbye\u001b[0m\u001b[1;33m(\u001b[0m\u001b[1;33m)\u001b[0m\u001b[1;33m\u001b[0m\u001b[1;33m\u001b[0m\u001b[0m\n\u001b[0m",
      "\u001b[1;32m~\\anaconda3\\lib\\turtle.py\u001b[0m in \u001b[0;36mbye\u001b[1;34m()\u001b[0m\n",
      "\u001b[1;31mTerminator\u001b[0m: "
     ]
    }
   ],
   "source": [
    "import turtle\n",
    "\n",
    "bob = turtle.Turtle()\n",
    "\n",
    "bob.fd(100)\n",
    "\n",
    "bob.lt(90)\n",
    "\n",
    "bob.fd(100)\n",
    "\n",
    "bob.rt(90)\n",
    "\n",
    "bob.fd(100)\n",
    "\n",
    "turtle.done()\n",
    "turtle.bye()"
   ]
  },
  {
   "cell_type": "markdown",
   "id": "303cd2dd",
   "metadata": {},
   "source": [
    "🚩 **Exercise 23:** Make the turtle draw a square!"
   ]
  },
  {
   "cell_type": "code",
   "execution_count": null,
   "id": "21406246",
   "metadata": {},
   "outputs": [],
   "source": []
  },
  {
   "cell_type": "markdown",
   "id": "4c7952d8",
   "metadata": {},
   "source": [
    "🚩 **Exercise 24:** Make the turtle draw a triangle!"
   ]
  },
  {
   "cell_type": "code",
   "execution_count": null,
   "id": "ee90b3df",
   "metadata": {},
   "outputs": [],
   "source": []
  }
 ],
 "metadata": {
  "kernelspec": {
   "display_name": "Python 3 (ipykernel)",
   "language": "python",
   "name": "python3"
  },
  "language_info": {
   "codemirror_mode": {
    "name": "ipython",
    "version": 3
   },
   "file_extension": ".py",
   "mimetype": "text/x-python",
   "name": "python",
   "nbconvert_exporter": "python",
   "pygments_lexer": "ipython3",
   "version": "3.8.12"
  }
 },
 "nbformat": 4,
 "nbformat_minor": 5
}
