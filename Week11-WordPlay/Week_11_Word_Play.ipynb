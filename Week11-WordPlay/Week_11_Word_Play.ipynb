{
 "cells": [
  {
   "cell_type": "markdown",
   "id": "29c877e6",
   "metadata": {},
   "source": [
    "# Introduction to Python - Word Play\n",
    "\n",
    "**Remember:** This is a Jupyter notebook, an application that allows us to write code and view exercises easily.\n",
    "\n",
    "Like Spyder, Jupyter notebooks have cells (Markdown and Code cells) that allow us to separate code and text. Remember that the code cells have `In [ ]:` on the left hand side!\n",
    "\n",
    "## Let's Try\n",
    "\n",
    "**Remember** You can run the next cell using the \"<kbd>|> Run</kbd>\" button on the toolbar above, or you can press <kbd>Ctrl</kbd> + <kbd>Enter</kbd>.\n"
   ]
  },
  {
   "cell_type": "markdown",
   "id": "b1a54d55",
   "metadata": {},
   "source": [
    "🚩 **Exercise:** Run the next cell to make sure that your notebook is working!"
   ]
  },
  {
   "cell_type": "code",
   "execution_count": 1,
   "id": "5464cf1b",
   "metadata": {},
   "outputs": [
    {
     "name": "stdout",
     "output_type": "stream",
     "text": [
      "Welcome to the Word Play in Python!\n"
     ]
    }
   ],
   "source": [
    "print('Welcome to the Word Play in Python!')"
   ]
  },
  {
   "cell_type": "markdown",
   "id": "3438c438",
   "metadata": {},
   "source": [
    "# Warmup - Last Time (Strings)\n",
    "\n",
    "Let's see if you can remember what we worked on last week!\n"
   ]
  },
  {
   "cell_type": "markdown",
   "id": "944e8ee3",
   "metadata": {},
   "source": [
    "🚩 **Warmup 1:** What are the three important coding structures that we have been looking at? (Hint: `if`, `def` and `for`)"
   ]
  },
  {
   "cell_type": "markdown",
   "id": "26328f45",
   "metadata": {},
   "source": [
    "🚩 **Warmup 2:** What does this code do?"
   ]
  },
  {
   "cell_type": "code",
   "execution_count": null,
   "id": "1397916c",
   "metadata": {},
   "outputs": [],
   "source": [
    "message4 = \"hello\"\n",
    "message5 = \"your name\"\n",
    "print(len(message4), len(message5))"
   ]
  },
  {
   "cell_type": "markdown",
   "id": "bd8557e4",
   "metadata": {},
   "source": [
    "🚩 **Warmup 3:** What does this code do?"
   ]
  },
  {
   "cell_type": "code",
   "execution_count": null,
   "id": "3b8f73ec",
   "metadata": {},
   "outputs": [],
   "source": [
    "def print_a_message(name, age):\n",
    "    print(f'Hello {name}, I know that you are {age} years old!')\n",
    "    \n",
    "print_a_message('James', 100)"
   ]
  },
  {
   "cell_type": "markdown",
   "id": "9392ad75",
   "metadata": {},
   "source": [
    "🚩 **Warmup 4:** What does this code do?"
   ]
  },
  {
   "cell_type": "code",
   "execution_count": null,
   "id": "be59bef8",
   "metadata": {
    "scrolled": true
   },
   "outputs": [],
   "source": [
    "name = \"Shannon\"\n",
    "message1 = \"Hello my name is Mark\"\n",
    "message2 = \"Waffle \" + \"waffle \" + \"waffle\"\n",
    "message3 = f\"Hello {name}\"\n",
    "\n",
    "print(message1[4])\n",
    "print(message1[-3])"
   ]
  },
  {
   "cell_type": "markdown",
   "id": "e4616c29",
   "metadata": {},
   "source": [
    "🚩 **Warmup 5:** What does this code do?"
   ]
  },
  {
   "cell_type": "code",
   "execution_count": null,
   "id": "e8483896",
   "metadata": {},
   "outputs": [],
   "source": [
    "print(message2[10])\n",
    "print(message3[len(message3)-4])"
   ]
  },
  {
   "cell_type": "markdown",
   "id": "e5497bb5",
   "metadata": {},
   "source": [
    "# This Week - Words\n",
    "\n",
    "This week we are going to look at all the words in the English Language.\n",
    "\n",
    "We will use the string coding that we did last week to investigate some of the words.\n"
   ]
  },
  {
   "cell_type": "markdown",
   "id": "4ee984a9",
   "metadata": {},
   "source": [
    "corpus "
   ]
  },
  {
   "cell_type": "markdown",
   "id": "7c54fddf",
   "metadata": {},
   "source": [
    "## Load Words"
   ]
  },
  {
   "cell_type": "markdown",
   "id": "309c2fa5",
   "metadata": {},
   "source": [
    "First, we need to load all the words from the text file, you can find the text file here:\n",
    "\n",
    "https://github.com/AllenDowney/ThinkPython2/blob/master/code/words.txt\n",
    "\n",
    "**Note:** Make sure the file `words.txt` is in the same folder as this Jupyter file.\n",
    "\n",
    "🚩 Now let's load the file."
   ]
  },
  {
   "cell_type": "code",
   "execution_count": 10,
   "id": "69bf357b",
   "metadata": {},
   "outputs": [
    {
     "name": "stdout",
     "output_type": "stream",
     "text": [
      "<_io.TextIOWrapper name='words.txt' mode='r' encoding='cp1252'>\n"
     ]
    }
   ],
   "source": [
    "words_file = open('words.txt')\n",
    "print(words_file)"
   ]
  },
  {
   "cell_type": "markdown",
   "id": "42a4c824",
   "metadata": {},
   "source": [
    "It has been loaded into a strange object, now, let's extract the lines from the object and print the first 100 words. "
   ]
  },
  {
   "cell_type": "code",
   "execution_count": 11,
   "id": "5bdcc33f",
   "metadata": {},
   "outputs": [
    {
     "name": "stdout",
     "output_type": "stream",
     "text": [
      "['aa\\n', 'aah\\n', 'aahed\\n', 'aahing\\n', 'aahs\\n', 'aal\\n', 'aalii\\n', 'aaliis\\n', 'aals\\n', 'aardvark\\n', 'aardvarks\\n', 'aardwolf\\n', 'aardwolves\\n', 'aas\\n', 'aasvogel\\n', 'aasvogels\\n', 'aba\\n', 'abaca\\n', 'abacas\\n', 'abaci\\n', 'aback\\n', 'abacus\\n', 'abacuses\\n', 'abaft\\n', 'abaka\\n', 'abakas\\n', 'abalone\\n', 'abalones\\n', 'abamp\\n', 'abampere\\n', 'abamperes\\n', 'abamps\\n', 'abandon\\n', 'abandoned\\n', 'abandoning\\n', 'abandonment\\n', 'abandonments\\n', 'abandons\\n', 'abas\\n', 'abase\\n', 'abased\\n', 'abasedly\\n', 'abasement\\n', 'abasements\\n', 'abaser\\n', 'abasers\\n', 'abases\\n', 'abash\\n', 'abashed\\n', 'abashes\\n', 'abashing\\n', 'abasing\\n', 'abatable\\n', 'abate\\n', 'abated\\n', 'abatement\\n', 'abatements\\n', 'abater\\n', 'abaters\\n', 'abates\\n', 'abating\\n', 'abatis\\n', 'abatises\\n', 'abator\\n', 'abators\\n', 'abattis\\n', 'abattises\\n', 'abattoir\\n', 'abattoirs\\n', 'abaxial\\n', 'abaxile\\n', 'abbacies\\n', 'abbacy\\n', 'abbatial\\n', 'abbe\\n', 'abbes\\n', 'abbess\\n', 'abbesses\\n', 'abbey\\n', 'abbeys\\n', 'abbot\\n', 'abbotcies\\n', 'abbotcy\\n', 'abbots\\n', 'abbreviate\\n', 'abbreviated\\n', 'abbreviates\\n', 'abbreviating\\n', 'abbreviation\\n', 'abbreviations\\n', 'abdicate\\n', 'abdicated\\n', 'abdicates\\n', 'abdicating\\n', 'abdication\\n', 'abdications\\n', 'abdomen\\n', 'abdomens\\n', 'abdomina\\n', 'abdominal\\n']\n"
     ]
    }
   ],
   "source": [
    "words = []\n",
    "\n",
    "for line in words_file:\n",
    "    words.append(line)\n",
    "    \n",
    "print(words[:100])"
   ]
  },
  {
   "cell_type": "markdown",
   "id": "a0bf12c7",
   "metadata": {},
   "source": [
    "🚩 What is wrong with all these words?"
   ]
  },
  {
   "cell_type": "code",
   "execution_count": 14,
   "id": "3292730a",
   "metadata": {},
   "outputs": [
    {
     "name": "stdout",
     "output_type": "stream",
     "text": [
      "['aa', 'aah', 'aahed', 'aahing', 'aahs', 'aal', 'aalii', 'aaliis', 'aals', 'aardvark', 'aardvarks', 'aardwolf', 'aardwolves', 'aas', 'aasvogel', 'aasvogels', 'aba', 'abaca', 'abacas', 'abaci', 'aback', 'abacus', 'abacuses', 'abaft', 'abaka', 'abakas', 'abalone', 'abalones', 'abamp', 'abampere', 'abamperes', 'abamps', 'abandon', 'abandoned', 'abandoning', 'abandonment', 'abandonments', 'abandons', 'abas', 'abase', 'abased', 'abasedly', 'abasement', 'abasements', 'abaser', 'abasers', 'abases', 'abash', 'abashed', 'abashes', 'abashing', 'abasing', 'abatable', 'abate', 'abated', 'abatement', 'abatements', 'abater', 'abaters', 'abates', 'abating', 'abatis', 'abatises', 'abator', 'abators', 'abattis', 'abattises', 'abattoir', 'abattoirs', 'abaxial', 'abaxile', 'abbacies', 'abbacy', 'abbatial', 'abbe', 'abbes', 'abbess', 'abbesses', 'abbey', 'abbeys', 'abbot', 'abbotcies', 'abbotcy', 'abbots', 'abbreviate', 'abbreviated', 'abbreviates', 'abbreviating', 'abbreviation', 'abbreviations', 'abdicate', 'abdicated', 'abdicates', 'abdicating', 'abdication', 'abdications', 'abdomen', 'abdomens', 'abdomina', 'abdominal']\n"
     ]
    }
   ],
   "source": [
    "words_file = open('words.txt')\n",
    "\n",
    "words = []\n",
    "\n",
    "for line in words_file:\n",
    "    words.append(line.strip())\n",
    "\n",
    "print(words[:100])"
   ]
  },
  {
   "cell_type": "markdown",
   "id": "cc9d16a9",
   "metadata": {},
   "source": [
    "Much Better!"
   ]
  },
  {
   "cell_type": "markdown",
   "id": "427c2fa5",
   "metadata": {},
   "source": [
    "## Exercises"
   ]
  },
  {
   "cell_type": "markdown",
   "id": "fcbbc1e8",
   "metadata": {},
   "source": [
    "🚩 **Exercise 1:** Find all the words with more than 15, 16, 17 characters. (Hint: Use a for loop)"
   ]
  },
  {
   "cell_type": "code",
   "execution_count": null,
   "id": "61202e29",
   "metadata": {},
   "outputs": [],
   "source": []
  },
  {
   "cell_type": "markdown",
   "id": "1b5e8a6d",
   "metadata": {},
   "source": [
    "🚩 **Exercise 2:** Everyone pick a random word from the list. Let's find out what they mean (Hint: `random.randrange(a,b)` finds a random number between a and b)"
   ]
  },
  {
   "cell_type": "code",
   "execution_count": null,
   "id": "fda7cecd",
   "metadata": {},
   "outputs": [],
   "source": []
  },
  {
   "cell_type": "markdown",
   "id": "a7113c2d",
   "metadata": {},
   "source": [
    "🚩 **Exercise 3:**  In 1939, Ernest Wright published a 50,000 word novel, Gadsby, without the letter ‘e’, which is the most common in the English language. Write a function that checks if a word has an ‘e’. "
   ]
  },
  {
   "cell_type": "code",
   "execution_count": null,
   "id": "1fa7d502",
   "metadata": {},
   "outputs": [],
   "source": []
  },
  {
   "cell_type": "markdown",
   "id": "9782ee1d",
   "metadata": {},
   "source": [
    "🚩 **Exercise 4:** Then make a list with all the words with a letter ‘e’. What percentage of English words have a letter ‘e’?\n"
   ]
  },
  {
   "cell_type": "code",
   "execution_count": null,
   "id": "2adc246b",
   "metadata": {},
   "outputs": [],
   "source": []
  },
  {
   "cell_type": "markdown",
   "id": "70ef34c1",
   "metadata": {},
   "source": [
    "🚩 **Exercise 5:**  Let’s make our code more general, change has_e to a new function has_letter(word, letter), that returns True if the word has the letter and false otherwise. \n"
   ]
  },
  {
   "cell_type": "code",
   "execution_count": null,
   "id": "c8d620d2",
   "metadata": {},
   "outputs": [],
   "source": []
  },
  {
   "cell_type": "markdown",
   "id": "ccb45371",
   "metadata": {},
   "source": [
    "🚩 **Exercise 6:**  Now check other letters with our code, what is the second most common letter? What is the least common letter?"
   ]
  },
  {
   "cell_type": "code",
   "execution_count": null,
   "id": "77b3049b",
   "metadata": {},
   "outputs": [],
   "source": []
  },
  {
   "cell_type": "markdown",
   "id": "6e15962b",
   "metadata": {},
   "source": [
    "🚩 **Exercise 7:**  Write a function avoid that takes a word and a string of forbidden letters, and returns True if the word doesn’t use any of the forbidden letters. Then find four forbidden letters that exclude the fewest, the most, and all words."
   ]
  },
  {
   "cell_type": "code",
   "execution_count": null,
   "id": "457436ed",
   "metadata": {},
   "outputs": [],
   "source": []
  },
  {
   "cell_type": "markdown",
   "id": "4ffe2b8d",
   "metadata": {},
   "source": [
    "🚩 **Exercise 8:**  What are all the words that don’t use any vowels? Let’s find the definition of some of them!"
   ]
  },
  {
   "cell_type": "code",
   "execution_count": null,
   "id": "593d71d0",
   "metadata": {},
   "outputs": [],
   "source": []
  },
  {
   "cell_type": "markdown",
   "id": "659b14ea",
   "metadata": {},
   "source": [
    "🚩 **Exercise 9:**  Write a function called uses_only that takes a word and a string of letters. Then returns True if the word contains only those letters. "
   ]
  },
  {
   "cell_type": "code",
   "execution_count": null,
   "id": "c4943cc1",
   "metadata": {},
   "outputs": [],
   "source": []
  },
  {
   "cell_type": "markdown",
   "id": "4bd44565",
   "metadata": {},
   "source": [
    "🚩 **Exercise 10**  Can you make a sentence with the letters ‘acefhlo’?  "
   ]
  },
  {
   "cell_type": "code",
   "execution_count": null,
   "id": "f75e9cea",
   "metadata": {},
   "outputs": [],
   "source": []
  },
  {
   "cell_type": "markdown",
   "id": "26c528b9",
   "metadata": {},
   "source": [
    "🚩 **Exercise 11:** Can you make a sentence with the letters ‘gehac’? \n"
   ]
  },
  {
   "cell_type": "code",
   "execution_count": null,
   "id": "4bb942a1",
   "metadata": {},
   "outputs": [],
   "source": []
  },
  {
   "cell_type": "markdown",
   "id": "e0010d37",
   "metadata": {},
   "source": [
    "🚩 **Exercise 12:**  Can you make a sentence with the letters of your name? What about your full name?"
   ]
  },
  {
   "cell_type": "code",
   "execution_count": null,
   "id": "5724657c",
   "metadata": {},
   "outputs": [],
   "source": []
  },
  {
   "cell_type": "markdown",
   "id": "34681b9d",
   "metadata": {},
   "source": [
    "🚩 **Exercise 13**  Write a function called uses_all that takes a word and a string of required letters, it should return true if the word uses all the required letters at least once. "
   ]
  },
  {
   "cell_type": "code",
   "execution_count": null,
   "id": "35da5e93",
   "metadata": {},
   "outputs": [],
   "source": []
  },
  {
   "cell_type": "markdown",
   "id": "487d35a6",
   "metadata": {},
   "source": [
    "🚩 **Exercise 14:**  How many words are there that use all the vowels?"
   ]
  },
  {
   "cell_type": "code",
   "execution_count": null,
   "id": "60715ce4",
   "metadata": {},
   "outputs": [],
   "source": []
  },
  {
   "cell_type": "markdown",
   "id": "7b4ff71f",
   "metadata": {},
   "source": [
    "🚩 **Exercise 15:**  How many words are there that use all the letters of your name? Can you make a sentence with them?"
   ]
  },
  {
   "cell_type": "code",
   "execution_count": null,
   "id": "84932b32",
   "metadata": {},
   "outputs": [],
   "source": []
  },
  {
   "cell_type": "markdown",
   "id": "7b50b954",
   "metadata": {},
   "source": [
    "🚩 **Exercise 16:**  A word is called abecedarian if its letters are in alphabetical order, write a function that returns true if the word is abercedarain."
   ]
  },
  {
   "cell_type": "code",
   "execution_count": null,
   "id": "bc412f2c",
   "metadata": {},
   "outputs": [],
   "source": []
  },
  {
   "cell_type": "markdown",
   "id": "61f11b60",
   "metadata": {},
   "source": [
    "🚩 **Exercise 17:**  How many words are in alphabetical order?"
   ]
  },
  {
   "cell_type": "code",
   "execution_count": null,
   "id": "7bfd8410",
   "metadata": {},
   "outputs": [],
   "source": []
  },
  {
   "cell_type": "markdown",
   "id": "8ff7d8fb",
   "metadata": {},
   "source": [
    "🚩 **Exercise 18:**  Can you make a sentence with them?"
   ]
  },
  {
   "cell_type": "code",
   "execution_count": null,
   "id": "306d6fcc",
   "metadata": {},
   "outputs": [],
   "source": []
  },
  {
   "cell_type": "markdown",
   "id": "3751d968",
   "metadata": {},
   "source": [
    "\n",
    "\n"
   ]
  }
 ],
 "metadata": {
  "kernelspec": {
   "display_name": "Python 3 (ipykernel)",
   "language": "python",
   "name": "python3"
  },
  "language_info": {
   "codemirror_mode": {
    "name": "ipython",
    "version": 3
   },
   "file_extension": ".py",
   "mimetype": "text/x-python",
   "name": "python",
   "nbconvert_exporter": "python",
   "pygments_lexer": "ipython3",
   "version": "3.8.12"
  },
  "toc": {
   "base_numbering": 1,
   "nav_menu": {},
   "number_sections": true,
   "sideBar": true,
   "skip_h1_title": false,
   "title_cell": "Table of Contents",
   "title_sidebar": "Contents",
   "toc_cell": false,
   "toc_position": {},
   "toc_section_display": true,
   "toc_window_display": false
  }
 },
 "nbformat": 4,
 "nbformat_minor": 5
}
