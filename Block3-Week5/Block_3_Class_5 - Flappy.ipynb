{
 "cells": [
  {
   "cell_type": "markdown",
   "id": "29c877e6",
   "metadata": {},
   "source": [
    "\n",
    "# Introduction to Python - Block 3 Week 5 - Flappy\n",
    "\n",
    "Now, we are going to try a new worksheet style in this block, this should help us to see the exercises more easily while working on them. This is a Jupyter notebook, that allows for us to write code and display the information easily.\n",
    "\n",
    "Like Spyder, Jupyter notebooks have cells (Markdown and Code cells) that allow us to separate code and text.\n",
    "\n",
    "## Let's Try\n",
    "\n",
    "You can run the next cell using the \"<kbd>>| Run</kbd>\" button on the toolbar above, or press <kbd>Ctrl</kbd> + <kbd>Enter</kbd>.\n"
   ]
  },
  {
   "cell_type": "code",
   "execution_count": 1,
   "id": "5464cf1b",
   "metadata": {},
   "outputs": [
    {
     "name": "stdout",
     "output_type": "stream",
     "text": [
      "Welcome to Flappy!\n"
     ]
    }
   ],
   "source": [
    "print(\"Welcome to Flappy!\")"
   ]
  },
  {
   "cell_type": "markdown",
   "id": "fa115c71",
   "metadata": {},
   "source": [
    "## Warmup - Last Week\n",
    "\n",
    "Let's see if you can remember what we worked on last week!\n",
    "\n",
    "🚩 **Warmup 1:** How does Python store variables? (Hint: Drawers)\n",
    "\n",
    "🚩 **Warmup 2:** What do the drawers look like in this code here?"
   ]
  },
  {
   "cell_type": "code",
   "execution_count": 2,
   "id": "2a842393",
   "metadata": {},
   "outputs": [
    {
     "name": "stdout",
     "output_type": "stream",
     "text": [
      "6.5\n"
     ]
    }
   ],
   "source": [
    "a = 0.5\n",
    "b = 6\n",
    "c = a + b\n",
    "print(c)"
   ]
  },
  {
   "cell_type": "markdown",
   "id": "a9c1aa61",
   "metadata": {},
   "source": [
    "🚩 **Warmup 3:** If our function is $F(x, y) = 2x + 3y$. What are F(5,4) and F(9,8)? Can you write a Python function to check your answer?"
   ]
  },
  {
   "cell_type": "code",
   "execution_count": null,
   "id": "81b61aa2",
   "metadata": {},
   "outputs": [],
   "source": []
  },
  {
   "cell_type": "markdown",
   "id": "ed404702",
   "metadata": {},
   "source": [
    "🚩 **Warmup 5:** How does Python store functions? (Hint: Library)\n",
    "\n",
    "🚩 **Warmup 6:** What does it mean to **define** and then **call** a function? (Hint: Library)"
   ]
  },
  {
   "cell_type": "markdown",
   "id": "73ad3408",
   "metadata": {},
   "source": [
    "# Lesson Aims\n",
    "\n",
    "Today we are going to:\n",
    "- Code Flappy bird in Python\n",
    "- Make Changes to the code"
   ]
  },
  {
   "cell_type": "markdown",
   "id": "a47aa32c",
   "metadata": {},
   "source": [
    "# Exercises - This Week"
   ]
  },
  {
   "cell_type": "markdown",
   "id": "d0940bf8",
   "metadata": {},
   "source": [
    "Today, we are going to have a look at a different game from the freegames module. Today we are going to code flappy! First we need to install freegames on Jupyter. Just run this code:"
   ]
  },
  {
   "cell_type": "code",
   "execution_count": 3,
   "id": "b5bcb51c",
   "metadata": {},
   "outputs": [
    {
     "name": "stdout",
     "output_type": "stream",
     "text": [
      "Requirement already satisfied: freegames in c:\\users\\mark\\anaconda3\\lib\\site-packages (2.4.0)\n",
      "Note: you may need to restart the kernel to use updated packages.\n"
     ]
    }
   ],
   "source": [
    "pip install freegames"
   ]
  },
  {
   "cell_type": "markdown",
   "id": "67009c32",
   "metadata": {},
   "source": [
    "Now, we need to import the correct modules that we are going to need,"
   ]
  },
  {
   "cell_type": "code",
   "execution_count": 4,
   "id": "d923cce9",
   "metadata": {},
   "outputs": [],
   "source": [
    "from random import *\n",
    "from turtle import *\n",
    "\n",
    "from freegames import vector"
   ]
  },
  {
   "cell_type": "code",
   "execution_count": 5,
   "id": "8a19dd85",
   "metadata": {},
   "outputs": [
    {
     "data": {
      "text/plain": [
       "5"
      ]
     },
     "execution_count": 5,
     "metadata": {},
     "output_type": "execute_result"
    }
   ],
   "source": [
    "vector1 = vector(1, 5)\n",
    "\n",
    "vector1.y"
   ]
  },
  {
   "cell_type": "markdown",
   "id": "f6133bac",
   "metadata": {},
   "source": [
    "Let's make a function that moves our bird around on the screen\n",
    "\n",
    "🚩 **Exercise 1:** Change the amount that the bird moves to 50, 100 and 10. Count your high score\n",
    "- 50 =>\n",
    "- 100 =>\n",
    "- 10 =>"
   ]
  },
  {
   "cell_type": "code",
   "execution_count": 6,
   "id": "fa84caf1",
   "metadata": {},
   "outputs": [],
   "source": [
    "def tap(x, y):\n",
    "    \"\"\"Move bird up in response to screen tap.\"\"\"\n",
    "    up = vector(0, 30)\n",
    "    bird.move(up)"
   ]
  },
  {
   "cell_type": "markdown",
   "id": "d098e61a",
   "metadata": {},
   "source": [
    "Let's make a function that checks if the bird is inside the screen"
   ]
  },
  {
   "cell_type": "code",
   "execution_count": 7,
   "id": "e2ef2536",
   "metadata": {},
   "outputs": [],
   "source": [
    "def inside(point):\n",
    "    \"\"\"Return True if point on screen.\"\"\"\n",
    "    return -200 < point.x < 200 and -200 < point.y < 200"
   ]
  },
  {
   "cell_type": "markdown",
   "id": "607d855e",
   "metadata": {},
   "source": [
    "This function draws everything on the screen at every interval\n",
    "\n",
    "🚩 **Exercise 2:** Stop the screen from being cleared every time step by commenting out `clear()`.\n",
    "\n",
    "🚩 **Exercise 3:** Change the size of the bird to 100 when alive.\n",
    "\n",
    "🚩 **Exercise 4:** Change the color of the bird to orange.\n",
    "\n",
    "🚩 **Exercise 5:** Change the color of the balls to yellow."
   ]
  },
  {
   "cell_type": "code",
   "execution_count": 8,
   "id": "add13376",
   "metadata": {},
   "outputs": [],
   "source": [
    "def draw(alive):               # alive is a boolean variable (True or False)\n",
    "    \"\"\"Draw screen objects.\"\"\"\n",
    "    clear()\n",
    "\n",
    "    goto(bird.x, bird.y)\n",
    "\n",
    "    if alive:            # Conditional statement \n",
    "        dot(10, 'blue')\n",
    "    else:\n",
    "        dot(10, 'red')\n",
    "\n",
    "    for ball in balls:\n",
    "        goto(ball.x, ball.y)\n",
    "        dot(30, 'green')\n",
    "\n",
    "    update()"
   ]
  },
  {
   "cell_type": "markdown",
   "id": "9310123e",
   "metadata": {},
   "source": [
    "This function runs the game by moving all the objects around every 50 miliseconds\n",
    "\n",
    "🚩 **Exercise 5:** Move the bird down faster and slower.\n",
    "\n",
    "🚩 **Exercise 6:** Make more balls appear on the screen.\n",
    "\n",
    "🚩 **Exercise 7:** Change the value of 15 on line 24 to 10, what does this do?\n",
    "\n",
    "🚩 **Exercise 8:** Make the game run faster. What should we change?"
   ]
  },
  {
   "cell_type": "code",
   "execution_count": 9,
   "id": "79cf3f44",
   "metadata": {},
   "outputs": [],
   "source": [
    "def move():\n",
    "    \"\"\"Update object positions.\"\"\"\n",
    "    global score\n",
    "    bird.y -= 5\n",
    "\n",
    "    for ball in balls:\n",
    "        ball.x -= 3\n",
    "\n",
    "    if randrange(10) == 0:\n",
    "        y = randrange(-199, 199)\n",
    "        ball = vector(199, y)\n",
    "        balls.append(ball)\n",
    "\n",
    "    while len(balls) > 0 and not inside(balls[0]):\n",
    "        balls.pop(0)\n",
    "        score += 1\n",
    "\n",
    "    if not inside(bird):\n",
    "        draw(False)\n",
    "        print(score)\n",
    "        return\n",
    "\n",
    "    for ball in balls:\n",
    "        if abs(ball - bird) < 15:\n",
    "            draw(False)\n",
    "            print(score)\n",
    "            return\n",
    "\n",
    "    draw(True)\n",
    "    ontimer(move, 30)"
   ]
  },
  {
   "cell_type": "markdown",
   "id": "263cebf5",
   "metadata": {},
   "source": [
    "This cell runs the game"
   ]
  },
  {
   "cell_type": "code",
   "execution_count": 10,
   "id": "08bc3b21",
   "metadata": {},
   "outputs": [
    {
     "name": "stdout",
     "output_type": "stream",
     "text": [
      "0\n"
     ]
    }
   ],
   "source": [
    "bird = vector(0, 0)\n",
    "balls = []\n",
    "score = 0\n",
    "\n",
    "setup(1000, 420, 370, 0)\n",
    "hideturtle()\n",
    "up()\n",
    "tracer(False)\n",
    "onscreenclick(tap)\n",
    "move()\n",
    "done()"
   ]
  },
  {
   "cell_type": "markdown",
   "id": "133c025b",
   "metadata": {},
   "source": [
    "- Turn the game upside-down\n",
    "- Change the bird colour on every tap\n",
    "- Make the balls the same colour as the bird"
   ]
  },
  {
   "cell_type": "code",
   "execution_count": null,
   "id": "2e6e9176",
   "metadata": {},
   "outputs": [],
   "source": []
  }
 ],
 "metadata": {
  "kernelspec": {
   "display_name": "Python 3 (ipykernel)",
   "language": "python",
   "name": "python3"
  },
  "language_info": {
   "codemirror_mode": {
    "name": "ipython",
    "version": 3
   },
   "file_extension": ".py",
   "mimetype": "text/x-python",
   "name": "python",
   "nbconvert_exporter": "python",
   "pygments_lexer": "ipython3",
   "version": "3.8.12"
  }
 },
 "nbformat": 4,
 "nbformat_minor": 5
}
