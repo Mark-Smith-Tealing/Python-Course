{
 "cells": [
  {
   "cell_type": "markdown",
   "id": "29c877e6",
   "metadata": {},
   "source": [
    "\n",
    "# Introduction to Python - Block 3 Week 9 - Tron\n",
    "\n",
    "Now, we are going to try a new worksheet style in this block, this should help us to see the exercises more easily while working on them. This is a Jupyter notebook, that allows for us to write code and display the information easily.\n",
    "\n",
    "Like Spyder, Jupyter notebooks have cells (Markdown and Code cells) that allow us to separate code and text.\n",
    "\n",
    "## Let's Try\n",
    "\n",
    "You can run the next cell using the \"<kbd> | > Run </kbd>\" button on the toolbar above, or press <kbd>Ctrl</kbd> + <kbd>Enter</kbd>.\n"
   ]
  },
  {
   "cell_type": "code",
   "execution_count": 8,
   "id": "5464cf1b",
   "metadata": {},
   "outputs": [
    {
     "name": "stdout",
     "output_type": "stream",
     "text": [
      "Welcome to Tron!\n"
     ]
    }
   ],
   "source": [
    "print(\"Welcome to Tron!\")"
   ]
  },
  {
   "cell_type": "markdown",
   "id": "73ad3408",
   "metadata": {},
   "source": [
    "# Lesson Aims\n",
    "\n",
    "Today we are going to:\n",
    "- Learn how the Tron game works\n",
    "- Make some changes to the code\n",
    "- Decide how we are going to code for next week"
   ]
  },
  {
   "cell_type": "markdown",
   "id": "a47aa32c",
   "metadata": {},
   "source": [
    "# Tron Code"
   ]
  },
  {
   "cell_type": "markdown",
   "id": "d0940bf8",
   "metadata": {},
   "source": [
    "Today, we are going to have a look at a different game from the freegames module. Today we are going to code Tron! First we need to install freegames on Jupyter. We should have this already installed, but just run this code to make sure."
   ]
  },
  {
   "cell_type": "code",
   "execution_count": 2,
   "id": "b5bcb51c",
   "metadata": {},
   "outputs": [
    {
     "name": "stdout",
     "output_type": "stream",
     "text": [
      "Requirement already satisfied: freegames in c:\\users\\mark\\anaconda3\\lib\\site-packages (2.4.0)\n",
      "Note: you may need to restart the kernel to use updated packages.\n"
     ]
    }
   ],
   "source": [
    "pip install freegames"
   ]
  },
  {
   "cell_type": "markdown",
   "id": "67009c32",
   "metadata": {},
   "source": [
    "Now, we need to import the correct modules that we are going to need,"
   ]
  },
  {
   "cell_type": "code",
   "execution_count": 1,
   "id": "d923cce9",
   "metadata": {},
   "outputs": [],
   "source": [
    "from turtle import *\n",
    "\n",
    "from freegames import square, vector\n",
    "from random import randrange"
   ]
  },
  {
   "cell_type": "code",
   "execution_count": 2,
   "id": "ec210cbd",
   "metadata": {},
   "outputs": [],
   "source": [
    "def inside(head):\n",
    "    \"\"\"Return True if head inside screen.\"\"\"\n",
    "    return -200 < head.x < 200 and -200 < head.y < 200"
   ]
  },
  {
   "cell_type": "code",
   "execution_count": 3,
   "id": "304c258e",
   "metadata": {},
   "outputs": [],
   "source": [
    "def change(x, y, p1=True):\n",
    "    \"Change snake direction.\"\n",
    "    if p1:\n",
    "        p1aim.x = x\n",
    "        p1aim.y = y\n",
    "        p2aim.x = x\n",
    "        p2aim.y = y"
   ]
  },
  {
   "cell_type": "code",
   "execution_count": 4,
   "id": "781bcfbd",
   "metadata": {},
   "outputs": [],
   "source": [
    "def draw():\n",
    "    \"\"\"Advance players and draw game.\"\"\"\n",
    "    p1xy.move(p1aim)\n",
    "    p1head = p1xy.copy()\n",
    "\n",
    "    p2xy.move(p2aim)\n",
    "    p2head = p2xy.copy()\n",
    "\n",
    "    if not inside(p1head) or p1head in p2body:\n",
    "        print('Player rainbow 1 wins!')\n",
    "        turtle.goto(-150, 0)\n",
    "        turtle.write(f'Game Over!! \\n Score: {score}', font = ('Arial', 40,'normal'))\n",
    "        return\n",
    "\n",
    "    if not inside(p2head) or p2head in p1body:\n",
    "        print('Player rainbow 2 wins!')\n",
    "        turtle.goto(-150, 0)\n",
    "        turtle.write(f'Game Over!! \\n Score: {score}', font = ('Arial', 40,'normal'))\n",
    "        return\n",
    "\n",
    "    p1body.add(p1head)\n",
    "    p2body.add(p2head)\n",
    "\n",
    "    square(p1xy.x, p1xy.y, 3, colours1[randrange(0,3)])\n",
    "    square(p2xy.x, p2xy.y, 3, colours2[randrange(0,3)])\n",
    "    update()\n",
    "    ontimer(draw, 100)"
   ]
  },
  {
   "cell_type": "markdown",
   "id": "263cebf5",
   "metadata": {},
   "source": [
    "This cell runs the game"
   ]
  },
  {
   "cell_type": "code",
   "execution_count": 5,
   "id": "08bc3b21",
   "metadata": {},
   "outputs": [
    {
     "name": "stdout",
     "output_type": "stream",
     "text": [
      "Player rainbow 2 wins!\n"
     ]
    },
    {
     "name": "stderr",
     "output_type": "stream",
     "text": [
      "Exception in Tkinter callback\n",
      "Traceback (most recent call last):\n",
      "  File \"C:\\Users\\mark\\anaconda3\\lib\\tkinter\\__init__.py\", line 1892, in __call__\n",
      "    return self.func(*args)\n",
      "  File \"C:\\Users\\mark\\anaconda3\\lib\\tkinter\\__init__.py\", line 814, in callit\n",
      "    func(*args)\n",
      "  File \"C:\\Users\\mark\\AppData\\Local\\Temp/ipykernel_15904/861739316.py\", line 17, in draw\n",
      "    turtle.goto(-150, 0)\n",
      "NameError: name 'turtle' is not defined\n"
     ]
    }
   ],
   "source": [
    "p1xy = vector(-100, 0)\n",
    "p1aim = vector(4, 0)\n",
    "p1body = set()\n",
    "colours1 = ['orange', 'red', 'yellow']\n",
    "\n",
    "p2xy = vector(100, 0)\n",
    "p2aim = vector(-4, 0)\n",
    "p2body = set()\n",
    "colours2 = ['blue', 'purple', 'pink']\n",
    "\n",
    "twoplayer = False\n",
    "\n",
    "setup(420, 420, 370, 0)\n",
    "hideturtle()\n",
    "tracer(False)\n",
    "listen()\n",
    "onkey(lambda: change(4, 0), 'Right')\n",
    "onkey(lambda: change(-4, 0), 'Left')\n",
    "onkey(lambda: change(0, 4), 'Up')\n",
    "onkey(lambda: change(0, -4), 'Down')\n",
    "\n",
    "draw()\n",
    "done()"
   ]
  },
  {
   "cell_type": "markdown",
   "id": "23053828",
   "metadata": {},
   "source": [
    "# Exercises - This Week"
   ]
  },
  {
   "cell_type": "markdown",
   "id": "d65ecf41",
   "metadata": {},
   "source": [
    "## First Week"
   ]
  },
  {
   "cell_type": "markdown",
   "id": "2df27931",
   "metadata": {},
   "source": [
    "Now that we know how the code works, we have already:\n",
    "\n",
    "- 🚩 **Exercise 1:** Let's print the score after the game like in the other games. How can we count the score? (Question: Why is it hard to add a score board on screen?)"
   ]
  },
  {
   "cell_type": "markdown",
   "id": "b07f2869",
   "metadata": {},
   "source": [
    "- 🚩 **Exercise 2:** Change the colours of the snakes."
   ]
  },
  {
   "cell_type": "markdown",
   "id": "4f68f1fc",
   "metadata": {},
   "source": [
    "- 🚩 **Exercise 3:** How can we change the colour of the snake after every direction change?"
   ]
  },
  {
   "cell_type": "markdown",
   "id": "3c1ce88a",
   "metadata": {},
   "source": [
    "- 🚩 **Exercise 4:** How can we end the game if the snakes crash into themselves?"
   ]
  },
  {
   "cell_type": "markdown",
   "id": "d52bef5b",
   "metadata": {},
   "source": [
    "- 🚩 **Exercise 5:** How can we write game over on the screen when you lose? (hint: `turtle.goto(x, y)` sends the turtle to coordinates x, y. `turtle.write(f'Game Over!! \\n Score: {score}', font = ('Arial', 40,'normal'))` writes the message on the screen.)"
   ]
  },
  {
   "cell_type": "markdown",
   "id": "a0a7ff40",
   "metadata": {},
   "source": [
    "- 🚩 **Exercise 6:** How can we make the game two player?"
   ]
  },
  {
   "cell_type": "markdown",
   "id": "eb9eacb0",
   "metadata": {},
   "source": [
    "🚩 Anything you want to change?\n",
    "\n",
    "- Run into our own body.\n",
    "\n",
    "- Change the head colour when the game ends or we could print a message on the screen.\n",
    "\n",
    "- Add a score"
   ]
  },
  {
   "cell_type": "markdown",
   "id": "4aa0e134",
   "metadata": {},
   "source": [
    "# Next Week"
   ]
  },
  {
   "cell_type": "markdown",
   "id": "594992b2",
   "metadata": {},
   "source": [
    "Next week we are going to make the computer play against us. So we need to come up with a way of coding the computer opponent."
   ]
  },
  {
   "cell_type": "markdown",
   "id": "5060c3a2",
   "metadata": {},
   "source": [
    "Do you have any ideas about how we can do this?"
   ]
  },
  {
   "cell_type": "code",
   "execution_count": null,
   "id": "ab499a79",
   "metadata": {},
   "outputs": [],
   "source": []
  }
 ],
 "metadata": {
  "kernelspec": {
   "display_name": "Python 3 (ipykernel)",
   "language": "python",
   "name": "python3"
  },
  "language_info": {
   "codemirror_mode": {
    "name": "ipython",
    "version": 3
   },
   "file_extension": ".py",
   "mimetype": "text/x-python",
   "name": "python",
   "nbconvert_exporter": "python",
   "pygments_lexer": "ipython3",
   "version": "3.8.12"
  },
  "toc": {
   "base_numbering": 1,
   "nav_menu": {},
   "number_sections": true,
   "sideBar": true,
   "skip_h1_title": false,
   "title_cell": "Table of Contents",
   "title_sidebar": "Contents",
   "toc_cell": false,
   "toc_position": {},
   "toc_section_display": true,
   "toc_window_display": false
  }
 },
 "nbformat": 4,
 "nbformat_minor": 5
}
