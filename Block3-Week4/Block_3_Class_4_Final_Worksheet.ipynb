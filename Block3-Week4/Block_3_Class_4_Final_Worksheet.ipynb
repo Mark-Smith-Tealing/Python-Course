{
 "cells": [
  {
   "cell_type": "markdown",
   "id": "29c877e6",
   "metadata": {},
   "source": [
    "# Introduction to Python - Block 3 Week 4\n",
    "\n",
    "Now, we are going to try a new worksheet style in this block, this should help us to see the exercises more easily while working on them. This is a Jupyter notebook, that allows for us to write code and display the information easily.\n",
    "\n",
    "Like Spyder, Jupyter notebooks have cells (Markdown and Code cells) that allow us to separate code and text.\n",
    "\n",
    "## Let's Try\n",
    "\n",
    "You can run the next cell using the \"<kbd>>| Run</kbd>\" button on the toolbar above, or press <kbd>Ctrl</kbd> + <kbd>Enter</kbd>.\n"
   ]
  },
  {
   "cell_type": "code",
   "execution_count": 1,
   "id": "15782178",
   "metadata": {
    "scrolled": true
   },
   "outputs": [
    {
     "name": "stdout",
     "output_type": "stream",
     "text": [
      "10\n"
     ]
    }
   ],
   "source": [
    "print(5+5)"
   ]
  },
  {
   "cell_type": "markdown",
   "id": "b1a54d55",
   "metadata": {},
   "source": [
    "🚩 **Exercise:** print out 'Welcome to week 2!' in the code cell below!"
   ]
  },
  {
   "cell_type": "code",
   "execution_count": 3,
   "id": "5464cf1b",
   "metadata": {},
   "outputs": [
    {
     "name": "stdout",
     "output_type": "stream",
     "text": [
      "Welcome to week 2!\n"
     ]
    }
   ],
   "source": [
    "print(\"Welcome to week 3!\")"
   ]
  },
  {
   "cell_type": "markdown",
   "id": "aa9a6519",
   "metadata": {},
   "source": [
    "## Exercises - This Week"
   ]
  },
  {
   "cell_type": "markdown",
   "id": "0863ab61",
   "metadata": {},
   "source": [
    "### Basic Conditional Statements"
   ]
  },
  {
   "cell_type": "markdown",
   "id": "bea8e9bc",
   "metadata": {},
   "source": [
    "🚩 **Exercise 1:** Write a conditional statement that checks if `x` is bigger than 10."
   ]
  },
  {
   "cell_type": "code",
   "execution_count": null,
   "id": "c827f2bb",
   "metadata": {},
   "outputs": [],
   "source": [
    "x = 5\n"
   ]
  },
  {
   "cell_type": "markdown",
   "id": "29efcbb5",
   "metadata": {},
   "source": [
    "🚩 **Exercise 2:** Write a conditional statement that checks if `y` is less than or equal to 50."
   ]
  },
  {
   "cell_type": "code",
   "execution_count": null,
   "id": "87d77d8d",
   "metadata": {},
   "outputs": [],
   "source": [
    "y = 49\n",
    "\n"
   ]
  },
  {
   "cell_type": "markdown",
   "id": "459dc0e8",
   "metadata": {},
   "source": [
    "🚩 **Exercise 3:** Write a conditional statement that checks if `w` has more than 5 letters."
   ]
  },
  {
   "cell_type": "code",
   "execution_count": 2,
   "id": "439dbdf0",
   "metadata": {},
   "outputs": [],
   "source": [
    "w = \"Helloooooooo\"\n",
    "\n"
   ]
  },
  {
   "cell_type": "markdown",
   "id": "6291f4b6",
   "metadata": {},
   "source": [
    "### Conditional Statements - using `and`, `or` and `not`"
   ]
  },
  {
   "cell_type": "markdown",
   "id": "a9daa28c",
   "metadata": {},
   "source": [
    "🚩 **Exercise 1:** Write a conditional statement that checks if `x` is bigger than 10 and less than 15."
   ]
  },
  {
   "cell_type": "code",
   "execution_count": null,
   "id": "4165e820",
   "metadata": {},
   "outputs": [],
   "source": [
    "x = 5\n"
   ]
  },
  {
   "cell_type": "markdown",
   "id": "7925d5f1",
   "metadata": {},
   "source": [
    "🚩 **Exercise 2:** Write a conditional statement that checks if `y` is less than or equal to 50 or bigger than or equal to 100."
   ]
  },
  {
   "cell_type": "code",
   "execution_count": null,
   "id": "a4d69dfd",
   "metadata": {},
   "outputs": [],
   "source": [
    "y = 49\n",
    "\n"
   ]
  },
  {
   "cell_type": "markdown",
   "id": "51d4e681",
   "metadata": {},
   "source": [
    "🚩 **Exercise 3:** Write a conditional statement that checks if `w` has more than 5 letters and less than 8 letters."
   ]
  },
  {
   "cell_type": "code",
   "execution_count": 2,
   "id": "73b4065d",
   "metadata": {},
   "outputs": [],
   "source": [
    "w = \"Helloooooooo\"\n",
    "\n"
   ]
  },
  {
   "cell_type": "markdown",
   "id": "a8140632",
   "metadata": {},
   "source": [
    "🚩 **Exercise 4:** Write a conditional statement that checks if `name` starts with a capital letter (hint: `s.isupper()` checks if the letter s is a capital letter)"
   ]
  },
  {
   "cell_type": "code",
   "execution_count": null,
   "id": "f4b5e9eb",
   "metadata": {},
   "outputs": [],
   "source": [
    "name = 'Bob'\n"
   ]
  },
  {
   "cell_type": "markdown",
   "id": "ddf4edb1",
   "metadata": {},
   "source": [
    "🚩 **Exercise 5:** Write a conditional statement that checks if `w` is not bigger than 5."
   ]
  },
  {
   "cell_type": "code",
   "execution_count": 3,
   "id": "eb48e0cf",
   "metadata": {},
   "outputs": [],
   "source": [
    "w = 3\n",
    "\n"
   ]
  },
  {
   "cell_type": "markdown",
   "id": "23c775a1",
   "metadata": {},
   "source": [
    "🚩 **Exercise 6:** Write a conditional statement that checks if `name` starts with a lower case letter (hint: `s.islower()` checks if the letter s is a lower case letter."
   ]
  },
  {
   "cell_type": "code",
   "execution_count": null,
   "id": "2df48e55",
   "metadata": {},
   "outputs": [],
   "source": [
    "name = 'jamie'\n",
    "\n"
   ]
  }
 ],
 "metadata": {
  "kernelspec": {
   "display_name": "Python 3 (ipykernel)",
   "language": "python",
   "name": "python3"
  },
  "language_info": {
   "codemirror_mode": {
    "name": "ipython",
    "version": 3
   },
   "file_extension": ".py",
   "mimetype": "text/x-python",
   "name": "python",
   "nbconvert_exporter": "python",
   "pygments_lexer": "ipython3",
   "version": "3.8.12"
  }
 },
 "nbformat": 4,
 "nbformat_minor": 5
}
