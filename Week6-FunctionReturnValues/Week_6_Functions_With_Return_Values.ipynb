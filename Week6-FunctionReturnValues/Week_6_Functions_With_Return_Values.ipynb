{
 "cells": [
  {
   "cell_type": "markdown",
   "id": "29c877e6",
   "metadata": {},
   "source": [
    "# Introduction to Python - Functions with Return Values\n",
    "\n",
    "**Remember:** This is a Jupyter notebook, an application that allows us to write code and view exercises easily.\n",
    "\n",
    "Like Spyder, Jupyter notebooks have cells (Markdown and Code cells) that allow us to separate code and text. Remember that the code cells have a `In [ ]:` on the left hand side!\n",
    "\n",
    "## Let's Try\n",
    "\n",
    "**Remember** You can run the next cell using the \"<kbd>>| Run</kbd>\" button on the toolbar above, or you can press <kbd>Ctrl</kbd> + <kbd>Enter</kbd>.\n"
   ]
  },
  {
   "cell_type": "markdown",
   "id": "b1a54d55",
   "metadata": {},
   "source": [
    "🚩 **Exercise:** Run the next cell to make sure that your notebook is working!"
   ]
  },
  {
   "cell_type": "code",
   "execution_count": null,
   "id": "5464cf1b",
   "metadata": {},
   "outputs": [],
   "source": [
    "print('Welcome to Functions with Return Values in Python!')"
   ]
  },
  {
   "cell_type": "markdown",
   "id": "3438c438",
   "metadata": {},
   "source": [
    "## Warmup - Last Time (Alternative Conditional Statements)\n",
    "\n",
    "Let's see if you can remember what we worked on last week! Here are some useful variables.\n"
   ]
  },
  {
   "cell_type": "code",
   "execution_count": null,
   "id": "b6ce2ae0",
   "metadata": {},
   "outputs": [],
   "source": [
    "x = 10\n",
    "name = 'Lucy'\n",
    "age = 15"
   ]
  },
  {
   "cell_type": "markdown",
   "id": "7137f3f5",
   "metadata": {},
   "source": [
    "🚩 **Warmup 1:** Write a conditional statement that checks if Lucy is a child (younger than 12)."
   ]
  },
  {
   "cell_type": "code",
   "execution_count": null,
   "id": "eb6bec1c",
   "metadata": {
    "scrolled": true
   },
   "outputs": [],
   "source": []
  },
  {
   "cell_type": "markdown",
   "id": "d7fc3d2e",
   "metadata": {},
   "source": [
    "🚩 **Warmup 2:** What will this code print?"
   ]
  },
  {
   "cell_type": "code",
   "execution_count": null,
   "id": "337e871d",
   "metadata": {},
   "outputs": [],
   "source": [
    "x = 10\n",
    "\n",
    "if x == 50:\n",
    "    print('X is 50')\n",
    "else:\n",
    "    print('X is not 50')"
   ]
  },
  {
   "cell_type": "markdown",
   "id": "c93315a1",
   "metadata": {},
   "source": [
    "🚩 **Warmup 3:** What will this code print?"
   ]
  },
  {
   "cell_type": "code",
   "execution_count": null,
   "id": "4f297b7d",
   "metadata": {},
   "outputs": [],
   "source": [
    "height = 105\n",
    "\n",
    "if 100<height:\n",
    "    print('You can go on the ride')"
   ]
  },
  {
   "cell_type": "markdown",
   "id": "38c9c4d9",
   "metadata": {},
   "source": [
    "🚩 **Warmup 4:** Write a conditional statement that prints `You can watch the movie` if the age is greater than 15 and the name is 'Lucy'."
   ]
  },
  {
   "cell_type": "code",
   "execution_count": null,
   "id": "8d8efaba",
   "metadata": {},
   "outputs": [],
   "source": [
    "age = 16\n",
    "name = 'Lucy'\n",
    "\n"
   ]
  },
  {
   "cell_type": "markdown",
   "id": "30b59692",
   "metadata": {},
   "source": [
    "🚩 **Warmup 5:** Will this code print `True` or `False`? (Hint: Python knows the order of the alphabet)"
   ]
  },
  {
   "cell_type": "code",
   "execution_count": null,
   "id": "78021ddf",
   "metadata": {},
   "outputs": [],
   "source": [
    "print('g'<='z')"
   ]
  },
  {
   "cell_type": "markdown",
   "id": "b99c840b",
   "metadata": {},
   "source": [
    "🚩 **Warmup 6:** We can use Python to check if words are in alphabetical order! Use Python to check if these words are in alphabetical order.\n",
    "\n",
    "- Sat\n",
    "- Sit\n",
    "- Stop\n",
    "- Slip\n",
    "- Ship\n",
    "\n",
    "a b c d e f g h i j k l m n o p q r s t u v w y x z"
   ]
  },
  {
   "cell_type": "code",
   "execution_count": null,
   "id": "498a97b8",
   "metadata": {},
   "outputs": [],
   "source": []
  },
  {
   "cell_type": "markdown",
   "id": "e5497bb5",
   "metadata": {},
   "source": [
    "## Exercises - This Week\n",
    "\n",
    "### Review - Functions\n",
    "\n",
    "🚩 **Exercise 1:** Which keyword do we use to write a function?\n",
    "\n",
    "🚩 **Exercise 2:** What does it mean to define a function?\n",
    "\n",
    "🚩 **Exercise 3:** What does it mean to call a function?\n",
    "\n",
    "🚩 **Exercise 4:** How do we remember how functions are stored by Python? (Hint: Library) "
   ]
  },
  {
   "cell_type": "markdown",
   "id": "aa9a6519",
   "metadata": {},
   "source": [
    "### Functions with Return Values\n",
    "\n",
    "We wrote these functions before with print statements, not we want to use the `return` keyword"
   ]
  },
  {
   "cell_type": "markdown",
   "id": "86deede6",
   "metadata": {},
   "source": [
    "**Remember:** We write functions like this"
   ]
  },
  {
   "cell_type": "code",
   "execution_count": 2,
   "id": "b1b38d99",
   "metadata": {},
   "outputs": [
    {
     "name": "stdout",
     "output_type": "stream",
     "text": [
      "Hello Mark!\n"
     ]
    }
   ],
   "source": [
    "def hello_to_you(name):\n",
    "    print(\"Hello \" + name + '!')\n",
    "    \n",
    "hello_to_you('Mark')"
   ]
  },
  {
   "cell_type": "markdown",
   "id": "8a8c138a",
   "metadata": {},
   "source": [
    "Now, we want to write this function with a return value, so that we can use it later in another function."
   ]
  },
  {
   "cell_type": "code",
   "execution_count": 6,
   "id": "abc54b00",
   "metadata": {},
   "outputs": [
    {
     "data": {
      "text/plain": [
       "'Hello Mark!'"
      ]
     },
     "execution_count": 6,
     "metadata": {},
     "output_type": "execute_result"
    }
   ],
   "source": [
    "def hello_to_you(name):\n",
    "    hello = \"Hello \" + name + '!'\n",
    "    return hello\n",
    "\n",
    "hello_to_you('Mark')"
   ]
  },
  {
   "cell_type": "markdown",
   "id": "14adb21d",
   "metadata": {},
   "source": [
    "🚩 **Exercise 5:** Define a function `welcome()` that prints a greeting to the screen. Then call the function. "
   ]
  },
  {
   "cell_type": "code",
   "execution_count": null,
   "id": "72843d81",
   "metadata": {},
   "outputs": [],
   "source": []
  },
  {
   "cell_type": "markdown",
   "id": "f1bc1546",
   "metadata": {},
   "source": [
    "🚩 **Exercise 6:** Define a function `display_message()` that prints one sentence telling everyone what we are learning about this week. Then call the function."
   ]
  },
  {
   "cell_type": "code",
   "execution_count": null,
   "id": "7531f0b6",
   "metadata": {},
   "outputs": [],
   "source": []
  },
  {
   "cell_type": "markdown",
   "id": "a88ed37e",
   "metadata": {},
   "source": [
    "🚩 **Exercise 7:** Define a function `goodbye()` that prints a goodbye message on the screen. Then call the function."
   ]
  },
  {
   "cell_type": "code",
   "execution_count": null,
   "id": "c62ca7ba",
   "metadata": {},
   "outputs": [],
   "source": []
  },
  {
   "cell_type": "markdown",
   "id": "e964a864",
   "metadata": {},
   "source": [
    "🚩 **Exercise 8:** Define a function `my_name_is()` that prints `\"My name is ...\"` where your name should replace the dots. Then call the function."
   ]
  },
  {
   "cell_type": "code",
   "execution_count": null,
   "id": "bc512d75",
   "metadata": {},
   "outputs": [],
   "source": []
  },
  {
   "cell_type": "markdown",
   "id": "8cd3c92d",
   "metadata": {},
   "source": [
    "**Remember:** Arguments of a function are variables that the function can use, a function can be defined with arguments like this: (Remember to add in arugment variables when you call the function)"
   ]
  },
  {
   "cell_type": "code",
   "execution_count": 7,
   "id": "7df148cf",
   "metadata": {},
   "outputs": [
    {
     "name": "stdout",
     "output_type": "stream",
     "text": [
      "9\n"
     ]
    }
   ],
   "source": [
    "def add(x, y):\n",
    "    print(x+y)\n",
    "    \n",
    "add(4,5)"
   ]
  },
  {
   "cell_type": "markdown",
   "id": "7222686d",
   "metadata": {},
   "source": [
    " 🚩 **Exercise 9:** Define a function `describe_city()` that has the name of a city and its country as arguments (`city` and `country`). The function should print a sentence such as `\"London is in the United Kingdom\"`. Then call the function. "
   ]
  },
  {
   "cell_type": "code",
   "execution_count": null,
   "id": "c2ead52f",
   "metadata": {},
   "outputs": [],
   "source": []
  },
  {
   "cell_type": "markdown",
   "id": "a8d201e5",
   "metadata": {},
   "source": [
    " 🚩 **Exercise 10:** Define a function `multiply()` that has two numbers as arguments `num1` and `num2`. The function should print out the product (multiplication) of the two numbers. Then call the function with 2 numbers."
   ]
  },
  {
   "cell_type": "code",
   "execution_count": null,
   "id": "50ee0745",
   "metadata": {},
   "outputs": [],
   "source": []
  },
  {
   "cell_type": "markdown",
   "id": "d799d597",
   "metadata": {},
   "source": [
    " 🚩 **Exercise 11:** Define a function `add()` that has two numbers as arguments `num1` and `num2`. The function should print out the sum (addition) of the two numbers. Then call the function with 2 numbers."
   ]
  },
  {
   "cell_type": "code",
   "execution_count": null,
   "id": "81e62b33",
   "metadata": {},
   "outputs": [],
   "source": []
  },
  {
   "cell_type": "markdown",
   "id": "70d34a95",
   "metadata": {},
   "source": [
    " 🚩 **Exercise 12:** Define a function `add_and_multiply()` that has three numbers as arguments `num1`, `num2` and `num3`. The function should multiply the last two numbers and then add the first. Then call the function with 3 numbers."
   ]
  },
  {
   "cell_type": "code",
   "execution_count": null,
   "id": "73574bbc",
   "metadata": {},
   "outputs": [],
   "source": []
  },
  {
   "cell_type": "markdown",
   "id": "ce73cd92",
   "metadata": {},
   "source": [
    " 🚩 **Exercise 13:** Define a function called welcome_tell() that takes first_name and last_name as\n",
    "parameters. The function should use welcome() and display_message() from above\n",
    "to welcome the user and display the message of what we are learning about this\n",
    "week.\n"
   ]
  },
  {
   "cell_type": "code",
   "execution_count": null,
   "id": "3fdff700",
   "metadata": {},
   "outputs": [],
   "source": []
  },
  {
   "cell_type": "markdown",
   "id": "0863ab61",
   "metadata": {},
   "source": [
    "### Boolean Condtionals"
   ]
  },
  {
   "cell_type": "markdown",
   "id": "6a96b647",
   "metadata": {},
   "source": [
    "**Remember:** A Boolean variable is one that is either `True` or `False`."
   ]
  },
  {
   "cell_type": "code",
   "execution_count": null,
   "id": "127439ae",
   "metadata": {},
   "outputs": [],
   "source": [
    "switch1 = True\n",
    "switch2 = False"
   ]
  },
  {
   "cell_type": "markdown",
   "id": "d201b85b",
   "metadata": {},
   "source": [
    "**Remember:** We want to avoid this by using the logical operators we learned last week (`and`, `or` and `not`). So our code becomes:"
   ]
  },
  {
   "cell_type": "markdown",
   "id": "f3ba21da",
   "metadata": {},
   "source": [
    " 🚩 **Exercise 13:** Define a function called `is_smaller()` that takes two numbers as arguments and returns `True` if the first is smaller than the second and `False` otherwise. "
   ]
  },
  {
   "cell_type": "code",
   "execution_count": null,
   "id": "6f7bdb91",
   "metadata": {},
   "outputs": [],
   "source": []
  },
  {
   "cell_type": "markdown",
   "id": "d9300dea",
   "metadata": {},
   "source": [
    " 🚩 **Exercise 14:** Define a function called `is_bigger()` that takes two numbers as arguments and returns `True` if the first number is bigger than the second number and `False` otherwise."
   ]
  },
  {
   "cell_type": "code",
   "execution_count": null,
   "id": "dd39cec8",
   "metadata": {},
   "outputs": [],
   "source": []
  },
  {
   "cell_type": "markdown",
   "id": "f203e025",
   "metadata": {},
   "source": [
    " 🚩 **Exercise 15:** Define a function called `is_jamie()` that takes a name as an argument and returns `True` if the name is `Jamie` and False otherwise.\n"
   ]
  },
  {
   "cell_type": "code",
   "execution_count": null,
   "id": "47c27e5e",
   "metadata": {},
   "outputs": [],
   "source": []
  },
  {
   "cell_type": "markdown",
   "id": "b9ba20c2",
   "metadata": {},
   "source": [
    " 🚩 **Exercise 16:** Define a function called `is_between()` that takes three numbers x, y and z. The function should return `True` if x <= y <= z and `False` otherwise.  "
   ]
  },
  {
   "cell_type": "code",
   "execution_count": null,
   "id": "898a0f77",
   "metadata": {},
   "outputs": [],
   "source": []
  }
 ],
 "metadata": {
  "kernelspec": {
   "display_name": "Python 3 (ipykernel)",
   "language": "python",
   "name": "python3"
  },
  "language_info": {
   "codemirror_mode": {
    "name": "ipython",
    "version": 3
   },
   "file_extension": ".py",
   "mimetype": "text/x-python",
   "name": "python",
   "nbconvert_exporter": "python",
   "pygments_lexer": "ipython3",
   "version": "3.8.12"
  }
 },
 "nbformat": 4,
 "nbformat_minor": 5
}
