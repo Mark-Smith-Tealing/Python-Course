{
 "cells": [
  {
   "cell_type": "markdown",
   "id": "29c877e6",
   "metadata": {},
   "source": [
    "# Introduction to Python - Alternative Conditional Statements\n",
    "\n",
    "**Remember:** This is a Jupyter notebook, an application that allows us to write code and view exercises easily.\n",
    "\n",
    "Like Spyder, Jupyter notebooks have cells (Markdown and Code cells) that allow us to separate code and text. Remember that the code cells have a `In [ ]:` on the left hand side!\n",
    "\n",
    "## Let's Try\n",
    "\n",
    "**Remember** You can run the next cell using the \"<kbd>>| Run</kbd>\" button on the toolbar above, or you can press <kbd>Ctrl</kbd> + <kbd>Enter</kbd>.\n"
   ]
  },
  {
   "cell_type": "markdown",
   "id": "b1a54d55",
   "metadata": {},
   "source": [
    "🚩 **Exercise:** Run the next cell to make sure that your notebook is working!"
   ]
  },
  {
   "cell_type": "code",
   "execution_count": null,
   "id": "5464cf1b",
   "metadata": {},
   "outputs": [],
   "source": [
    "print('Welcome to Alternative Conditionals in Python!')"
   ]
  },
  {
   "cell_type": "markdown",
   "id": "3438c438",
   "metadata": {},
   "source": [
    "## Warmup - Last Time (Conditional Statements)\n",
    "\n",
    "Let's see if you can remember what we worked on last week!\n",
    "\n",
    "🚩 **Warmup 1:** How many times will this code print `True`?"
   ]
  },
  {
   "cell_type": "code",
   "execution_count": null,
   "id": "eb6bec1c",
   "metadata": {
    "scrolled": true
   },
   "outputs": [],
   "source": [
    "print(4==6)\n",
    "print('hello'=='hello')\n",
    "print('h'=='h')"
   ]
  },
  {
   "cell_type": "markdown",
   "id": "d7fc3d2e",
   "metadata": {},
   "source": [
    "🚩 **Warmup 2:** How many times will this code print `False`?"
   ]
  },
  {
   "cell_type": "code",
   "execution_count": null,
   "id": "337e871d",
   "metadata": {},
   "outputs": [],
   "source": [
    "print(6.4<=6.6)\n",
    "print(3.89763==3.89763)\n",
    "print(3>5)"
   ]
  },
  {
   "cell_type": "markdown",
   "id": "c93315a1",
   "metadata": {},
   "source": [
    "🚩 **Warmup 3:** Write a conditional statement that prints `You can go on the ride` if the height variable is greater than 100."
   ]
  },
  {
   "cell_type": "code",
   "execution_count": null,
   "id": "4f297b7d",
   "metadata": {},
   "outputs": [],
   "source": [
    "height = 100\n",
    "\n",
    "if [my_condition]:\n",
    "    print('')"
   ]
  },
  {
   "cell_type": "markdown",
   "id": "38c9c4d9",
   "metadata": {},
   "source": [
    "🚩 **Warmup 4:** Write a conditional statement that prints `You can watch the movie` if the age is greater than 15."
   ]
  },
  {
   "cell_type": "code",
   "execution_count": null,
   "id": "8d8efaba",
   "metadata": {},
   "outputs": [],
   "source": [
    "age = 16\n",
    "\n",
    "if [my_condition]:\n",
    "    print('')"
   ]
  },
  {
   "cell_type": "markdown",
   "id": "30b59692",
   "metadata": {},
   "source": [
    "🚩 **Warmup 5:** Will this code print `True` or `False`? (Hint: Python knows the order of the alphabet)"
   ]
  },
  {
   "cell_type": "code",
   "execution_count": null,
   "id": "78021ddf",
   "metadata": {},
   "outputs": [],
   "source": [
    "print('g'<='z')"
   ]
  },
  {
   "cell_type": "markdown",
   "id": "b99c840b",
   "metadata": {},
   "source": [
    "🚩 **Warmup 6:** We can use Python to check if words are in alphabetical order! Write the words below in Alphabetical order (in your head first). Then check with Python,\n",
    "\n",
    "- Cushion\n",
    "- Customary \n",
    "- Culinary\n",
    "- Culture\n",
    "- Cupboard"
   ]
  },
  {
   "cell_type": "code",
   "execution_count": null,
   "id": "498a97b8",
   "metadata": {},
   "outputs": [],
   "source": [
    "# Cushion      ( )\n",
    "# Customary    ( )\n",
    "# Culinary     ( )\n",
    "# Culture      ( )\n",
    "# Cupboard     ( )\n",
    "\n",
    "\n"
   ]
  },
  {
   "cell_type": "markdown",
   "id": "aa9a6519",
   "metadata": {},
   "source": [
    "## Exercises - This Week\n",
    "\n",
    "### Chained Conditionals\n",
    "\n",
    "We will use the following variables, remember to run this cell so that Python stores the variables in memory!"
   ]
  },
  {
   "cell_type": "code",
   "execution_count": 2,
   "id": "38931d24",
   "metadata": {},
   "outputs": [],
   "source": [
    "age = 15\n",
    "height = 150\n",
    "guess = 80\n",
    "name = 'James'\n",
    "pressed = True\n",
    "grade = 50"
   ]
  },
  {
   "cell_type": "markdown",
   "id": "86deede6",
   "metadata": {},
   "source": [
    "**Remember:** We write a conditional statement like this:"
   ]
  },
  {
   "cell_type": "code",
   "execution_count": 3,
   "id": "b1b38d99",
   "metadata": {},
   "outputs": [
    {
     "name": "stdout",
     "output_type": "stream",
     "text": [
      "You are older than 10!\n"
     ]
    }
   ],
   "source": [
    "if age > 10:\n",
    "    print('You are older than 10!')"
   ]
  },
  {
   "cell_type": "markdown",
   "id": "7423e384",
   "metadata": {},
   "source": [
    "🚩 **Exercise 1:** Write a conditional statement that prints:\n",
    "- `The button is pressed` if the `pressed` variable is set to `True`. \n",
    "- Otherwise, you should print `The button is not pressed`"
   ]
  },
  {
   "cell_type": "code",
   "execution_count": null,
   "id": "ae9bf1fe",
   "metadata": {},
   "outputs": [],
   "source": []
  },
  {
   "cell_type": "markdown",
   "id": "e83bba41",
   "metadata": {},
   "source": [
    "🚩 **Exercise 2:** Write a conditional statement that prints:\n",
    "- `You are Tall` if the `height` variable is greater than 160. \n",
    "- Otherwise, you should print `You are small`."
   ]
  },
  {
   "cell_type": "code",
   "execution_count": null,
   "id": "a646cffc",
   "metadata": {},
   "outputs": [],
   "source": []
  },
  {
   "cell_type": "markdown",
   "id": "0e774bb4",
   "metadata": {},
   "source": [
    "🚩 **Exercise 3:** Write a conditional statement that prints: \n",
    "- `You are James` if the `name` variable is set to `James`. \n",
    "- Otherwise, you should print `Wait a second! You are not James!`"
   ]
  },
  {
   "cell_type": "code",
   "execution_count": null,
   "id": "5aa6f958",
   "metadata": {},
   "outputs": [],
   "source": []
  },
  {
   "cell_type": "markdown",
   "id": "388f04e5",
   "metadata": {},
   "source": [
    "🚩 **Exercise 4:** Write a conditional statement that prints:\n",
    "- `You are a child` if the `age` variable is less than 13. \n",
    "- You should print `You are a teenager` if the `age` variable is between 13 and 19. \n",
    "- Otherwise, you should print `You are an adult`."
   ]
  },
  {
   "cell_type": "code",
   "execution_count": null,
   "id": "9dfce371",
   "metadata": {},
   "outputs": [],
   "source": []
  },
  {
   "cell_type": "markdown",
   "id": "e52f8532",
   "metadata": {},
   "source": [
    "🚩 **Exercise 5:** Write a conditional statement that prints:\n",
    "- `Too Low!` if the `guess` variable is less than 100. You should print \n",
    "- `Too high!` if the `guess` variable is greater than 100. \n",
    "- If the guess is exactly 100, you should print `Correct!!`."
   ]
  },
  {
   "cell_type": "code",
   "execution_count": null,
   "id": "4cb30c4b",
   "metadata": {},
   "outputs": [],
   "source": []
  },
  {
   "cell_type": "markdown",
   "id": "b3703c39",
   "metadata": {},
   "source": [
    "🚩 **Exercise 6:** Write a conditional statement that prints:\n",
    "- `Well done- you passed` if the `grade` variable is greater than or equal to 50. \n",
    "- You should print `Wow - You Failed` if the `grade` variable is less than 50. \n",
    "- If the grade is exactly 50 then print `Wow, thats lucky, you got exactly a 50!`."
   ]
  },
  {
   "cell_type": "code",
   "execution_count": null,
   "id": "8b6abce9",
   "metadata": {},
   "outputs": [],
   "source": []
  },
  {
   "cell_type": "markdown",
   "id": "0863ab61",
   "metadata": {},
   "source": [
    "### Nested Conditionals"
   ]
  },
  {
   "cell_type": "markdown",
   "id": "6a96b647",
   "metadata": {},
   "source": [
    "**Remember:** A nested conditional looks like:"
   ]
  },
  {
   "cell_type": "code",
   "execution_count": 4,
   "id": "91fe4f3a",
   "metadata": {},
   "outputs": [
    {
     "name": "stdout",
     "output_type": "stream",
     "text": [
      "This is Xander's favourite number\n"
     ]
    }
   ],
   "source": [
    "name = 'Xander'\n",
    "number = 10\n",
    "\n",
    "if name == 'Xander':\n",
    "    if number == 10:\n",
    "        print(\"This is Xander's favourite number\")\n",
    "              \n",
    "else:\n",
    "    print('This is not Xander')"
   ]
  },
  {
   "cell_type": "markdown",
   "id": "d201b85b",
   "metadata": {},
   "source": [
    "**Remember:** We want to avoid this by using the logical operators we learned last week (`and`, `or` and `not`). So our code becomes:"
   ]
  },
  {
   "cell_type": "code",
   "execution_count": 5,
   "id": "5834ef6b",
   "metadata": {},
   "outputs": [
    {
     "name": "stdout",
     "output_type": "stream",
     "text": [
      "This is Xander's favourite number\n"
     ]
    }
   ],
   "source": [
    "name = 'Xander'\n",
    "number = 10\n",
    "\n",
    "if name == 'Xander' and number == 10:\n",
    "    print(\"This is Xander's favourite number\")       \n",
    "else:\n",
    "    print('This is not Xander')"
   ]
  },
  {
   "cell_type": "markdown",
   "id": "8d296bb5",
   "metadata": {},
   "source": [
    "Here are some useful variables:"
   ]
  },
  {
   "cell_type": "code",
   "execution_count": null,
   "id": "ecf1e957",
   "metadata": {},
   "outputs": [],
   "source": [
    "age = 15\n",
    "height = 150\n",
    "name = 'Alex'\n",
    "grade = 50\n",
    "x = 100\n",
    "fav_colour = 'blue'"
   ]
  },
  {
   "cell_type": "markdown",
   "id": "1844adae",
   "metadata": {},
   "source": [
    "🚩 **Exercise 7:** Write a conditional statement that prints `Yes Alex` if the variable `x` is greater than 50 **and** the `name` variable is 'Alex'. Otherwise, it should print `You are not Alex`"
   ]
  },
  {
   "cell_type": "code",
   "execution_count": null,
   "id": "95ed3a87",
   "metadata": {},
   "outputs": [],
   "source": []
  },
  {
   "cell_type": "markdown",
   "id": "ce10a784",
   "metadata": {},
   "source": [
    "🚩 **Exercise 8:** Write a conditional statement that prints `You are not Alex` if the variable `name` is not 'Alex' **or** the `fav_colour` variable is not 'Red'. Otherwise, it should print `Hello Alex`"
   ]
  },
  {
   "cell_type": "code",
   "execution_count": null,
   "id": "b2dd17d2",
   "metadata": {},
   "outputs": [],
   "source": []
  },
  {
   "cell_type": "markdown",
   "id": "6f3dfb10",
   "metadata": {},
   "source": [
    "🚩 **Exercise 9:** Write a conditional statement that prints `You might be Alex` if the variable `name` is 'Alex' **or** the `age` variable is greater than or equal to 15. Otherwise, it should print `You are definitely not Alex`"
   ]
  },
  {
   "cell_type": "code",
   "execution_count": null,
   "id": "bdf985cf",
   "metadata": {},
   "outputs": [],
   "source": []
  },
  {
   "cell_type": "markdown",
   "id": "7fe7650d",
   "metadata": {},
   "source": [
    "🚩 **Exercise 10:** Write a conditional statement that prints `You can watch the movie and x is greater than or equal to 4` if the variable `age` is greater than or equal to 15 **and** the `x` variable is greater than or equal to 4. Otherwise, it should print `Sorry, you cannot watch the movie`"
   ]
  },
  {
   "cell_type": "code",
   "execution_count": null,
   "id": "612c0845",
   "metadata": {},
   "outputs": [],
   "source": []
  },
  {
   "cell_type": "markdown",
   "id": "a0d6525e",
   "metadata": {},
   "source": [
    "🚩 **Exercise 11:** Write a conditional statement that prints `You are smarter than Alex` if the variable `name` is not 'Alex' **and** the `grade` variable is greater than 50. You should print `You are Alex` if the `name` variable is 'Alex' and the `grade` variable is 50. You should print `You are not as smart as Alex` if the name variable is not 'Alex' and the `grade` variable is less than 50. Otherwise, it should print `Error!`"
   ]
  },
  {
   "cell_type": "code",
   "execution_count": null,
   "id": "f8fba06b",
   "metadata": {},
   "outputs": [],
   "source": []
  },
  {
   "cell_type": "markdown",
   "id": "150a5350",
   "metadata": {},
   "source": [
    "### Recursive Functions\n",
    "\n",
    "**Remember:** functions can call other functions!"
   ]
  },
  {
   "cell_type": "code",
   "execution_count": 6,
   "id": "8b3168c0",
   "metadata": {
    "scrolled": false
   },
   "outputs": [
    {
     "name": "stdout",
     "output_type": "stream",
     "text": [
      "3\n",
      "2\n",
      "1\n",
      "Blastoff\n"
     ]
    }
   ],
   "source": [
    "def countdown(n):\n",
    "    if n > 0:\n",
    "        print(n)\n",
    "        countdown(n-1)\n",
    "    else:\n",
    "        print('Blastoff')\n",
    "        \n",
    "countdown(3)"
   ]
  },
  {
   "attachments": {
    "image-2.png": {
     "image/png": "[encoded data removed]"
    }
   },
   "cell_type": "markdown",
   "id": "b4b9631b",
   "metadata": {},
   "source": [
    "![image-2.png](attachment:image-2.png)"
   ]
  },
  {
   "cell_type": "markdown",
   "id": "a938d8fa",
   "metadata": {},
   "source": [
    "🚩 **Exercise 12:** Write a recursive function called `countdown(n)` that counts down from a given number n, then prints 'Start' - Like you are counting down to start a race"
   ]
  },
  {
   "cell_type": "code",
   "execution_count": null,
   "id": "613388a7",
   "metadata": {},
   "outputs": [],
   "source": []
  },
  {
   "cell_type": "markdown",
   "id": "5a8e5c6d",
   "metadata": {},
   "source": [
    "🚩 **Exercise 13:** Write a recursive function called `count2ten(n)` that counts up from a given number n, then prints every number until you reach 10. Then prints 'You reached 10'"
   ]
  },
  {
   "cell_type": "code",
   "execution_count": null,
   "id": "b941981e",
   "metadata": {},
   "outputs": [],
   "source": []
  },
  {
   "cell_type": "markdown",
   "id": "d555174d",
   "metadata": {},
   "source": [
    "🚩 **Exercise 14:** Write a recursive function called `double2onemillion(n)` that starts from a number, n, and multiplies by 2 until you reach 1,000,000."
   ]
  },
  {
   "cell_type": "code",
   "execution_count": null,
   "id": "3c7ceaeb",
   "metadata": {},
   "outputs": [],
   "source": []
  },
  {
   "cell_type": "markdown",
   "id": "b1dfbf4f",
   "metadata": {},
   "source": [
    "🚩 **Exercise 15:** Write a recursive function called `print_n(n,s)` that prints the string s, n times. "
   ]
  },
  {
   "cell_type": "code",
   "execution_count": null,
   "id": "630dfd97",
   "metadata": {},
   "outputs": [],
   "source": []
  }
 ],
 "metadata": {
  "kernelspec": {
   "display_name": "Python 3 (ipykernel)",
   "language": "python",
   "name": "python3"
  },
  "language_info": {
   "codemirror_mode": {
    "name": "ipython",
    "version": 3
   },
   "file_extension": ".py",
   "mimetype": "text/x-python",
   "name": "python",
   "nbconvert_exporter": "python",
   "pygments_lexer": "ipython3",
   "version": "3.8.12"
  }
 },
 "nbformat": 4,
 "nbformat_minor": 5
}
