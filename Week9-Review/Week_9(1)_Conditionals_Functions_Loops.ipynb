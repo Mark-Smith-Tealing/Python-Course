{
 "cells": [
  {
   "cell_type": "markdown",
   "id": "29c877e6",
   "metadata": {},
   "source": [
    "# Introduction to Python - Review\n",
    "\n",
    "**Remember:** This is a Jupyter notebook, an application that allows us to write code and view exercises easily.\n",
    "\n",
    "Like Spyder, Jupyter notebooks have cells (Markdown and Code cells) that allow us to separate code and text. Remember that the code cells have `In [ ]:` on the left hand side!\n",
    "\n",
    "## Let's Try\n",
    "\n",
    "**Remember** You can run the next cell using the \"<kbd>|> Run</kbd>\" button on the toolbar above, or you can press <kbd>Ctrl</kbd> + <kbd>Enter</kbd>.\n"
   ]
  },
  {
   "cell_type": "markdown",
   "id": "b1a54d55",
   "metadata": {},
   "source": [
    "🚩 **Exercise:** Run the next cell to make sure that your notebook is working!"
   ]
  },
  {
   "cell_type": "code",
   "execution_count": 1,
   "id": "5464cf1b",
   "metadata": {},
   "outputs": [
    {
     "name": "stdout",
     "output_type": "stream",
     "text": [
      "Welcome to Functions with Return Values in Python!\n"
     ]
    }
   ],
   "source": [
    "print('Welcome to Functions with Return Values in Python!')"
   ]
  },
  {
   "cell_type": "markdown",
   "id": "3438c438",
   "metadata": {},
   "source": [
    "## Warmup - Last Time (Snake)\n",
    "\n",
    "Let's see if you can remember what we worked on last week! Here are some useful variables.\n"
   ]
  },
  {
   "cell_type": "markdown",
   "id": "ba89914a",
   "metadata": {},
   "source": [
    "🚩 **Warmup 1:** Let's look back at the Snake game.\n",
    "\n",
    "- How does the game work?\n",
    "- How do we score points?\n",
    "- How does the snake move? (How can we change direction)\n",
    "- How can we show the turtle? (Hint: It is hidden right now)\n",
    "- Which part of the code did we add to make the scoreboard?\n",
    "- When does the game end?"
   ]
  },
  {
   "cell_type": "markdown",
   "id": "7137f3f5",
   "metadata": {},
   "source": [
    "🚩 **Warmup 2:** Is this a definition, conditional or loop? (Hint: Look for the key words)\n",
    "\n",
    "- if => Conditional"
   ]
  },
  {
   "cell_type": "code",
   "execution_count": 3,
   "id": "e4b6b797",
   "metadata": {},
   "outputs": [
    {
     "name": "stdout",
     "output_type": "stream",
     "text": [
      "You can go on the ride\n"
     ]
    }
   ],
   "source": [
    "age = 10\n",
    "\n",
    "if age > 9:\n",
    "    print(\"You can go on the ride\")"
   ]
  },
  {
   "cell_type": "markdown",
   "id": "26328f45",
   "metadata": {},
   "source": [
    "🚩 **Warmup 3:** Is this a definition, conditional or loop? (Hint: Look for the key words)\n",
    "\n",
    "- def => Definition of a function"
   ]
  },
  {
   "cell_type": "code",
   "execution_count": 4,
   "id": "1397916c",
   "metadata": {},
   "outputs": [
    {
     "name": "stdout",
     "output_type": "stream",
     "text": [
      "27\n"
     ]
    }
   ],
   "source": [
    "def add(a,b):\n",
    "    print(a+b)\n",
    "    \n",
    "add(20,7)"
   ]
  },
  {
   "cell_type": "markdown",
   "id": "9392ad75",
   "metadata": {},
   "source": [
    "🚩 **Warmup 4:** Is this a definition, conditional or loop? (Hint: Look for the key words)\n",
    "\n",
    "- for => Loop "
   ]
  },
  {
   "cell_type": "code",
   "execution_count": 3,
   "id": "be59bef8",
   "metadata": {
    "scrolled": true
   },
   "outputs": [
    {
     "name": "stdout",
     "output_type": "stream",
     "text": [
      "1\n",
      "2\n",
      "3\n"
     ]
    }
   ],
   "source": [
    "for i in [1,2,3]:\n",
    "    print(i)"
   ]
  },
  {
   "cell_type": "markdown",
   "id": "67caeb89",
   "metadata": {},
   "source": [
    "🚩 **Warmup 5:** Why do we use: \n",
    "1. a conditional?\n",
    "2. a definition?\n",
    "3. a loop?"
   ]
  },
  {
   "cell_type": "markdown",
   "id": "e5497bb5",
   "metadata": {},
   "source": [
    "## This Week\n",
    "\n",
    "This week we are going to look at conditionals, functions and loops.\n",
    "\n",
    "### Conditionals\n"
   ]
  },
  {
   "cell_type": "markdown",
   "id": "309c2fa5",
   "metadata": {},
   "source": [
    "We are going to start by asking the user for some information. We can do this using the `input()` function. Let's see how it works.\n",
    "\n",
    "🚩 **Example:** Ask the user what is their name. Store it in a variable `name`.\n",
    "\n",
    "Then if the user's name is Mark, print `You are Mark`. If the user's name is not Mark then print `Your name is not Mark!`."
   ]
  },
  {
   "cell_type": "code",
   "execution_count": 7,
   "id": "5bdcc33f",
   "metadata": {},
   "outputs": [
    {
     "name": "stdout",
     "output_type": "stream",
     "text": [
      "What is your full name?Angelina\n",
      "Your name is not Mark!\n"
     ]
    }
   ],
   "source": [
    "name = input(\"What is your full name?\")\n",
    "\n",
    "if name == \"Mark\":\n",
    "    print(\"You are Mark\")\n",
    "else:\n",
    "    print(\"Your name is not Mark!\")"
   ]
  },
  {
   "cell_type": "markdown",
   "id": "fcbbc1e8",
   "metadata": {},
   "source": [
    "🚩 **Exercise 1:** Ask the user which country they live in. Store it in a variable `country`.\n",
    "\n",
    "Then if the user lives in China, print `You live in China`. Otherwise print `You live outside China`."
   ]
  },
  {
   "cell_type": "code",
   "execution_count": 9,
   "id": "61202e29",
   "metadata": {},
   "outputs": [
    {
     "name": "stdout",
     "output_type": "stream",
     "text": [
      "Which coutry do you live in?UK\n",
      "You live outside China\n"
     ]
    }
   ],
   "source": [
    "country =input(\"Which coutry do you live in?\")\n",
    "\n",
    "if country == \"China\":\n",
    "    print(\"You live in China\")\n",
    "else:\n",
    "    print(\"You live outside China\")"
   ]
  },
  {
   "cell_type": "markdown",
   "id": "1b5e8a6d",
   "metadata": {},
   "source": [
    "🚩 **Exercise 2:** Ask the user which is their favourite school subject. Store it in a variable `fav_subject`.\n",
    "\n",
    "Then if the user's favourite subject is maths, print `You like maths!`. If the favourite subject is English, print `You like English!`. If the favourite subject is Chinese, print `You like Chinese!`. Otherwise, print `You like something else`."
   ]
  },
  {
   "cell_type": "code",
   "execution_count": 10,
   "id": "fda7cecd",
   "metadata": {},
   "outputs": [
    {
     "name": "stdout",
     "output_type": "stream",
     "text": [
      "What is your favourite subject?English\n",
      "You like English!\n"
     ]
    }
   ],
   "source": [
    "fav_subject = input(\"What is your favourite subject?\")\n",
    "\n",
    "if fav_subject == \"Math\":\n",
    "    print(\"You like maths!\")\n",
    "elif fav_subject == \"English\":\n",
    "    print(\"You like English!\")\n",
    "elif fav_subject == \"Chinese\":\n",
    "    print(\"You like Chinese\")\n",
    "else:\n",
    "    print(\"You like something else\")\n"
   ]
  },
  {
   "cell_type": "markdown",
   "id": "a7113c2d",
   "metadata": {},
   "source": [
    "🚩 **Exercise 3:** Ask the user what is their age. Store it in a variable `age`.\n",
    "\n",
    "If the users age is above 10, print `you are older than a decade`. If the\n",
    "users age is below 10, print `you are younger than a decade`. Otherwise\n",
    "print `You are 10!`. "
   ]
  },
  {
   "cell_type": "code",
   "execution_count": 11,
   "id": "1fa7d502",
   "metadata": {},
   "outputs": [
    {
     "name": "stdout",
     "output_type": "stream",
     "text": [
      "How old are you?10\n",
      "You are 10.\n"
     ]
    }
   ],
   "source": [
    "age=input(\"How old are you?\")\n",
    "\n",
    "if int(age)>10:\n",
    "    print(\"You are older than the decade.\")\n",
    "elif int(age)<10:\n",
    "    print(\"You nare youger than the decade.\")\n",
    "else:\n",
    "    print(\"You are 10.\")"
   ]
  },
  {
   "cell_type": "markdown",
   "id": "9782ee1d",
   "metadata": {},
   "source": [
    "🚩 **Exercise 4:** Ask the user what is their favourite colour. Store it in a variable `fav_colour`.\n",
    "\n",
    "If the user’s favourite colour is blue, print `You like Blue things`. If the user’s favourite colour is red, print `You like Red things`. If the user’s favourite colour is green, print `You like Green things`. Otherwise, print `You like other colours of things!`. \n"
   ]
  },
  {
   "cell_type": "code",
   "execution_count": 15,
   "id": "2adc246b",
   "metadata": {},
   "outputs": [
    {
     "name": "stdout",
     "output_type": "stream",
     "text": [
      "What is your favourite colour?rainbow\n",
      "You like other things\n"
     ]
    }
   ],
   "source": [
    "fav_colour = input(\"What is your favourite colour?\")\n",
    "\n",
    "if fav_colour == \"blue\":\n",
    "    print(\"You like Blue things\")\n",
    "elif fav_colour == \"red\":\n",
    "    print(\"You like Red things\")\n",
    "elif fav_colour == \"green\":\n",
    "    print(\"You like Green things\")\n",
    "else:\n",
    "    print(\"You like other things\")"
   ]
  },
  {
   "cell_type": "markdown",
   "id": "70ef34c1",
   "metadata": {},
   "source": [
    "🚩 **Exercise 5:** Ask the user what is their height. Store it in a variable `height`.\n",
    "\n",
    "If the user’s height is over 130cm, print `You can go on the fast ride!`. If the user’s height is 130cm or less, print `You cannot go on the fast ride, sorry!`. "
   ]
  },
  {
   "cell_type": "code",
   "execution_count": 16,
   "id": "c8d620d2",
   "metadata": {},
   "outputs": [
    {
     "name": "stdout",
     "output_type": "stream",
     "text": [
      "How tall are you in centimeters?130\n",
      "You cannot go on the fast ride, sorry!\n"
     ]
    }
   ],
   "source": [
    "height = int(input(\"How tall are you in centimeters?\"))\n",
    "\n",
    "if height>130:\n",
    "    print(\"You can go on the fast ride!\")\n",
    "else:\n",
    "    print(\"You cannot go on the fast ride, sorry!\")"
   ]
  },
  {
   "cell_type": "markdown",
   "id": "acc52db9",
   "metadata": {},
   "source": [
    "### Functions"
   ]
  },
  {
   "cell_type": "markdown",
   "id": "a96fbe63",
   "metadata": {},
   "source": [
    "Let's look at functions. Remember that we write them like this."
   ]
  },
  {
   "cell_type": "code",
   "execution_count": 18,
   "id": "de91138d",
   "metadata": {},
   "outputs": [
    {
     "name": "stdout",
     "output_type": "stream",
     "text": [
      "10 divided by 5 is 2.0\n"
     ]
    }
   ],
   "source": [
    "def divide(x, y):\n",
    "    print(f'{x} divided by {y} is {x/y}')\n",
    "    #print(str(x) + \" divided by \" + str(y) + \" is \" + str(x/y))\n",
    "    \n",
    "divide(10,5)"
   ]
  },
  {
   "cell_type": "markdown",
   "id": "dc71fc1f",
   "metadata": {},
   "source": [
    "🚩 **Exercise 6:** Write a function `maximum_number(a,b)` that prints the biggest of two numbers a and b."
   ]
  },
  {
   "cell_type": "code",
   "execution_count": 21,
   "id": "808ba538",
   "metadata": {},
   "outputs": [
    {
     "name": "stdout",
     "output_type": "stream",
     "text": [
      "b is bigger\n"
     ]
    }
   ],
   "source": [
    "def maximum_number(a,b):\n",
    "    if a>b:\n",
    "        print(\"a is bigger\")\n",
    "    else:\n",
    "        print(\"b is bigger\")\n",
    "\n",
    "maximum_number(10, 100)"
   ]
  },
  {
   "cell_type": "markdown",
   "id": "f721973a",
   "metadata": {},
   "source": [
    "🚩 **Exercise 7:** Write a function `is_vowel(a)` that returns True if a is a vowel and False otherwise."
   ]
  },
  {
   "cell_type": "code",
   "execution_count": null,
   "id": "802a363f",
   "metadata": {},
   "outputs": [],
   "source": []
  },
  {
   "cell_type": "markdown",
   "id": "92fa2a79",
   "metadata": {},
   "source": [
    "🚩 **Exercise 8:** Write a function `maximum_number(a,b,c)` that prints the biggest of three numbers a, b and c."
   ]
  },
  {
   "cell_type": "code",
   "execution_count": null,
   "id": "82019da2",
   "metadata": {},
   "outputs": [],
   "source": []
  },
  {
   "cell_type": "markdown",
   "id": "83843e86",
   "metadata": {},
   "source": [
    "🚩 **Exercise 9:** Write a function `in_range(a,low,high)` that returns True if a is inside the range given (low, high). (Hint: if a is between low and high then print True, if a is not between low and high then print False.)"
   ]
  },
  {
   "cell_type": "code",
   "execution_count": null,
   "id": "73c570a8",
   "metadata": {},
   "outputs": [],
   "source": []
  },
  {
   "cell_type": "markdown",
   "id": "e172e63a",
   "metadata": {},
   "source": [
    "🚩 **Exercise 10:** Write a function `minimum_number(a,b)` that prints the smallest of two numbers a and b."
   ]
  },
  {
   "cell_type": "code",
   "execution_count": null,
   "id": "4964b7fa",
   "metadata": {},
   "outputs": [],
   "source": []
  },
  {
   "cell_type": "markdown",
   "id": "4fd960ff",
   "metadata": {},
   "source": [
    "🚩 **Exercise 11:** Write a function `minimum_number(a,b,c)` that prints the smallest of three numbers a, b and c."
   ]
  },
  {
   "cell_type": "code",
   "execution_count": null,
   "id": "87936f37",
   "metadata": {},
   "outputs": [],
   "source": []
  },
  {
   "cell_type": "markdown",
   "id": "1d31dfd2",
   "metadata": {},
   "source": [
    "🚩 **Exercise 12:** Write a function `right_justify(sentence)` that takes a sentence as a variable and prints the string with enough leading spaces so that the last letter of the string is in column 70 of the display. "
   ]
  },
  {
   "cell_type": "code",
   "execution_count": null,
   "id": "8efc778e",
   "metadata": {},
   "outputs": [],
   "source": []
  },
  {
   "cell_type": "markdown",
   "id": "5f06c792",
   "metadata": {},
   "source": [
    "### Loops"
   ]
  },
  {
   "cell_type": "markdown",
   "id": "ee0bb0b1",
   "metadata": {},
   "source": [
    "🚩 **Exercise 12:** Write a loop that prints all the letters of your name on different lines. "
   ]
  },
  {
   "cell_type": "code",
   "execution_count": null,
   "id": "457a746c",
   "metadata": {},
   "outputs": [],
   "source": []
  },
  {
   "cell_type": "markdown",
   "id": "144c1044",
   "metadata": {},
   "source": [
    "🚩 **Exercise 13:** Write a loop that prints all the letters of a list `['a', 'b', 'c']`."
   ]
  },
  {
   "cell_type": "code",
   "execution_count": null,
   "id": "0cc311c0",
   "metadata": {},
   "outputs": [],
   "source": []
  },
  {
   "cell_type": "markdown",
   "id": "55c061e3",
   "metadata": {},
   "source": [
    "🚩 **Exercise 14:** Write a loop that prints `Welcome to Python class` 5 times. "
   ]
  },
  {
   "cell_type": "code",
   "execution_count": null,
   "id": "a500c08c",
   "metadata": {},
   "outputs": [],
   "source": []
  },
  {
   "cell_type": "markdown",
   "id": "35373351",
   "metadata": {},
   "source": [
    "🚩 **Exercise 15:** Write a loop that prints out all the letters in the longest word you know."
   ]
  },
  {
   "cell_type": "code",
   "execution_count": null,
   "id": "7e925597",
   "metadata": {},
   "outputs": [],
   "source": []
  },
  {
   "cell_type": "markdown",
   "id": "1c377318",
   "metadata": {},
   "source": [
    "🚩 **Exercise 16:** Write a loop that prints `you are the best python programmer in the world` 100 times. How many times can we print it out?"
   ]
  },
  {
   "cell_type": "code",
   "execution_count": null,
   "id": "ecf60071",
   "metadata": {},
   "outputs": [],
   "source": []
  },
  {
   "cell_type": "markdown",
   "id": "001ca435",
   "metadata": {},
   "source": [
    "🚩 **Exercise 17:** Write a loop that prints the words from the list `['Hello', 'You', 'Are']`."
   ]
  },
  {
   "cell_type": "code",
   "execution_count": null,
   "id": "ed240de5",
   "metadata": {},
   "outputs": [],
   "source": []
  },
  {
   "cell_type": "markdown",
   "id": "369cea58",
   "metadata": {},
   "source": [
    "🚩 **Exercise 18:** Write a function `right_justify(sentence)` that takes a sentence as a variable and prints the string with enough leading spaces so that the last letter of the string is in column 70 of the display. "
   ]
  },
  {
   "cell_type": "code",
   "execution_count": null,
   "id": "b2681757",
   "metadata": {},
   "outputs": [],
   "source": []
  },
  {
   "cell_type": "markdown",
   "id": "75b9d3e8",
   "metadata": {},
   "source": [
    "**Loops with Counters:** Sometimes it is useful to add a counter when we use a loop."
   ]
  },
  {
   "cell_type": "code",
   "execution_count": 11,
   "id": "eac1fda0",
   "metadata": {},
   "outputs": [
    {
     "name": "stdout",
     "output_type": "stream",
     "text": [
      "W 0\n",
      "e 1\n",
      "l 2\n",
      "c 3\n",
      "o 4\n",
      "m 5\n",
      "e 6\n"
     ]
    }
   ],
   "source": [
    "count=0\n",
    "\n",
    "for i in \"Welcome\":\n",
    "    print(i, count)\n",
    "    count = count + 1"
   ]
  },
  {
   "cell_type": "markdown",
   "id": "16d18aae",
   "metadata": {},
   "source": [
    "🚩 **Exercise 19:** Write a loop that adds all the numbers in the list `[1,2,3,4,5]`. (Hint: Instead of `count`, use a variable `sum`)"
   ]
  },
  {
   "cell_type": "code",
   "execution_count": null,
   "id": "1620ac0d",
   "metadata": {},
   "outputs": [],
   "source": []
  },
  {
   "cell_type": "markdown",
   "id": "27188781",
   "metadata": {},
   "source": [
    "🚩 **Exercise 20:** Write a loop that multiplies all the numbers in the list `[3,7,8]`. (Hint: Instead of `count`, use a variable `product`)"
   ]
  },
  {
   "cell_type": "code",
   "execution_count": null,
   "id": "98575e37",
   "metadata": {},
   "outputs": [],
   "source": []
  }
 ],
 "metadata": {
  "kernelspec": {
   "display_name": "Python 3 (ipykernel)",
   "language": "python",
   "name": "python3"
  },
  "language_info": {
   "codemirror_mode": {
    "name": "ipython",
    "version": 3
   },
   "file_extension": ".py",
   "mimetype": "text/x-python",
   "name": "python",
   "nbconvert_exporter": "python",
   "pygments_lexer": "ipython3",
   "version": "3.8.12"
  },
  "toc": {
   "base_numbering": 1,
   "nav_menu": {},
   "number_sections": true,
   "sideBar": true,
   "skip_h1_title": false,
   "title_cell": "Table of Contents",
   "title_sidebar": "Contents",
   "toc_cell": false,
   "toc_position": {},
   "toc_section_display": true,
   "toc_window_display": false
  }
 },
 "nbformat": 4,
 "nbformat_minor": 5
}
