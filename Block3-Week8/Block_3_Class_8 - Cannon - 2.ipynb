{
 "cells": [
  {
   "cell_type": "markdown",
   "id": "29c877e6",
   "metadata": {},
   "source": [
    "\n",
    "# Introduction to Python - Block 3 Week 7 - Cannon\n",
    "\n",
    "Now, we are going to try a new worksheet style in this block, this should help us to see the exercises more easily while working on them. This is a Jupyter notebook, that allows for us to write code and display the information easily.\n",
    "\n",
    "Like Spyder, Jupyter notebooks have cells (Markdown and Code cells) that allow us to separate code and text.\n",
    "\n",
    "## Let's Try\n",
    "\n",
    "You can run the next cell using the \"<kbd>>| Run</kbd>\" button on the toolbar above, or press <kbd>Ctrl</kbd> + <kbd>Enter</kbd>.\n"
   ]
  },
  {
   "cell_type": "code",
   "execution_count": 1,
   "id": "5464cf1b",
   "metadata": {},
   "outputs": [
    {
     "name": "stdout",
     "output_type": "stream",
     "text": [
      "Welcome to Cannon!\n"
     ]
    }
   ],
   "source": [
    "print(\"Welcome to Cannon!\")"
   ]
  },
  {
   "cell_type": "markdown",
   "id": "73ad3408",
   "metadata": {},
   "source": [
    "# Lesson Aims\n",
    "\n",
    "Today we are going to:\n",
    "- Remember how the Cannon game works\n",
    "- Look at the changes we made last time\n",
    "- Add balls of a different colour with bonus points\n",
    "- Give us the ability to move the cannon up and down"
   ]
  },
  {
   "cell_type": "markdown",
   "id": "a47aa32c",
   "metadata": {},
   "source": [
    "# Cannon Code"
   ]
  },
  {
   "cell_type": "markdown",
   "id": "d0940bf8",
   "metadata": {},
   "source": [
    "Today, we are going to have a look at a different game from the freegames module. Today we are going to code flappy! First we need to install freegames on Jupyter. Just run this code:"
   ]
  },
  {
   "cell_type": "code",
   "execution_count": 2,
   "id": "b5bcb51c",
   "metadata": {},
   "outputs": [
    {
     "name": "stdout",
     "output_type": "stream",
     "text": [
      "Requirement already satisfied: freegames in c:\\users\\mark\\anaconda3\\lib\\site-packages (2.4.0)\n",
      "Note: you may need to restart the kernel to use updated packages.\n"
     ]
    }
   ],
   "source": [
    "pip install freegames"
   ]
  },
  {
   "cell_type": "markdown",
   "id": "67009c32",
   "metadata": {},
   "source": [
    "Now, we need to import the correct modules that we are going to need,"
   ]
  },
  {
   "cell_type": "code",
   "execution_count": 1,
   "id": "d923cce9",
   "metadata": {},
   "outputs": [],
   "source": [
    "from random import randrange\n",
    "from turtle import *\n",
    "import turtle\n",
    "\n",
    "from freegames import vector"
   ]
  },
  {
   "cell_type": "code",
   "execution_count": 2,
   "id": "8a19dd85",
   "metadata": {},
   "outputs": [
    {
     "name": "stdout",
     "output_type": "stream",
     "text": [
      "1\n",
      "5\n"
     ]
    }
   ],
   "source": [
    "vector1 = vector(1, 5)\n",
    "\n",
    "print(vector1.x)\n",
    "print(vector1.y)"
   ]
  },
  {
   "cell_type": "code",
   "execution_count": 3,
   "id": "fa84caf1",
   "metadata": {},
   "outputs": [],
   "source": [
    "def tap(x, y):\n",
    "    \"\"\"Respond to screen tap.\"\"\"\n",
    "    if not inside(ball):\n",
    "        ball.x = -199\n",
    "        ball.y = -199\n",
    "        \n",
    "        speed.x = (x + 200) / 25\n",
    "        speed.y = (y + 200) / 25"
   ]
  },
  {
   "cell_type": "markdown",
   "id": "d098e61a",
   "metadata": {},
   "source": [
    "Let's make a function that checks if the bird is inside the screen"
   ]
  },
  {
   "cell_type": "code",
   "execution_count": 4,
   "id": "e2ef2536",
   "metadata": {},
   "outputs": [],
   "source": [
    "def inside(xy):\n",
    "    \"\"\"Return True if xy within screen.\"\"\"\n",
    "    return -200 < xy.x < 200 and -200 < xy.y < 200"
   ]
  },
  {
   "cell_type": "code",
   "execution_count": 5,
   "id": "add13376",
   "metadata": {},
   "outputs": [],
   "source": [
    "def draw():\n",
    "    \"\"\"Draw ball and targets.\"\"\"\n",
    "    global score\n",
    "    \n",
    "    clear()\n",
    "\n",
    "    for target in targets:\n",
    "        goto(target.x, target.y)\n",
    "        dot(20, 'purple')\n",
    "        \n",
    "    for target2 in targets2:\n",
    "        goto(target2.x, target2.y)\n",
    "        dot(10, 'yellow')\n",
    "\n",
    "    if inside(ball):\n",
    "        goto(ball.x, ball.y)\n",
    "        dot(6, 'pink')\n",
    "        \n",
    "    turtle.goto(-199, 170)\n",
    "    turtle.write(f'Score: {score}')\n",
    "\n",
    "    update()"
   ]
  },
  {
   "cell_type": "code",
   "execution_count": 6,
   "id": "79cf3f44",
   "metadata": {},
   "outputs": [],
   "source": [
    "def move():\n",
    "    \"\"\"Move ball and targets.\"\"\"\n",
    "    global score\n",
    "    \n",
    "    if randrange(20) == 0:\n",
    "        y = randrange(-150, 150)\n",
    "        target = vector(200, y)\n",
    "        targets.append(target)\n",
    "        \n",
    "    if randrange(40) == 0:\n",
    "        y = randrange(-150, 150)\n",
    "        target2 = vector(200, y)\n",
    "        targets2.append(target2)\n",
    "\n",
    "    for target in targets:\n",
    "        target.x -= 0.5\n",
    "        target.y -= 0.0\n",
    "        \n",
    "    for target2 in targets2:\n",
    "        target2.x -= 4\n",
    "        target2.y -= 0.0\n",
    "\n",
    "    if inside(ball):\n",
    "        speed.y -= 0.2\n",
    "        ball.move(speed)\n",
    "\n",
    "    dupe = targets.copy()\n",
    "    targets.clear()\n",
    "\n",
    "    for target in dupe:\n",
    "        if abs(target - ball) > 13:\n",
    "            targets.append(target)\n",
    "        else:\n",
    "            score = score + 1\n",
    "            \n",
    "    dupe = targets2.copy()\n",
    "    targets2.clear()\n",
    "\n",
    "    for target2 in dupe:\n",
    "        if abs(target2 - ball) > 13:\n",
    "            targets2.append(target2)\n",
    "        else:\n",
    "            score = score - 1\n",
    "\n",
    "    draw()\n",
    "\n",
    "    for target in targets:\n",
    "        if not inside(target):\n",
    "            turtle.goto(-150, 0)\n",
    "            turtle.write(f'Game Over!! \\n Score: {score}', font = ('Arial', 40,'normal'))\n",
    "            return\n",
    "\n",
    "    ontimer(move, 30)"
   ]
  },
  {
   "cell_type": "markdown",
   "id": "263cebf5",
   "metadata": {},
   "source": [
    "This cell runs the game"
   ]
  },
  {
   "cell_type": "code",
   "execution_count": 7,
   "id": "d4484151",
   "metadata": {},
   "outputs": [],
   "source": [
    "def moveup():\n",
    "    return\n",
    "\n",
    "def movedown():\n",
    "    return"
   ]
  },
  {
   "cell_type": "code",
   "execution_count": 8,
   "id": "08bc3b21",
   "metadata": {},
   "outputs": [
    {
     "name": "stderr",
     "output_type": "stream",
     "text": [
      "Exception in Tkinter callback\n",
      "Traceback (most recent call last):\n",
      "  File \"C:\\Users\\mark\\anaconda3\\lib\\tkinter\\__init__.py\", line 1892, in __call__\n",
      "    return self.func(*args)\n",
      "  File \"C:\\Users\\mark\\anaconda3\\lib\\tkinter\\__init__.py\", line 814, in callit\n",
      "    func(*args)\n",
      "  File \"C:\\Users\\mark\\AppData\\Local\\Temp/ipykernel_4024/558988625.py\", line 45, in move\n",
      "    draw()\n",
      "  File \"C:\\Users\\mark\\AppData\\Local\\Temp/ipykernel_4024/3577681915.py\", line 22, in draw\n",
      "    update()\n",
      "  File \"<string>\", line 5, in update\n",
      "turtle.Terminator\n"
     ]
    }
   ],
   "source": [
    "fire_pos_y = -200\n",
    "ball = vector(-200, -200)\n",
    "speed = vector(0, 0)\n",
    "targets = []\n",
    "targets2 = []\n",
    "score = 0\n",
    "\n",
    "setup(420, 420, 370, 0)\n",
    "hideturtle()\n",
    "up()\n",
    "tracer(False)\n",
    "onscreenclick(tap)\n",
    "onkeypress(moveup, 'Up')\n",
    "onkeypress(moveup, 'Down')\n",
    "move()\n",
    "done()"
   ]
  },
  {
   "cell_type": "markdown",
   "id": "23053828",
   "metadata": {},
   "source": [
    "# Exercises - This Week"
   ]
  },
  {
   "cell_type": "markdown",
   "id": "eb9eacb0",
   "metadata": {},
   "source": [
    "Now that we know how the code works, let's make some changes to it!\n",
    "\n",
    "🚩 **Exercise 1:** Let's add a scoreboard like last week.\n",
    "\n",
    "🚩 **Exercise 2:** How do we stop the ball from falling under gravity? How can we add gravity to the targets? How can we make negative gravity for the targets?\n",
    "\n",
    "🚩 **Exercise 3:** Let's change the size and colour of the targets and ball\n",
    "\n",
    "🚩 **Exercise 4:** How do we increase the number of targets appearing on the screen?\n",
    "\n",
    "🚩 **Exercise 5:** How do we make the targets move to the left faster/slower?\n",
    "\n",
    "🚩 **Exercise 6:** How do we make the game faster?\n",
    "\n",
    "🚩 **Exercise 7:** How can we write game over on the screen when you lose? (hint: `turtle.goto(x, y)` sends the turtle to coordinates x, y. `turtle.write(f'Game Over!! \\n Score: {score}', font = ('Arial', 40,'normal'))` writes the message on the screen.)\n",
    "\n",
    "🚩 **Exercise 8:** Anything you want to change?\n",
    "\n",
    "- Make x coordinate of targets random too\n",
    "\n",
    "- Make targets dodge our ball\n",
    "\n",
    "- Add a cannon picture\n",
    "\n",
    "- Add in balls with extra score\n",
    "\n",
    "- Make the balls into real turtles\n",
    "\n",
    "- Make Cannon fire from below the screen\n",
    "\n",
    "- Move the cannon up and down the screen\n",
    "\n",
    "- Change the ball colour when you tap"
   ]
  },
  {
   "cell_type": "markdown",
   "id": "f51a0cb9",
   "metadata": {},
   "source": [
    "🚩 **Exercise 9:** How do we add yellow balls with double points? Make sure they don't end the game when they reach the left side."
   ]
  },
  {
   "cell_type": "markdown",
   "id": "3d226dde",
   "metadata": {},
   "source": [
    "🚩 **Exercise 10:** Make the yellow balls faster. Try speed -5"
   ]
  },
  {
   "cell_type": "markdown",
   "id": "f32e1b76",
   "metadata": {},
   "source": [
    "🚩 **Exercise 11:** Add green balls with 5 points."
   ]
  },
  {
   "cell_type": "markdown",
   "id": "2d29026a",
   "metadata": {},
   "source": [
    "🚩 **Exercise 12:** Add gravity to the yellow and green balls."
   ]
  },
  {
   "cell_type": "markdown",
   "id": "7b797d68",
   "metadata": {},
   "source": [
    "🚩 **Exercise 13:** Add a dot at -200, -200 to be our cannon."
   ]
  },
  {
   "cell_type": "markdown",
   "id": "4cceeb90",
   "metadata": {},
   "source": [
    "🚩 **Exercise 13:** Make functions up and down that will move the cannon up and down the left side of the screen."
   ]
  },
  {
   "cell_type": "code",
   "execution_count": null,
   "id": "2c930432",
   "metadata": {},
   "outputs": [],
   "source": []
  }
 ],
 "metadata": {
  "kernelspec": {
   "display_name": "Python 3 (ipykernel)",
   "language": "python",
   "name": "python3"
  },
  "language_info": {
   "codemirror_mode": {
    "name": "ipython",
    "version": 3
   },
   "file_extension": ".py",
   "mimetype": "text/x-python",
   "name": "python",
   "nbconvert_exporter": "python",
   "pygments_lexer": "ipython3",
   "version": "3.8.12"
  },
  "toc": {
   "base_numbering": 1,
   "nav_menu": {},
   "number_sections": true,
   "sideBar": true,
   "skip_h1_title": false,
   "title_cell": "Table of Contents",
   "title_sidebar": "Contents",
   "toc_cell": false,
   "toc_position": {},
   "toc_section_display": true,
   "toc_window_display": false
  }
 },
 "nbformat": 4,
 "nbformat_minor": 5
}
