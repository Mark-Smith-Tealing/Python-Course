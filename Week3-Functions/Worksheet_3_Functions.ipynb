{
 "cells": [
  {
   "cell_type": "markdown",
   "id": "29c877e6",
   "metadata": {},
   "source": [
    "# Introduction to Python - Block 3 Week 1\n",
    "\n",
    "**Remember:** This is a Jupyter notebook, an application that allows us to write code and view exercises easily.\n",
    "\n",
    "Like Spyder, Jupyter notebooks have cells (Markdown and Code cells) that allow us to separate code and text. Remember that the code cells have a `In [ ]:` on the left hand side!\n",
    "\n",
    "## Let's Try\n",
    "\n",
    "**Remember** You can run the next cell using the \"<kbd>>| Run</kbd>\" button on the toolbar above, or you can press <kbd>Ctrl</kbd> + <kbd>Enter</kbd>.\n"
   ]
  },
  {
   "cell_type": "markdown",
   "id": "b1a54d55",
   "metadata": {},
   "source": [
    "🚩 **Exercise:** Run the next cell to make sure that your notebook is working!"
   ]
  },
  {
   "cell_type": "code",
   "execution_count": 1,
   "id": "5464cf1b",
   "metadata": {},
   "outputs": [
    {
     "name": "stdout",
     "output_type": "stream",
     "text": [
      "Welcome to functions in Python!\n"
     ]
    }
   ],
   "source": [
    "print('Welcome to functions in Python!')"
   ]
  },
  {
   "cell_type": "markdown",
   "id": "3438c438",
   "metadata": {},
   "source": [
    "## Warmup - Last Time (Variables & Functions)\n",
    "\n",
    "Let's see if you can remember what we worked on last week!\n",
    "\n",
    "🚩 **Warmup 1:** What does this code do?"
   ]
  },
  {
   "cell_type": "code",
   "execution_count": null,
   "id": "eb6bec1c",
   "metadata": {
    "scrolled": true
   },
   "outputs": [],
   "source": [
    "x = 5\n",
    "y = 10\n",
    "\n",
    "print(x+y)"
   ]
  },
  {
   "cell_type": "markdown",
   "id": "d7fc3d2e",
   "metadata": {},
   "source": [
    "🚩 **Warmup 2:** Make a variable that has your first name as a value."
   ]
  },
  {
   "cell_type": "code",
   "execution_count": null,
   "id": "337e871d",
   "metadata": {},
   "outputs": [],
   "source": []
  },
  {
   "cell_type": "markdown",
   "id": "c93315a1",
   "metadata": {},
   "source": [
    "🚩 **Warmup 3:** How do we remeber the way that Python remembers functions?\n"
   ]
  },
  {
   "cell_type": "markdown",
   "id": "38c9c4d9",
   "metadata": {},
   "source": [
    "🚩 **Warmup 4:** What does it mean to define a function?"
   ]
  },
  {
   "cell_type": "markdown",
   "id": "30b59692",
   "metadata": {},
   "source": [
    "🚩 **Warmup 5:** What does it mean to call a function?"
   ]
  },
  {
   "cell_type": "markdown",
   "id": "aa9a6519",
   "metadata": {},
   "source": [
    "## Exercises - This Week\n",
    "\n",
    "### Defining Functions\n",
    "\n",
    "**Remember:** We define a function `hello_world()` like this."
   ]
  },
  {
   "cell_type": "code",
   "execution_count": 3,
   "id": "38931d24",
   "metadata": {},
   "outputs": [],
   "source": [
    "def hello_world():\n",
    "    print('Hello World')"
   ]
  },
  {
   "cell_type": "markdown",
   "id": "09e982e6",
   "metadata": {},
   "source": [
    "And we call our function by writing the name."
   ]
  },
  {
   "cell_type": "code",
   "execution_count": 4,
   "id": "1c2dff7b",
   "metadata": {},
   "outputs": [
    {
     "name": "stdout",
     "output_type": "stream",
     "text": [
      "Hello World\n"
     ]
    }
   ],
   "source": [
    "hello_world()"
   ]
  },
  {
   "cell_type": "markdown",
   "id": "7423e384",
   "metadata": {},
   "source": [
    "🚩 **Exercise 1:** Define a function `welcome()` that prints a greeting to the screen. Then call the function."
   ]
  },
  {
   "cell_type": "code",
   "execution_count": null,
   "id": "ae9bf1fe",
   "metadata": {},
   "outputs": [],
   "source": []
  },
  {
   "cell_type": "markdown",
   "id": "b72226de",
   "metadata": {},
   "source": [
    "🚩 **Exercise 2:** Define a function `display_message()` that prints one sentence telling everyone what we are learning about this week. Then call the function."
   ]
  },
  {
   "cell_type": "code",
   "execution_count": null,
   "id": "bbe20619",
   "metadata": {},
   "outputs": [],
   "source": []
  },
  {
   "cell_type": "markdown",
   "id": "2fdb2e54",
   "metadata": {},
   "source": [
    "🚩 **Exercise 3:** Define a function `goodbye()` that prints a goodbye message on the screen. Then call the function."
   ]
  },
  {
   "cell_type": "code",
   "execution_count": null,
   "id": "eda950e3",
   "metadata": {},
   "outputs": [],
   "source": []
  },
  {
   "cell_type": "markdown",
   "id": "f35cd781",
   "metadata": {},
   "source": [
    "🚩 **Exercise 4:** Define a function `my_name_is()` that prints `\"My name is ...\"` where your name should replace the dots. Then call the function."
   ]
  },
  {
   "cell_type": "code",
   "execution_count": null,
   "id": "70965f5d",
   "metadata": {},
   "outputs": [],
   "source": []
  },
  {
   "cell_type": "markdown",
   "id": "30a7d2d6",
   "metadata": {},
   "source": [
    "**Remember:** Arguments of a function are variables that the function can use, a function can be defined with arguments like this: (Remember to add in arugment variables when you call the function)"
   ]
  },
  {
   "cell_type": "code",
   "execution_count": 1,
   "id": "ba9159fe",
   "metadata": {},
   "outputs": [
    {
     "name": "stdout",
     "output_type": "stream",
     "text": [
      "9\n"
     ]
    }
   ],
   "source": [
    "def add(x, y):\n",
    "    print(x+y)\n",
    "    \n",
    "add(4,5)"
   ]
  },
  {
   "cell_type": "markdown",
   "id": "90d5931d",
   "metadata": {},
   "source": [
    "🚩 **Exercise 5:** Define a function `describe_city()` that has the name of a city and its country as arguments (`city` and `country`). The function should print a sentence such as `\"London is in the United Kingdom\"`. Then call the function. "
   ]
  },
  {
   "cell_type": "code",
   "execution_count": null,
   "id": "b15bf0d3",
   "metadata": {},
   "outputs": [],
   "source": []
  },
  {
   "cell_type": "markdown",
   "id": "37fee9d3",
   "metadata": {},
   "source": [
    "🚩 **Exercise 6:** Define a function `multiply()` that has two numbers as arguments `num1` and `num2`. The function should print out the product (multiplication) of the two numbers. Then call the function with 2 numbers."
   ]
  },
  {
   "cell_type": "code",
   "execution_count": null,
   "id": "f4eaab37",
   "metadata": {},
   "outputs": [],
   "source": []
  },
  {
   "cell_type": "markdown",
   "id": "437de3ff",
   "metadata": {},
   "source": [
    "🚩 **Exercise 7:** Define a function `hi_friend()` that has one argument `friend` (the name of a friend). The function should print `Hello ...!` Where `...` is the name of your friend. Then call the function."
   ]
  },
  {
   "cell_type": "code",
   "execution_count": null,
   "id": "89ca6bf9",
   "metadata": {},
   "outputs": [],
   "source": []
  },
  {
   "cell_type": "markdown",
   "id": "b033ae17",
   "metadata": {},
   "source": [
    "🚩 **Exercise 8:** Define a function `favourite_book()` that has one argument `title`. The function print `\"One of my favourite books is …\"` where `...` is your favourite book title. Then call the function"
   ]
  },
  {
   "cell_type": "code",
   "execution_count": null,
   "id": "bf942087",
   "metadata": {},
   "outputs": [],
   "source": []
  },
  {
   "cell_type": "markdown",
   "id": "1d31b423",
   "metadata": {},
   "source": [
    "🚩 **Exercise 9:** Define a function `make_shirt()` that has two arguments a shirt size and a message that should be printed on the shirt (`size` and `message`). The function should print `\"Your shirt size is ... and your message is ...\"`. Then call the function."
   ]
  },
  {
   "cell_type": "code",
   "execution_count": null,
   "id": "88011212",
   "metadata": {},
   "outputs": [],
   "source": []
  },
  {
   "cell_type": "markdown",
   "id": "0863ab61",
   "metadata": {},
   "source": [
    "### Positional and Keyword Arguments"
   ]
  },
  {
   "cell_type": "markdown",
   "id": "6a96b647",
   "metadata": {},
   "source": [
    "**Remember:** We have to put our arguments in the correct order when we call a function. Or we can use keyword arguments to write them in any order. "
   ]
  },
  {
   "cell_type": "code",
   "execution_count": null,
   "id": "5736b617",
   "metadata": {},
   "outputs": [],
   "source": []
  },
  {
   "cell_type": "markdown",
   "id": "1844adae",
   "metadata": {},
   "source": [
    "🚩 **Exercise 10:** Call the function `welcome()` using positional and keyword arguments."
   ]
  },
  {
   "cell_type": "code",
   "execution_count": null,
   "id": "95ed3a87",
   "metadata": {},
   "outputs": [],
   "source": []
  },
  {
   "cell_type": "markdown",
   "id": "5d1f7d25",
   "metadata": {},
   "source": [
    "🚩 **Exercise 11:** Call the function `add()` using positional and keyword arguments."
   ]
  },
  {
   "cell_type": "code",
   "execution_count": null,
   "id": "23944620",
   "metadata": {},
   "outputs": [],
   "source": []
  },
  {
   "cell_type": "markdown",
   "id": "65244074",
   "metadata": {},
   "source": [
    "🚩 **Exercise 12:** Call the function `favourite_book()` using positional and keyword arguments."
   ]
  },
  {
   "cell_type": "code",
   "execution_count": null,
   "id": "29735964",
   "metadata": {},
   "outputs": [],
   "source": []
  },
  {
   "cell_type": "markdown",
   "id": "e8480da9",
   "metadata": {},
   "source": [
    "🚩 **Exercise 13:** Call the function `make_shirt()` using positional and keyword arguments."
   ]
  },
  {
   "cell_type": "code",
   "execution_count": null,
   "id": "77808d0b",
   "metadata": {},
   "outputs": [],
   "source": []
  },
  {
   "cell_type": "markdown",
   "id": "09cf38b6",
   "metadata": {},
   "source": [
    "🚩 **Exercise 14:** Call the function `describe_city()` using positional and keyword arguments."
   ]
  },
  {
   "cell_type": "code",
   "execution_count": null,
   "id": "644087b1",
   "metadata": {},
   "outputs": [],
   "source": []
  },
  {
   "cell_type": "markdown",
   "id": "1e93e8a3",
   "metadata": {},
   "source": [
    "🚩 **Exercise 15:** Call the function `multiply()` using positional and keyword arguments."
   ]
  },
  {
   "cell_type": "code",
   "execution_count": null,
   "id": "0951e386",
   "metadata": {},
   "outputs": [],
   "source": []
  },
  {
   "cell_type": "markdown",
   "id": "150a5350",
   "metadata": {},
   "source": [
    "### Calling a function from a function\n",
    "\n",
    "**Remember:** We can call a function from inside another function."
   ]
  },
  {
   "cell_type": "code",
   "execution_count": 3,
   "id": "8b3168c0",
   "metadata": {},
   "outputs": [
    {
     "name": "stdout",
     "output_type": "stream",
     "text": [
      "This is the letter f\n",
      "This is the letter f\n"
     ]
    }
   ],
   "source": [
    "def f():\n",
    "    print('This is the letter f')\n",
    "    \n",
    "def do_f_twice():\n",
    "    f()\n",
    "    f()\n",
    "    \n",
    "do_f_twice()"
   ]
  },
  {
   "cell_type": "markdown",
   "id": "a938d8fa",
   "metadata": {},
   "source": [
    "🚩 **Exercise 16:** Define a function `repeat_welcome()` that uses the `welcome` function from exercise 1 to print the greeting message twice. Then call the new function."
   ]
  },
  {
   "cell_type": "code",
   "execution_count": null,
   "id": "613388a7",
   "metadata": {},
   "outputs": [],
   "source": []
  },
  {
   "cell_type": "markdown",
   "id": "1ea05641",
   "metadata": {},
   "source": [
    "🚩 **Exercise 17:** Define a function `repeat_favourite_book()` that uses the `favourite_book` function from exercise 8 to print the book message twice. Then call the new function."
   ]
  },
  {
   "cell_type": "code",
   "execution_count": null,
   "id": "cb343552",
   "metadata": {},
   "outputs": [],
   "source": []
  },
  {
   "cell_type": "markdown",
   "id": "c3d4dfe9",
   "metadata": {},
   "source": [
    "🚩 **Exercise 18:** Define a function `repeat_hi_friend()` that uses the `hi_friend` function from exercise 7 to print the greeting message twice. Then call the new function."
   ]
  },
  {
   "cell_type": "code",
   "execution_count": null,
   "id": "2c3a7d59",
   "metadata": {},
   "outputs": [],
   "source": []
  },
  {
   "cell_type": "markdown",
   "id": "60795558",
   "metadata": {},
   "source": [
    "🚩 **Exercise 19:** Define a function `repeat_addition()` that uses the `add` function from exercise 11 to print the addition twice. Then call the new function."
   ]
  },
  {
   "cell_type": "code",
   "execution_count": null,
   "id": "878f5291",
   "metadata": {},
   "outputs": [],
   "source": []
  },
  {
   "cell_type": "markdown",
   "id": "6fe56555",
   "metadata": {},
   "source": [
    "🚩 **Exercise 20:** Define a function `repeat_multiply()` that uses the `multiply` function from exercise 15 to print the multiplication twice. Then call the new function."
   ]
  },
  {
   "cell_type": "code",
   "execution_count": null,
   "id": "951c3a25",
   "metadata": {},
   "outputs": [],
   "source": []
  }
 ],
 "metadata": {
  "kernelspec": {
   "display_name": "Python 3 (ipykernel)",
   "language": "python",
   "name": "python3"
  },
  "language_info": {
   "codemirror_mode": {
    "name": "ipython",
    "version": 3
   },
   "file_extension": ".py",
   "mimetype": "text/x-python",
   "name": "python",
   "nbconvert_exporter": "python",
   "pygments_lexer": "ipython3",
   "version": "3.8.12"
  }
 },
 "nbformat": 4,
 "nbformat_minor": 5
}
