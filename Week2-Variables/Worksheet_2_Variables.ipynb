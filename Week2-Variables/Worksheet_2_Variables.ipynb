{
 "cells": [
  {
   "cell_type": "markdown",
   "id": "29c877e6",
   "metadata": {},
   "source": [
    "# Introduction to Python - Week 2 Variables\n",
    "\n",
    "**Remember:** This is a Jupyter notebook, an application that allows us to write code and view exercises easily.\n",
    "\n",
    "Jupyter notebooks have cells (Markdown and Code cells) that allow us to separate code and text. Remember that the code cells have a `In [ ]:` on the left hand side!\n",
    "\n",
    "## Let's Try\n",
    "\n",
    "**Remember** A cell is selected when the bar on the left is blue or green. You can run a highlighted cell using the <kbd>>| Run</kbd> button on the toolbar above, or you can press <kbd>Ctrl</kbd> + <kbd>Enter</kbd>.\n"
   ]
  },
  {
   "cell_type": "markdown",
   "id": "b1a54d55",
   "metadata": {},
   "source": [
    "🚩 **Exercise:** Run the next cell to make sure that your notebook is working!"
   ]
  },
  {
   "cell_type": "code",
   "execution_count": null,
   "id": "5464cf1b",
   "metadata": {},
   "outputs": [],
   "source": [
    "print('Welcome to functions in Python!')"
   ]
  },
  {
   "cell_type": "markdown",
   "id": "3438c438",
   "metadata": {},
   "source": [
    "## 0. Warmup - Last Time (Arithmetic)\n",
    "\n",
    "Let's see if you can remember what we worked on last week!\n",
    "\n",
    "🚩 **Warmup 1:** What does this code do?"
   ]
  },
  {
   "cell_type": "code",
   "execution_count": null,
   "id": "eb6bec1c",
   "metadata": {
    "scrolled": true
   },
   "outputs": [],
   "source": [
    "5*5"
   ]
  },
  {
   "cell_type": "markdown",
   "id": "d7fc3d2e",
   "metadata": {},
   "source": [
    "🚩 **Warmup 2:** Add the numbers 137 and 152."
   ]
  },
  {
   "cell_type": "code",
   "execution_count": null,
   "id": "337e871d",
   "metadata": {},
   "outputs": [],
   "source": []
  },
  {
   "cell_type": "markdown",
   "id": "c93315a1",
   "metadata": {},
   "source": [
    "🚩 **Warmup 3:** What is the type of `\"Hello\"`?\n"
   ]
  },
  {
   "cell_type": "code",
   "execution_count": null,
   "id": "886621d4",
   "metadata": {},
   "outputs": [],
   "source": []
  },
  {
   "cell_type": "markdown",
   "id": "38c9c4d9",
   "metadata": {},
   "source": [
    "🚩 **Warmup 4:** What is the type of `4.2`?\n"
   ]
  },
  {
   "cell_type": "code",
   "execution_count": null,
   "id": "47ea129b",
   "metadata": {},
   "outputs": [],
   "source": []
  },
  {
   "cell_type": "markdown",
   "id": "976daafd",
   "metadata": {},
   "source": [
    "🚩 **Warmup 5:** What is the type of `5`?"
   ]
  },
  {
   "cell_type": "code",
   "execution_count": null,
   "id": "199c6973",
   "metadata": {},
   "outputs": [],
   "source": []
  },
  {
   "cell_type": "markdown",
   "id": "aa9a6519",
   "metadata": {},
   "source": [
    "## 1. Exercises - This Week\n",
    "\n",
    "### 1.0 -  Creating Variables"
   ]
  },
  {
   "cell_type": "markdown",
   "id": "7423e384",
   "metadata": {},
   "source": [
    "🚩 **Exercise 1:** Create a variable called `name` that stores your name as a value."
   ]
  },
  {
   "cell_type": "code",
   "execution_count": null,
   "id": "ae9bf1fe",
   "metadata": {},
   "outputs": [],
   "source": []
  },
  {
   "cell_type": "markdown",
   "id": "855ec9be",
   "metadata": {},
   "source": [
    "🚩 **Exercise 2:** Create a variable called `age` that stores your age as a value."
   ]
  },
  {
   "cell_type": "code",
   "execution_count": null,
   "id": "bbe20619",
   "metadata": {},
   "outputs": [],
   "source": []
  },
  {
   "cell_type": "markdown",
   "id": "20e4bfd3",
   "metadata": {},
   "source": [
    "🚩 **Exercise 3:** Create a variable called `height` that stores your height as a value."
   ]
  },
  {
   "cell_type": "code",
   "execution_count": null,
   "id": "eda950e3",
   "metadata": {},
   "outputs": [],
   "source": []
  },
  {
   "cell_type": "markdown",
   "id": "64b8c259",
   "metadata": {},
   "source": [
    "🚩 **Exercise 4:** Create a variable called `friends_name` that stores your friend's name as a value."
   ]
  },
  {
   "cell_type": "code",
   "execution_count": null,
   "id": "70965f5d",
   "metadata": {},
   "outputs": [],
   "source": []
  },
  {
   "cell_type": "markdown",
   "id": "65f74d9e",
   "metadata": {},
   "source": [
    "🚩 **Exercise 5:** Create a variable called `friends_age` that stores your name as a value."
   ]
  },
  {
   "cell_type": "code",
   "execution_count": null,
   "id": "b15bf0d3",
   "metadata": {},
   "outputs": [],
   "source": []
  },
  {
   "cell_type": "markdown",
   "id": "8949491e",
   "metadata": {},
   "source": [
    "🚩 **Exercise 6:** Create a variable called `fav_num` that stores your favourite number as a value."
   ]
  },
  {
   "cell_type": "code",
   "execution_count": null,
   "id": "f4eaab37",
   "metadata": {},
   "outputs": [],
   "source": []
  },
  {
   "cell_type": "markdown",
   "id": "67496253",
   "metadata": {},
   "source": [
    "🚩 **Exercise 7:** Create a variable called `fav_sub` that stores your favourite subject as a value."
   ]
  },
  {
   "cell_type": "code",
   "execution_count": null,
   "id": "89ca6bf9",
   "metadata": {},
   "outputs": [],
   "source": []
  },
  {
   "cell_type": "markdown",
   "id": "ed5badc0",
   "metadata": {},
   "source": [
    "🚩 **Exercise 8:** Create a variable called `fav_animal` that stores your favourite animal as a value."
   ]
  },
  {
   "cell_type": "code",
   "execution_count": null,
   "id": "bf942087",
   "metadata": {},
   "outputs": [],
   "source": []
  },
  {
   "cell_type": "markdown",
   "id": "b7b9cd86",
   "metadata": {},
   "source": [
    "🚩 **Exercise 9:** Create a variable called `answer` that stores the answer to $50 \\times 25$ as a value."
   ]
  },
  {
   "cell_type": "code",
   "execution_count": null,
   "id": "88011212",
   "metadata": {},
   "outputs": [],
   "source": []
  },
  {
   "cell_type": "markdown",
   "id": "e9967664",
   "metadata": {},
   "source": [
    "🚩 **Exercise 10:** Create a variable called `empire` that stores your guess to how many floors are on the empire state building as a value."
   ]
  },
  {
   "cell_type": "code",
   "execution_count": null,
   "id": "32ca1a4b",
   "metadata": {},
   "outputs": [],
   "source": []
  },
  {
   "cell_type": "markdown",
   "id": "3aaafc9b",
   "metadata": {},
   "source": [
    "Now, Print 5 of these variables to the screen!"
   ]
  },
  {
   "cell_type": "code",
   "execution_count": null,
   "id": "3b24ffd6",
   "metadata": {},
   "outputs": [],
   "source": []
  },
  {
   "cell_type": "markdown",
   "id": "0863ab61",
   "metadata": {},
   "source": [
    "### 1.1 -  Rules for Naming Variables"
   ]
  },
  {
   "cell_type": "markdown",
   "id": "b3cc36c7",
   "metadata": {},
   "source": [
    "Recall the rules for naming variables:\n",
    "* Variable names cannot begin with a number\n",
    "* Only use lower case letters in variable names\n",
    "* Use the underscore to separate words in variable names\n",
    "* Avoid illegal characters in variable names\n",
    "* Avoid keywords in variable names\n",
    "* Try to keep variable names short but descriptive\n"
   ]
  },
  {
   "cell_type": "markdown",
   "id": "1844adae",
   "metadata": {},
   "source": [
    "**Try:** Run the cell below and see what the error message is. "
   ]
  },
  {
   "cell_type": "code",
   "execution_count": null,
   "id": "95ed3a87",
   "metadata": {},
   "outputs": [],
   "source": [
    "1name = \"Me\""
   ]
  },
  {
   "cell_type": "markdown",
   "id": "5d1f7d25",
   "metadata": {},
   "source": [
    "**Try:** Run the cell below and see what the error message is."
   ]
  },
  {
   "cell_type": "code",
   "execution_count": null,
   "id": "23944620",
   "metadata": {},
   "outputs": [],
   "source": [
    "c@t_name = \"Jamie\""
   ]
  },
  {
   "cell_type": "markdown",
   "id": "65244074",
   "metadata": {},
   "source": [
    "**Try:** Run the cell below and see what the error message is."
   ]
  },
  {
   "cell_type": "code",
   "execution_count": null,
   "id": "29735964",
   "metadata": {},
   "outputs": [],
   "source": [
    "print = \"Hello World!\""
   ]
  },
  {
   "cell_type": "markdown",
   "id": "e8480da9",
   "metadata": {},
   "source": [
    "🚩 **Exercise 11:** Which variable name do we prefer for someone's age?\n",
    "* `Age`\n",
    "* `my_age_right_now`"
   ]
  },
  {
   "cell_type": "code",
   "execution_count": null,
   "id": "77808d0b",
   "metadata": {},
   "outputs": [],
   "source": []
  },
  {
   "cell_type": "markdown",
   "id": "0b328290",
   "metadata": {},
   "source": [
    "🚩 **Exercise 12:** Which variable name do we prefer for the number of people in a room?\n",
    "* `number_of_people_in_this_room`\n",
    "* `num_people`"
   ]
  },
  {
   "cell_type": "code",
   "execution_count": null,
   "id": "bc71605e",
   "metadata": {},
   "outputs": [],
   "source": []
  },
  {
   "cell_type": "markdown",
   "id": "e2d321fc",
   "metadata": {},
   "source": [
    "🚩 **Exercise 13:** Which variable name do we prefer for the number of prints that we have of a painting?\n",
    "* `print`\n",
    "* `num_prints`"
   ]
  },
  {
   "cell_type": "code",
   "execution_count": null,
   "id": "13ab09f1",
   "metadata": {},
   "outputs": [],
   "source": []
  },
  {
   "cell_type": "markdown",
   "id": "2c8f4264",
   "metadata": {},
   "source": [
    "🚩 **Exercise 14:** Which variable name do we prefer for how many people there are?\n",
    "* `People`\n",
    "* `people`"
   ]
  },
  {
   "cell_type": "code",
   "execution_count": null,
   "id": "891e8bdd",
   "metadata": {},
   "outputs": [],
   "source": []
  },
  {
   "cell_type": "markdown",
   "id": "d4f4c4ec",
   "metadata": {},
   "source": [
    "🚩 **Exercise 15:** Which variable name do we prefer for someone's name?\n",
    "* `my name`\n",
    "* `my_name`"
   ]
  },
  {
   "cell_type": "code",
   "execution_count": null,
   "id": "7843c4fd",
   "metadata": {},
   "outputs": [],
   "source": []
  },
  {
   "cell_type": "markdown",
   "id": "4ffd2438",
   "metadata": {},
   "source": [
    "🚩 **Exercise 16:** Which variable name do we prefer for the number of words on a page?\n",
    "* `w`\n",
    "* `num_words`"
   ]
  },
  {
   "cell_type": "code",
   "execution_count": null,
   "id": "cc142773",
   "metadata": {},
   "outputs": [],
   "source": []
  },
  {
   "cell_type": "markdown",
   "id": "de2d93f8",
   "metadata": {},
   "source": [
    "🚩 **Exercise 17:** Which variable name do we prefer for the tallest person in a rooms name?\n",
    "* `BiggestPerson`\n",
    "* `tallest_person`"
   ]
  },
  {
   "cell_type": "code",
   "execution_count": null,
   "id": "6f09b0ec",
   "metadata": {},
   "outputs": [],
   "source": []
  },
  {
   "cell_type": "markdown",
   "id": "e29d8b33",
   "metadata": {},
   "source": [
    "🚩 **Exercise 18:** Which variable name do we prefer for someone's email address?\n",
    "* `email_@ddress`\n",
    "* `email_address`"
   ]
  },
  {
   "cell_type": "markdown",
   "id": "172935f7",
   "metadata": {},
   "source": [
    "### 1.2 - Making your Own Variables\n",
    "\n",
    "Here, create a variable with an appropriate name that follows all of the naming rules above. Then give the variable an appropriate value, either a string, integer or float value."
   ]
  },
  {
   "cell_type": "markdown",
   "id": "08a2d51a",
   "metadata": {},
   "source": [
    "🚩 **Exercise 11:** What would we call a variable that would hold the number of pages in a book?"
   ]
  },
  {
   "cell_type": "code",
   "execution_count": null,
   "id": "b5359c25",
   "metadata": {},
   "outputs": [],
   "source": []
  },
  {
   "cell_type": "markdown",
   "id": "77582456",
   "metadata": {},
   "source": [
    "🚩 **Exercise 12:** What would we call a variable that holds a person's birth year?"
   ]
  },
  {
   "cell_type": "code",
   "execution_count": null,
   "id": "df067e7e",
   "metadata": {},
   "outputs": [],
   "source": []
  },
  {
   "cell_type": "markdown",
   "id": "15296513",
   "metadata": {},
   "source": [
    "🚩 **Exercise 13:** What would we call a variable that would hold the number of miles in a marathon?"
   ]
  },
  {
   "cell_type": "code",
   "execution_count": null,
   "id": "769cec0d",
   "metadata": {},
   "outputs": [],
   "source": []
  },
  {
   "cell_type": "markdown",
   "id": "d6ea68b6",
   "metadata": {},
   "source": [
    "🚩 **Exercise 14:** What would we call a variable that would hold the size of a tree?"
   ]
  },
  {
   "cell_type": "code",
   "execution_count": null,
   "id": "9ebaf799",
   "metadata": {},
   "outputs": [],
   "source": []
  },
  {
   "cell_type": "markdown",
   "id": "6ccb8419",
   "metadata": {},
   "source": [
    "🚩 **Exercise 15:** What would we call a variable that would hold the size of a family?"
   ]
  },
  {
   "cell_type": "code",
   "execution_count": null,
   "id": "6b2fb31b",
   "metadata": {},
   "outputs": [],
   "source": []
  },
  {
   "cell_type": "markdown",
   "id": "b4b393e4",
   "metadata": {},
   "source": [
    "🚩 **Exercise 16:** What would we call a variable that would hold the name of a planet?\n"
   ]
  },
  {
   "cell_type": "code",
   "execution_count": null,
   "id": "dba09fef",
   "metadata": {},
   "outputs": [],
   "source": []
  },
  {
   "cell_type": "markdown",
   "id": "8040d7a6",
   "metadata": {},
   "source": [
    "🚩 **Exercise 17:** What would we call a variable that would hold the brand of a phone that someone owns?"
   ]
  },
  {
   "cell_type": "code",
   "execution_count": null,
   "id": "dd039245",
   "metadata": {},
   "outputs": [],
   "source": []
  },
  {
   "cell_type": "markdown",
   "id": "86aa6268",
   "metadata": {},
   "source": [
    "## 2. Using Variables\n",
    "\n",
    "Use the variables below to print out the full message, you can use `+` between strings to add them together. (Sometimes you need to remember to add spaces).\n"
   ]
  },
  {
   "cell_type": "code",
   "execution_count": 2,
   "id": "d6ccc944",
   "metadata": {},
   "outputs": [
    {
     "name": "stdout",
     "output_type": "stream",
     "text": [
      "hello you\n"
     ]
    }
   ],
   "source": [
    "string1 = \"hello\"\n",
    "string2 = \"you\"\n",
    "\n",
    "print(string1 + \" \" + string2)"
   ]
  },
  {
   "cell_type": "markdown",
   "id": "f44c348e",
   "metadata": {},
   "source": [
    "### 2.1 -  Strings"
   ]
  },
  {
   "cell_type": "markdown",
   "id": "57ad3d1b",
   "metadata": {},
   "source": [
    "🚩 **Exercise 18:** Use the varaibles below to print out the message `Hello World! I love Python`."
   ]
  },
  {
   "cell_type": "code",
   "execution_count": null,
   "id": "87088795",
   "metadata": {},
   "outputs": [],
   "source": [
    "string1 = \"Hello World!\"\n",
    "string2 = \"I love Python\"\n",
    "\n",
    "print()"
   ]
  },
  {
   "cell_type": "markdown",
   "id": "7fae7a00",
   "metadata": {},
   "source": [
    "🚩 **Exercise 19:** Use the varaibles below to print out the message `How are you?`."
   ]
  },
  {
   "cell_type": "code",
   "execution_count": null,
   "id": "281daf20",
   "metadata": {},
   "outputs": [],
   "source": [
    "word1 = \"How\"\n",
    "word2 = \"are\"\n",
    "word3 = \"you?\"\n",
    "\n",
    "print()"
   ]
  },
  {
   "cell_type": "markdown",
   "id": "a859669d",
   "metadata": {},
   "source": [
    "🚩 **Exercise 20:** Use the varaibles below to print out the message `What is your name?`."
   ]
  },
  {
   "cell_type": "code",
   "execution_count": null,
   "id": "9fce63e4",
   "metadata": {},
   "outputs": [],
   "source": [
    "word1 = \"What\"\n",
    "word2 = \"is \"\n",
    "word3 = \"your \"\n",
    "word4 = \"name\"\n",
    "\n",
    "print()"
   ]
  },
  {
   "cell_type": "markdown",
   "id": "68d0ec54",
   "metadata": {},
   "source": [
    "🚩 **Exercise 21:** Use the varaibles below to print out the message `I like programming, do you?`."
   ]
  },
  {
   "cell_type": "code",
   "execution_count": null,
   "id": "83d0a431",
   "metadata": {},
   "outputs": [],
   "source": [
    "string1 = \"I like programming\"\n",
    "string2 = \"do you?\"\n",
    "\n",
    "print()"
   ]
  },
  {
   "cell_type": "markdown",
   "id": "b82478dd",
   "metadata": {},
   "source": [
    "🚩 **Exercise 22:** Use the varaibles below to print out the message `Hello World!`."
   ]
  },
  {
   "cell_type": "code",
   "execution_count": null,
   "id": "cf6455fd",
   "metadata": {},
   "outputs": [],
   "source": [
    "word1 = \"Hello\"\n",
    "word2 = \"world\"\n",
    "\n",
    "print()"
   ]
  },
  {
   "cell_type": "markdown",
   "id": "6acb787c",
   "metadata": {},
   "source": [
    "🚩 **Exercise 23:** Use the varaibles below to print out the message `What time is it?`."
   ]
  },
  {
   "cell_type": "code",
   "execution_count": null,
   "id": "6a5ffb37",
   "metadata": {},
   "outputs": [],
   "source": [
    "string1 = \"What \"\n",
    "string2 = \"time\"\n",
    "\n",
    "\n",
    "print()"
   ]
  },
  {
   "cell_type": "markdown",
   "id": "535e4aaa",
   "metadata": {},
   "source": [
    "### 2.2 Integers"
   ]
  },
  {
   "cell_type": "markdown",
   "id": "921fc018",
   "metadata": {},
   "source": [
    "Use the variables given to you and print their sum (addition), product (multiplication) and difference (subtraction). \n",
    "\n",
    "**Example:**"
   ]
  },
  {
   "cell_type": "code",
   "execution_count": 3,
   "id": "3ff05382",
   "metadata": {},
   "outputs": [
    {
     "name": "stdout",
     "output_type": "stream",
     "text": [
      "15\n",
      "50\n",
      "5\n"
     ]
    }
   ],
   "source": [
    "num1 = 5\n",
    "num2 = 10\n",
    "\n",
    "print(num1+num2) # sum        (add)\n",
    "print(num1*num2) # product    (multiply)\n",
    "print(num2-num1) # difference (take away)"
   ]
  },
  {
   "cell_type": "markdown",
   "id": "f2f78e34",
   "metadata": {},
   "source": [
    "🚩 **Exercise 24:** Print the sum, product and difference of the variables."
   ]
  },
  {
   "cell_type": "code",
   "execution_count": null,
   "id": "b8df75c5",
   "metadata": {},
   "outputs": [],
   "source": [
    "num1 = 45\n",
    "num2 = 2\n"
   ]
  },
  {
   "cell_type": "markdown",
   "id": "3aa9b06b",
   "metadata": {},
   "source": [
    "🚩 **Exercise 25:** Print the sum, product and difference of the variables."
   ]
  },
  {
   "cell_type": "code",
   "execution_count": null,
   "id": "da042a66",
   "metadata": {},
   "outputs": [],
   "source": [
    "num1 = 6\n",
    "num2 = 10\n"
   ]
  },
  {
   "cell_type": "markdown",
   "id": "d5d6511e",
   "metadata": {},
   "source": [
    "🚩 **Exercise 26:** Print the sum, product and difference of the variables."
   ]
  },
  {
   "cell_type": "code",
   "execution_count": null,
   "id": "8738bac4",
   "metadata": {},
   "outputs": [],
   "source": [
    "num1 = 8\n",
    "num2 = 2\n"
   ]
  },
  {
   "cell_type": "markdown",
   "id": "41a76704",
   "metadata": {},
   "source": [
    "🚩 **Exercise 27:** Print the sum, product and difference of the variables."
   ]
  },
  {
   "cell_type": "code",
   "execution_count": null,
   "id": "876350db",
   "metadata": {},
   "outputs": [],
   "source": [
    "num1 = 9\n",
    "num2 = 12\n"
   ]
  },
  {
   "cell_type": "markdown",
   "id": "e6ded78d",
   "metadata": {},
   "source": [
    "🚩 **Exercise 28:** Print the sum, product and difference of the variables."
   ]
  },
  {
   "cell_type": "code",
   "execution_count": null,
   "id": "55869706",
   "metadata": {},
   "outputs": [],
   "source": [
    "num1 = 46\n",
    "num2 = 878\n"
   ]
  },
  {
   "cell_type": "markdown",
   "id": "6edffa24",
   "metadata": {},
   "source": [
    "🚩 **Exercise 29:** Print the sum, product and difference of the variables."
   ]
  },
  {
   "cell_type": "code",
   "execution_count": null,
   "id": "0f06e967",
   "metadata": {},
   "outputs": [],
   "source": [
    "num1 = 1\n",
    "num2 = 6\n"
   ]
  },
  {
   "cell_type": "markdown",
   "id": "cd97e6b1",
   "metadata": {},
   "source": [
    "🚩 **Exercise 30:** Print the sum, product and difference of the variables."
   ]
  },
  {
   "cell_type": "code",
   "execution_count": null,
   "id": "608a6936",
   "metadata": {},
   "outputs": [],
   "source": [
    "num1 = 9\n",
    "num2 = 134\n"
   ]
  },
  {
   "cell_type": "markdown",
   "id": "4ee6e19d",
   "metadata": {},
   "source": [
    "##### Changing Values of Variables\n",
    "\n",
    "Now let us make some changes to the variables above and see if we get the same answer."
   ]
  },
  {
   "cell_type": "markdown",
   "id": "99bbf900",
   "metadata": {},
   "source": [
    "🚩 **Exercise 31:** Add 1 to `num1`, then run the code below. "
   ]
  },
  {
   "cell_type": "code",
   "execution_count": null,
   "id": "d7e73481",
   "metadata": {},
   "outputs": [],
   "source": [
    "num1 = 4\n",
    "num2 = 2\n"
   ]
  },
  {
   "cell_type": "markdown",
   "id": "32d4b2fd",
   "metadata": {},
   "source": [
    "🚩 **Exercise 32:** Add 1 to `num1` and change `num2` to 5, then run the code below. "
   ]
  },
  {
   "cell_type": "code",
   "execution_count": null,
   "id": "979bec74",
   "metadata": {},
   "outputs": [],
   "source": [
    "num1 = 2\n",
    "num2 = 8\n"
   ]
  },
  {
   "cell_type": "markdown",
   "id": "7316404f",
   "metadata": {},
   "source": [
    "🚩 **Exercise 33:** Add 2 to `num1` and take away 5 from `num2`, then run the code below. "
   ]
  },
  {
   "cell_type": "code",
   "execution_count": null,
   "id": "a1751f85",
   "metadata": {},
   "outputs": [],
   "source": [
    "num1 = 4\n",
    "num2 = 10\n"
   ]
  },
  {
   "cell_type": "markdown",
   "id": "de6db7b1",
   "metadata": {},
   "source": [
    "### 3. Using `input()`\n",
    "\n",
    "We can ask the user for some information using the `input()` function, let us see how it works.\n",
    "\n",
    "**Example:**"
   ]
  },
  {
   "cell_type": "code",
   "execution_count": null,
   "id": "5b96a028",
   "metadata": {},
   "outputs": [],
   "source": [
    "name = input()\n",
    "\n",
    "print(\"your name is \" + name)"
   ]
  },
  {
   "cell_type": "markdown",
   "id": "529ef863",
   "metadata": {},
   "source": [
    "🚩 **Exercise 34:** Ask the user for their age and print `you are ... years old` where `...` is their age. "
   ]
  },
  {
   "cell_type": "code",
   "execution_count": null,
   "id": "a612df48",
   "metadata": {},
   "outputs": [],
   "source": [
    "age = input()\n",
    "\n",
    "print()"
   ]
  },
  {
   "cell_type": "markdown",
   "id": "1efaa339",
   "metadata": {},
   "source": [
    "🚩 **Exercise 35:** Ask the user for their favourite animal and print `your favourite animal is ...` where `...` is their favourite animal. "
   ]
  },
  {
   "cell_type": "code",
   "execution_count": null,
   "id": "c4a88fe3",
   "metadata": {},
   "outputs": [],
   "source": [
    "fav_animal = input()\n",
    "\n",
    "print()"
   ]
  },
  {
   "cell_type": "markdown",
   "id": "60692431",
   "metadata": {},
   "source": [
    "🚩 **Exercise 36:** Ask the user for the best food and print `the best food in the world is ...` where `...` is the best food. "
   ]
  },
  {
   "cell_type": "code",
   "execution_count": null,
   "id": "39c5aa14",
   "metadata": {},
   "outputs": [],
   "source": []
  },
  {
   "cell_type": "markdown",
   "id": "b3d25263",
   "metadata": {},
   "source": [
    "🚩 **Exercise 37:** Ask the user for a city in China and print `... is in China` where `...` is a city in China. "
   ]
  },
  {
   "cell_type": "code",
   "execution_count": null,
   "id": "55da76bd",
   "metadata": {},
   "outputs": [],
   "source": []
  },
  {
   "cell_type": "markdown",
   "id": "2e7fa46c",
   "metadata": {},
   "source": [
    "🚩 **Exercise 38:** Ask the user for two numbers then print the numbers added together. "
   ]
  },
  {
   "cell_type": "code",
   "execution_count": null,
   "id": "4abfb55c",
   "metadata": {},
   "outputs": [],
   "source": [
    "num1 = input()\n",
    "num2 = input()\n",
    "\n",
    "print()"
   ]
  },
  {
   "cell_type": "markdown",
   "id": "b0c1dac5",
   "metadata": {},
   "source": [
    "🚩 **Exercise 39:** Ask the user for two numbers then print out the numbers multiplied together."
   ]
  },
  {
   "cell_type": "code",
   "execution_count": null,
   "id": "8bb02559",
   "metadata": {},
   "outputs": [],
   "source": [
    "num1 = input()\n",
    "num2 = input()\n",
    "\n",
    "print()"
   ]
  }
 ],
 "metadata": {
  "kernelspec": {
   "display_name": "Python 3 (ipykernel)",
   "language": "python",
   "name": "python3"
  },
  "language_info": {
   "codemirror_mode": {
    "name": "ipython",
    "version": 3
   },
   "file_extension": ".py",
   "mimetype": "text/x-python",
   "name": "python",
   "nbconvert_exporter": "python",
   "pygments_lexer": "ipython3",
   "version": "3.8.12"
  }
 },
 "nbformat": 4,
 "nbformat_minor": 5
}
