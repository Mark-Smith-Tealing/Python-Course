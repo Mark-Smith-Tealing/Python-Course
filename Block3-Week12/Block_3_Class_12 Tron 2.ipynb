{
 "cells": [
  {
   "cell_type": "markdown",
   "id": "29c877e6",
   "metadata": {},
   "source": [
    "\n",
    "# Introduction to Python - Block 3 Week 12 - Tron 2\n",
    "\n",
    "Now, we are going to try a new worksheet style in this block, this should help us to see the exercises more easily while working on them. This is a Jupyter notebook, that allows for us to write code and display the information easily.\n",
    "\n",
    "Like Spyder, Jupyter notebooks have cells (Markdown and Code cells) that allow us to separate code and text.\n",
    "\n",
    "## Let's Try\n",
    "\n",
    "You can run the next cell using the \"<kbd> | > Run </kbd>\" button on the toolbar above, or press <kbd>Ctrl</kbd> + <kbd>Enter</kbd>.\n"
   ]
  },
  {
   "cell_type": "code",
   "execution_count": 1,
   "id": "5464cf1b",
   "metadata": {},
   "outputs": [
    {
     "name": "stdout",
     "output_type": "stream",
     "text": [
      "Welcome to Tron!\n"
     ]
    }
   ],
   "source": [
    "print(\"Welcome to Tron!\")"
   ]
  },
  {
   "cell_type": "markdown",
   "id": "73ad3408",
   "metadata": {},
   "source": [
    "# Lesson Aims\n",
    "\n",
    "Last time:\n",
    "- We coded opponents that moved randomly and slightly less randomly.\n",
    "\n",
    "Today we are going to:\n",
    "- Learn how to code the smart opponents with the looking ahead strategies.\n",
    "- These will be called looking ahead, looking ahead in a smart way."
   ]
  },
  {
   "cell_type": "markdown",
   "id": "f4da219c",
   "metadata": {},
   "source": [
    "# Warmup\n",
    "\n",
    "First, let's do some warmup questions.\n",
    "\n",
    "🚩 **Warmup 0:** Put your own colours into the snake from last time!\n",
    "\n",
    "🚩 **Warmup 1:** Play the game for 5 minutes and see if you can remember how the game works!\n",
    "\n",
    "🚩 **Warmup 2:** What did we add/change last time? (Opponents, how did each move?)\n",
    "\n",
    "🚩 **Warmup 3:** How is this game different from snake, flappy and cannon? (Hint: does it clear the screen?)\n",
    "\n",
    "🚩 **Warmup 4:** How would we code an opponent that is a little smarter? (Hint: Think about the strategies above)"
   ]
  },
  {
   "cell_type": "markdown",
   "id": "a47aa32c",
   "metadata": {},
   "source": [
    "# Tron Code"
   ]
  },
  {
   "cell_type": "markdown",
   "id": "d0940bf8",
   "metadata": {},
   "source": [
    "Today, we are going to have a look at a different game from the freegames module. Today we are going to code Tron! First we need to install freegames on Jupyter. We should have this already installed, but just run this code to make sure."
   ]
  },
  {
   "cell_type": "code",
   "execution_count": 2,
   "id": "b5bcb51c",
   "metadata": {},
   "outputs": [
    {
     "name": "stdout",
     "output_type": "stream",
     "text": [
      "Requirement already satisfied: freegames in c:\\users\\mark\\anaconda3\\lib\\site-packages (2.4.0)\n",
      "Note: you may need to restart the kernel to use updated packages.\n"
     ]
    }
   ],
   "source": [
    "pip install freegames"
   ]
  },
  {
   "cell_type": "code",
   "execution_count": 23,
   "id": "d923cce9",
   "metadata": {},
   "outputs": [],
   "source": [
    "from turtle import *\n",
    "\n",
    "import turtle\n",
    "import random\n",
    "\n",
    "from freegames import square, vector"
   ]
  },
  {
   "cell_type": "code",
   "execution_count": 24,
   "id": "56232979",
   "metadata": {},
   "outputs": [],
   "source": [
    "def inside(head):\n",
    "    \"\"\"Return True if head inside screen.\"\"\"\n",
    "    return -200 < head.x < 200 and -200 < head.y < 200"
   ]
  },
  {
   "cell_type": "code",
   "execution_count": 25,
   "id": "19f2beef",
   "metadata": {},
   "outputs": [],
   "source": [
    "def change(x, y, p1=True):\n",
    "    \"Change snake direction.\"\n",
    "    if twoplayer==False:\n",
    "        if p1:\n",
    "            p1aim.x = x\n",
    "            p1aim.y = y\n",
    "            p2aim.x = x\n",
    "            p2aim.y = y\n",
    "    else:\n",
    "        if p1:\n",
    "            p1aim.x = x\n",
    "            p1aim.y = y\n",
    "        else:\n",
    "            p2aim.x = x\n",
    "            p2aim.y = y"
   ]
  },
  {
   "cell_type": "code",
   "execution_count": 38,
   "id": "3d8b3a43",
   "metadata": {},
   "outputs": [],
   "source": [
    "def draw():\n",
    "    global count\n",
    "    \"\"\"Advance players and draw game.\"\"\"\n",
    "    \n",
    "    if opponentmove == 'random':\n",
    "        random_number = random.randrange(0,4)\n",
    "        \n",
    "        if random_number == 0:\n",
    "            change(4, 0, p1=False)\n",
    "        elif random_number == 1:\n",
    "            change(-4, 0, p1=False)\n",
    "        elif random_number == 2:\n",
    "            change(0, 4, p1=False)\n",
    "        else:\n",
    "            change(0, -4, p1=False)\n",
    "            \n",
    "    elif opponentmove == 'less random':\n",
    "        count+=1\n",
    "        if count % 5 == 0:\n",
    "            random_number = random.randrange(0,4)\n",
    "        \n",
    "            if random_number == 0:\n",
    "                change(4, 0, p1=False)\n",
    "            elif random_number == 1:\n",
    "                change(-4, 0, p1=False)\n",
    "            elif random_number == 2:\n",
    "                change(0, 4, p1=False)\n",
    "            else:\n",
    "                change(0, -4, p1=False)\n",
    "                \n",
    "    elif opponentmove == 'look_ahead':\n",
    "            squares_ahead = []\n",
    "            for i in range(1,6):\n",
    "                squares_ahead.append(p2xy + i * p2aim)\n",
    "\n",
    "            crash_ahead = []\n",
    "            for i in squares_ahead:\n",
    "                if i in p1body or not inside(i):\n",
    "                    crash_ahead.append(True)\n",
    "                else:\n",
    "                    crash_ahead.append(False)\n",
    "            \n",
    "            if any(crash_ahead):\n",
    "                random_num = random.randrange(0,4)\n",
    "\n",
    "                if random_num == 0:\n",
    "                    change(4, 0, p1=False)\n",
    "                elif random_num == 1:\n",
    "                    change(-4, 0, p1=False)\n",
    "                elif random_num == 2:\n",
    "                    change(0, 4, p1=False)\n",
    "                else:\n",
    "                    change(0, -4, p1=False)\n",
    "    \n",
    "    p1xy.move(p1aim)\n",
    "    p1head = p1xy.copy()\n",
    "\n",
    "    p2xy.move(p2aim)\n",
    "    p2head = p2xy.copy()\n",
    "\n",
    "    if not inside(p1head) or p1head in p2body:\n",
    "        print(f'Score: {len(p1body)}')\n",
    "        print('Player blue wins!')\n",
    "        turtle.goto(-150, 0)\n",
    "        turtle.write(f'Game Over!! \\n Score: {len(p1body)}', font = ('Arial', 40, 'normal'))\n",
    "        return\n",
    "\n",
    "    if not inside(p2head) or p2head in p1body:\n",
    "        print('Player red wins!')\n",
    "        print(f'Score: {len(p1body)}')\n",
    "        turtle.goto(-150, 0)\n",
    "        turtle.write(f'Game Over!! \\n Score: {len(p1body)}', font = ('Arial', 40,'normal'))\n",
    "        return\n",
    "\n",
    "    p1body.add(p1head)\n",
    "    p2body.add(p2head)\n",
    "\n",
    "    square(p1xy.x, p1xy.y, 3, colours1[random.randrange(0,3)])\n",
    "    square(p2xy.x, p2xy.y, 3, colours2[random.randrange(0,3)])    \n",
    "    \n",
    "    update()\n",
    "    \n",
    "    ontimer(draw, 100)"
   ]
  },
  {
   "cell_type": "markdown",
   "id": "263cebf5",
   "metadata": {},
   "source": [
    "This cell runs the game"
   ]
  },
  {
   "cell_type": "code",
   "execution_count": 39,
   "id": "08bc3b21",
   "metadata": {
    "scrolled": true
   },
   "outputs": [
    {
     "name": "stdout",
     "output_type": "stream",
     "text": [
      "Player red wins!\n",
      "Score: 40\n"
     ]
    }
   ],
   "source": [
    "p1xy = vector(-100, 0)\n",
    "p1aim = vector(4, 0)\n",
    "p1body = set()\n",
    "\n",
    "p2xy = vector(100, 0)\n",
    "p2aim = vector(-4, 0)\n",
    "p2body = set()\n",
    "\n",
    "colours1 = ['red', 'orange', 'yellow']\n",
    "colours2 = ['blue', 'navy', 'grey']\n",
    "\n",
    "twoplayer = True\n",
    "\n",
    "#opponentmove = \"random\"\n",
    "#opponentmove = 'less random'\n",
    "opponentmove = 'look ahead'\n",
    "\n",
    "count = 0\n",
    "\n",
    "setup(420, 420, 370, 0)\n",
    "hideturtle()\n",
    "tracer(False)\n",
    "turtle.up()\n",
    "listen()\n",
    "\n",
    "onkey(lambda: change(4, 0), 'Right')\n",
    "onkey(lambda: change(-4, 0), 'Left')\n",
    "onkey(lambda: change(0, 4), 'Up')\n",
    "onkey(lambda: change(0, -4), 'Down')\n",
    "\n",
    "draw()\n",
    "done()"
   ]
  },
  {
   "cell_type": "markdown",
   "id": "23053828",
   "metadata": {},
   "source": [
    "# Exercises"
   ]
  },
  {
   "cell_type": "markdown",
   "id": "d65ecf41",
   "metadata": {},
   "source": [
    "## Two Weeks Ago"
   ]
  },
  {
   "cell_type": "markdown",
   "id": "d892cf66",
   "metadata": {},
   "source": [
    "Now that we know how the code works, we have already:\n",
    "\n",
    "- 🚩 **Exercise 1:** Let's add a scoreboard like we have done in the other games. How can we count the score?"
   ]
  },
  {
   "cell_type": "markdown",
   "id": "f06f7fb2",
   "metadata": {},
   "source": [
    "- 🚩 **Exercise 2:** How can we end the game if the snakes crash into themselves?"
   ]
  },
  {
   "cell_type": "markdown",
   "id": "66776f16",
   "metadata": {},
   "source": [
    "- 🚩 **Exercise 3:** How can we make the game two player?"
   ]
  },
  {
   "cell_type": "markdown",
   "id": "5555f104",
   "metadata": {},
   "source": [
    "- 🚩 **Exercise 4:** How can we write game over on the screen when you lose? (hint: `turtle.goto(x, y)` sends the turtle to coordinates x, y. `turtle.write(f'Game Over!! \\n Score: {score}', font = ('Arial', 40,'normal'))` writes the message on the screen.)"
   ]
  },
  {
   "cell_type": "markdown",
   "id": "9a0641ea",
   "metadata": {},
   "source": [
    "## Last Week\n",
    "\n",
    "This week, we are going to code an opponent that can play against us. The opponents will use the strategies that we talked about last time. They will use the following four strategies:\n",
    "\n",
    "- Randomly moving\n",
    "- Looking ahead"
   ]
  },
  {
   "cell_type": "markdown",
   "id": "eb9eacb0",
   "metadata": {},
   "source": [
    "🚩 **Exercise 1:** Code the randomly moving opponent!"
   ]
  },
  {
   "cell_type": "markdown",
   "id": "fb611a03",
   "metadata": {},
   "source": [
    "🚩 **Exercise 2:** Code the randomly moving slightly less random opponent!"
   ]
  },
  {
   "cell_type": "markdown",
   "id": "7a6df226",
   "metadata": {},
   "source": [
    "🚩 **Exercise 3:** Code the looking ahead opponenet!"
   ]
  },
  {
   "cell_type": "markdown",
   "id": "37af1a5c",
   "metadata": {},
   "source": [
    "🚩 **Exercise 4:** Change the code so that you cannot crash into your own body!"
   ]
  },
  {
   "cell_type": "markdown",
   "id": "d6f9655d",
   "metadata": {},
   "source": [
    "🚩 **Exercise 5:** Code the smart looking ahead opponenet!"
   ]
  },
  {
   "cell_type": "markdown",
   "id": "b46a422a",
   "metadata": {},
   "source": [
    "## This Week\n",
    "\n",
    "This week, we are going to code an opponent that can play against us. The opponents will use the strategies that we talked about last time. They will start to look ahead into the future squares and make sure not to crash."
   ]
  },
  {
   "cell_type": "markdown",
   "id": "e8000652",
   "metadata": {},
   "source": [
    "🚩 **Exercise 1:** Make a new opponent mode called `'look_ahead'`."
   ]
  },
  {
   "cell_type": "markdown",
   "id": "8b9fefa7",
   "metadata": {},
   "source": [
    "🚩 **Exercise 2:** How can we use the following variables to make our snake look infront of itself? \n",
    "\n",
    "- `p2xy` - the position of the head of the opponent snake. \n",
    "- `p2aim` - the direction that the opponenet snake is going."
   ]
  },
  {
   "cell_type": "markdown",
   "id": "a1090525",
   "metadata": {},
   "source": [
    "🚩 **Exercise 3:** We want to make a list that contains a vector for each of the 5 positions ahead of our snake. Let's code this! \n",
    "\n",
    "1. Make an empty list called `squares_ahead`.\n",
    "2. Add to the list the current head position plus the direction of the snake in 5 units. (Hint: Use `squares_ahead.append()` to add to the list).\n",
    "3. print out the list so that we can see it.\n"
   ]
  },
  {
   "cell_type": "markdown",
   "id": "85c23f3d",
   "metadata": {},
   "source": [
    "🚩 **Exercise 4:** Now, for each of the positions ahead (vectors in `squares_ahead`) we want to check if any of them would result in the opponent player losing the game. Let's code this!\n",
    "\n",
    "1. Make an empty list called `crash_ahead`.\n",
    "2. For each square ahead, we need to check if it results in a game loss. What would be a game loss for our opponenet player?\n",
    "3. If the square is an opponent loss, we want to add `True` to the `crash_ahead` list and otherwise we want to add `False` to the `crash_ahead` list.\n"
   ]
  },
  {
   "cell_type": "markdown",
   "id": "09b7a8d8",
   "metadata": {},
   "source": [
    "🚩 **Exercise 5:** Now, we have a list that tells us if the opponent will crash. We need to code it changing direction. When do we know if there is a crash ahead and how should we check for it?\n"
   ]
  },
  {
   "cell_type": "markdown",
   "id": "e99b0b08",
   "metadata": {},
   "source": [
    "🚩 **Exercise 6:** We can use `any()` to check if a list has a `True` inside it. Let's code the direction change.\n",
    "\n",
    "1. Check if there are any `True`s in the `crash_ahead` list.\n",
    "2. Make a random number that will choose our new direction. Which directions should we let the opponent pick?\n",
    "3. Make the snake change direction! (If the random number is zero, turn right. If the random number is 1 turn left,...)\n"
   ]
  },
  {
   "cell_type": "markdown",
   "id": "ac80d815",
   "metadata": {},
   "source": [
    "## More Changes.\n",
    "\n",
    "How could we make the opponent even better?\n",
    "\n",
    "- Look further ahead into the future (How would you change this in the code above?)\n",
    "- Make sure that the opponent never picks back or forwards (How would you change this in the code above?)\n",
    "- Only pick left or right when it sees a crash coming. (How would you code this?)\n",
    "- Game gets harder (Levels)\n",
    "- Two robots against eachother\n",
    "- Look ahead, then look to the side then move"
   ]
  },
  {
   "cell_type": "code",
   "execution_count": null,
   "id": "777e4b92",
   "metadata": {},
   "outputs": [],
   "source": []
  }
 ],
 "metadata": {
  "kernelspec": {
   "display_name": "Python 3 (ipykernel)",
   "language": "python",
   "name": "python3"
  },
  "language_info": {
   "codemirror_mode": {
    "name": "ipython",
    "version": 3
   },
   "file_extension": ".py",
   "mimetype": "text/x-python",
   "name": "python",
   "nbconvert_exporter": "python",
   "pygments_lexer": "ipython3",
   "version": "3.8.12"
  },
  "toc": {
   "base_numbering": 1,
   "nav_menu": {},
   "number_sections": true,
   "sideBar": true,
   "skip_h1_title": false,
   "title_cell": "Table of Contents",
   "title_sidebar": "Contents",
   "toc_cell": false,
   "toc_position": {},
   "toc_section_display": true,
   "toc_window_display": false
  }
 },
 "nbformat": 4,
 "nbformat_minor": 5
}
