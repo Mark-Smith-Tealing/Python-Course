{
 "cells": [
  {
   "cell_type": "markdown",
   "id": "29c877e6",
   "metadata": {},
   "source": [
    "# Introduction to Python - Week 1 Arithmetic\n",
    "\n",
    "This is a Jupyter notebook, an application that allows us to write code and view exercises easily.\n",
    "\n",
    "Jupyter notebooks have cells (Markdown and Code cells) that allow us to separate code and text. Remember that the code cells have `In [ ]:` on the left hand side!\n",
    "\n",
    "## Let's Try\n",
    "\n",
    "**Remember** A cell is selected when the bar on the left is blue or green. You can run a highlighted cell using the \"<kbd>>| Run</kbd>\" button on the toolbar above, or you can press <kbd>Ctrl</kbd> + <kbd>Enter</kbd>.\n"
   ]
  },
  {
   "cell_type": "markdown",
   "id": "b1a54d55",
   "metadata": {},
   "source": [
    "🚩 **Exercise:** Highlight this cell by clicking on the code (the bar on the left should be green). Now run this cell to make sure that your notebook is working!"
   ]
  },
  {
   "cell_type": "code",
   "execution_count": 1,
   "id": "5464cf1b",
   "metadata": {
    "scrolled": true
   },
   "outputs": [
    {
     "name": "stdout",
     "output_type": "stream",
     "text": [
      "Welcome to functions in Python!\n"
     ]
    }
   ],
   "source": [
    "print('Welcome to functions in Python!')"
   ]
  },
  {
   "cell_type": "markdown",
   "id": "3438c438",
   "metadata": {},
   "source": [
    "## Warmup - Last Time (Variables & Functions)\n",
    "\n",
    "Let's see if you can remember what we worked on last week!\n",
    "\n",
    "🚩 **Warmup 1:** Which symbol do we use to add two numbers in Python? Try to add the numbers 3 and 5."
   ]
  },
  {
   "cell_type": "code",
   "execution_count": null,
   "id": "eb6bec1c",
   "metadata": {
    "scrolled": true
   },
   "outputs": [],
   "source": []
  },
  {
   "cell_type": "markdown",
   "id": "d7fc3d2e",
   "metadata": {},
   "source": [
    "🚩 **Warmup 2:** Which symbol do we use to subtract (take away) two numbers in Python? Try to subtract 10 from 100."
   ]
  },
  {
   "cell_type": "code",
   "execution_count": null,
   "id": "337e871d",
   "metadata": {},
   "outputs": [],
   "source": []
  },
  {
   "cell_type": "markdown",
   "id": "c93315a1",
   "metadata": {},
   "source": [
    "🚩 **Warmup 3:** Which symbol do we use to divide two numbers in Python? Try to divide 100 by 5.\n"
   ]
  },
  {
   "cell_type": "code",
   "execution_count": null,
   "id": "12a6ef90",
   "metadata": {},
   "outputs": [],
   "source": []
  },
  {
   "cell_type": "markdown",
   "id": "9841bef1",
   "metadata": {},
   "source": [
    "🚩 **Warmup 4:** Which symbol do we use to multiply (times) two numbers in Python? Try to multiply 2 by 8."
   ]
  },
  {
   "cell_type": "code",
   "execution_count": null,
   "id": "5591e54f",
   "metadata": {},
   "outputs": [],
   "source": []
  },
  {
   "cell_type": "markdown",
   "id": "8a315491",
   "metadata": {},
   "source": [
    "🚩 **Warmup 5:** Which symbol do we use for the power of in Python? Try to work out 2 to the power of 3."
   ]
  },
  {
   "cell_type": "code",
   "execution_count": null,
   "id": "539d3b9c",
   "metadata": {},
   "outputs": [],
   "source": []
  },
  {
   "cell_type": "markdown",
   "id": "aa9a6519",
   "metadata": {},
   "source": [
    "## Exercises - This Week\n",
    "\n",
    "### Arithmetic in Python\n",
    "\n",
    "Remember these are the correct operators to use,\n",
    "\n",
    "| Operation | Math | Python |\n",
    "| --- | --- | --- |\n",
    "| Addition (Add)          | + | + |\n",
    "| Subtraction (Take away) | - | - |\n",
    "| Multiplication (Times)  | $\\times$ | * |\n",
    "| Division (Divide)       | $\\div$ | / |\n",
    "| Power (To the Power of) | ^ | ** |"
   ]
  },
  {
   "cell_type": "markdown",
   "id": "7423e384",
   "metadata": {},
   "source": [
    "🚩 **Exercise 1:** Use Python as a calculator to work out the following.\n",
    "* 83+5\n",
    "* 76-34\n",
    "* 3 $\\times$ 5"
   ]
  },
  {
   "cell_type": "code",
   "execution_count": null,
   "id": "317f2447",
   "metadata": {},
   "outputs": [],
   "source": []
  },
  {
   "cell_type": "markdown",
   "id": "91241830",
   "metadata": {},
   "source": [
    "🚩 **Exercise 2:** Use Python as a calculator to work out  the following.\n",
    "* 75 $\\div$ 25\n",
    "* 154+222\n",
    "* 8 - 3"
   ]
  },
  {
   "cell_type": "code",
   "execution_count": null,
   "id": "bbe20619",
   "metadata": {},
   "outputs": [],
   "source": []
  },
  {
   "cell_type": "markdown",
   "id": "9e9a84db",
   "metadata": {},
   "source": [
    "🚩 **Exercise 3:** Use Python as a calculator to work out  the following.\n",
    "* 6 + 12\n",
    "* 8 $\\div$ 2\n",
    "* 7 $\\times$ 6"
   ]
  },
  {
   "cell_type": "code",
   "execution_count": null,
   "id": "eda950e3",
   "metadata": {},
   "outputs": [],
   "source": []
  },
  {
   "cell_type": "markdown",
   "id": "534084b3",
   "metadata": {},
   "source": [
    "🚩 **Exercise 4:** Use Python as a calculator to work out  the following.\n",
    "* 52+43\n",
    "* 6 $\\times$ 4\n",
    "* $7^{3}$"
   ]
  },
  {
   "cell_type": "code",
   "execution_count": null,
   "id": "70965f5d",
   "metadata": {},
   "outputs": [],
   "source": []
  },
  {
   "cell_type": "markdown",
   "id": "d2b1e2c0",
   "metadata": {},
   "source": [
    "🚩 **Exercise 5:** Use Python as a calculator to work out  the following.\n",
    "* $5^2$\n",
    "* 24-12\n",
    "* 4 $\\times$ 9"
   ]
  },
  {
   "cell_type": "code",
   "execution_count": null,
   "id": "b15bf0d3",
   "metadata": {},
   "outputs": [],
   "source": []
  },
  {
   "cell_type": "markdown",
   "id": "cd4af675",
   "metadata": {},
   "source": [
    "🚩 **Exercise 6:** Use Python as a calculator to work out  the following.\n",
    "* 15 $\\div$ 3\n",
    "* $8^2$\n",
    "* 4 $\\times$ 21"
   ]
  },
  {
   "cell_type": "code",
   "execution_count": null,
   "id": "f4eaab37",
   "metadata": {},
   "outputs": [],
   "source": []
  },
  {
   "cell_type": "markdown",
   "id": "d3db0598",
   "metadata": {},
   "source": [
    "🚩 **Exercise 7:** Use Python as a calculator to work out  the following.\n",
    "* 15+12\n",
    "* 50 $\\div$ 10\n",
    "* 7 + 13"
   ]
  },
  {
   "cell_type": "code",
   "execution_count": null,
   "id": "c65ee0fc",
   "metadata": {},
   "outputs": [],
   "source": []
  },
  {
   "cell_type": "markdown",
   "id": "7a7d543b",
   "metadata": {},
   "source": [
    "### More Complex Arithmetic - Order of Operations"
   ]
  },
  {
   "cell_type": "markdown",
   "id": "f7866375",
   "metadata": {},
   "source": [
    "🚩 **Exercise 8:** First calculate, then use Python as a calculator to work out  the following. \n",
    "* $5 \\times 3 + 8 \\div 2$\n",
    "* $(7-2) \\times 3$"
   ]
  },
  {
   "cell_type": "code",
   "execution_count": null,
   "id": "b323d884",
   "metadata": {},
   "outputs": [],
   "source": []
  },
  {
   "cell_type": "markdown",
   "id": "7ea5f665",
   "metadata": {},
   "source": [
    "🚩 **Exercise 9:** First calculate, then use Python as a calculator to work out  the following. \n",
    "* $8 \\times 2 + 7$\n",
    "* $40 \\div 4 + 10$"
   ]
  },
  {
   "cell_type": "code",
   "execution_count": null,
   "id": "7119ab36",
   "metadata": {},
   "outputs": [],
   "source": []
  },
  {
   "cell_type": "markdown",
   "id": "05d9052a",
   "metadata": {},
   "source": [
    "🚩 **Exercise 10:** First calculate, then use Python as a calculator to work out  the following. \n",
    "* $18 + 2 \\times 8$\n",
    "* $9-3 \\div 3$"
   ]
  },
  {
   "cell_type": "code",
   "execution_count": null,
   "id": "9905e9a8",
   "metadata": {},
   "outputs": [],
   "source": []
  },
  {
   "cell_type": "markdown",
   "id": "ce36bd1d",
   "metadata": {},
   "source": [
    "🚩 **Exercise 11:** First calculate, then use Python as a calculator to work out  the following. \n",
    "* $9 + 1 \\times 5$\n",
    "* $21 \\div 7 + 8$"
   ]
  },
  {
   "cell_type": "code",
   "execution_count": null,
   "id": "46ae2c15",
   "metadata": {},
   "outputs": [],
   "source": []
  },
  {
   "cell_type": "markdown",
   "id": "0863ab61",
   "metadata": {},
   "source": [
    "### Data Types\n",
    "\n",
    "**Remember:** We can use the `type()` function to find the type of a value."
   ]
  },
  {
   "cell_type": "markdown",
   "id": "1103c4f0",
   "metadata": {},
   "source": [
    "🚩 **Exercise 1:** Find the type of the data below.\n",
    "* `\"hello\"`\n",
    "* `\"world\"`\n",
    "* `54`"
   ]
  },
  {
   "cell_type": "code",
   "execution_count": null,
   "id": "f2cec7fd",
   "metadata": {},
   "outputs": [],
   "source": []
  },
  {
   "cell_type": "markdown",
   "id": "a7038a30",
   "metadata": {},
   "source": [
    "🚩 **Exercise 2:** Find the type of the data below.\n",
    "* `55.8`\n",
    "* `\"potato\"`\n",
    "* `43`"
   ]
  },
  {
   "cell_type": "code",
   "execution_count": null,
   "id": "95ed3a87",
   "metadata": {},
   "outputs": [],
   "source": []
  },
  {
   "cell_type": "markdown",
   "id": "8a86a0eb",
   "metadata": {},
   "source": [
    "🚩 **Exercise 3:** Find the type of the data below.\n",
    "* `42`\n",
    "* `\"five\"`\n",
    "* `7`"
   ]
  },
  {
   "cell_type": "code",
   "execution_count": null,
   "id": "23944620",
   "metadata": {},
   "outputs": [],
   "source": []
  },
  {
   "cell_type": "markdown",
   "id": "0042cf1f",
   "metadata": {},
   "source": [
    "🚩 **Exercise 4:** Find the type of the data below.\n",
    "* `\"tree\"`\n",
    "* `8.5`\n",
    "* `\"New\"`"
   ]
  },
  {
   "cell_type": "code",
   "execution_count": null,
   "id": "29735964",
   "metadata": {},
   "outputs": [],
   "source": []
  },
  {
   "cell_type": "markdown",
   "id": "f47ac644",
   "metadata": {},
   "source": [
    "🚩 **Exercise 5:** Find the type of the data below.\n",
    "* `9`\n",
    "* `2.6`\n",
    "* `\"OLD\"`"
   ]
  },
  {
   "cell_type": "code",
   "execution_count": null,
   "id": "77808d0b",
   "metadata": {},
   "outputs": [],
   "source": []
  },
  {
   "cell_type": "markdown",
   "id": "56cb6364",
   "metadata": {},
   "source": [
    "🚩 **Exercise 6:** Find the type of the data below.\n",
    "* `15`\n",
    "* `4.9`\n",
    "* `\"46\"`"
   ]
  },
  {
   "cell_type": "code",
   "execution_count": null,
   "id": "644087b1",
   "metadata": {},
   "outputs": [],
   "source": []
  },
  {
   "cell_type": "markdown",
   "id": "00138290",
   "metadata": {},
   "source": [
    "🚩 **Exercise 7:** Find the type of the data below.\n",
    "* `1`\n",
    "* `\"skfl\"`\n",
    "* `0`"
   ]
  },
  {
   "cell_type": "code",
   "execution_count": null,
   "id": "0951e386",
   "metadata": {},
   "outputs": [],
   "source": []
  }
 ],
 "metadata": {
  "kernelspec": {
   "display_name": "Python 3 (ipykernel)",
   "language": "python",
   "name": "python3"
  },
  "language_info": {
   "codemirror_mode": {
    "name": "ipython",
    "version": 3
   },
   "file_extension": ".py",
   "mimetype": "text/x-python",
   "name": "python",
   "nbconvert_exporter": "python",
   "pygments_lexer": "ipython3",
   "version": "3.8.12"
  }
 },
 "nbformat": 4,
 "nbformat_minor": 5
}
