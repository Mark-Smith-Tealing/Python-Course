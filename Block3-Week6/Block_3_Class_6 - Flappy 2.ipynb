{
 "cells": [
  {
   "cell_type": "markdown",
   "id": "29c877e6",
   "metadata": {},
   "source": [
    "\n",
    "# Introduction to Python - Block 3 Week 5 - Flappy\n",
    "\n",
    "Now, we are going to try a new worksheet style in this block, this should help us to see the exercises more easily while working on them. This is a Jupyter notebook, that allows for us to write code and display the information easily.\n",
    "\n",
    "Like Spyder, Jupyter notebooks have cells (Markdown and Code cells) that allow us to separate code and text.\n",
    "\n",
    "## Let's Try\n",
    "\n",
    "You can run the next cell using the \"<kbd>>| Run</kbd>\" button on the toolbar above, or press <kbd>Ctrl</kbd> + <kbd>Enter</kbd>.\n"
   ]
  },
  {
   "cell_type": "code",
   "execution_count": 1,
   "id": "5464cf1b",
   "metadata": {},
   "outputs": [
    {
     "name": "stdout",
     "output_type": "stream",
     "text": [
      "Welcome to Flappy!\n"
     ]
    }
   ],
   "source": [
    "print(\"Welcome to Flappy!\")"
   ]
  },
  {
   "cell_type": "markdown",
   "id": "fa115c71",
   "metadata": {},
   "source": [
    "## Warmup - Last Week\n",
    "\n",
    "Let's see if you can remember what we worked on last week!\n",
    "\n",
    "🚩 **Warmup 1:** How do we change the size of the game window?\n",
    "\n",
    "🚩 **Warmup 2:** How do we make the bird fly off the top of the screen?\n",
    "\n",
    "🚩 **Warmup 3:** How do we make the change the colour of the bird?\n",
    "\n",
    "🚩 **Warmup 4:** How do we make the change the colour of the balls?\n",
    "\n",
    "🚩 **Warmup 5:** How do we make the balls bigger?"
   ]
  },
  {
   "cell_type": "markdown",
   "id": "73ad3408",
   "metadata": {},
   "source": [
    "# Lesson Aims\n",
    "\n",
    "Today we are going to:\n",
    "- Change the Flappy code"
   ]
  },
  {
   "cell_type": "markdown",
   "id": "a47aa32c",
   "metadata": {},
   "source": [
    "# Exercises - This Week"
   ]
  },
  {
   "cell_type": "markdown",
   "id": "d0940bf8",
   "metadata": {},
   "source": [
    "Today, we are going to have a look at a different game from the freegames module. Today we are going to code flappy! First we need to install freegames on Jupyter. Just run this code:"
   ]
  },
  {
   "cell_type": "code",
   "execution_count": 2,
   "id": "b5bcb51c",
   "metadata": {},
   "outputs": [
    {
     "name": "stdout",
     "output_type": "stream",
     "text": [
      "Note: you may need to restart the kernel to use updated packages.\n"
     ]
    },
    {
     "name": "stderr",
     "output_type": "stream",
     "text": [
      "ERROR: Invalid requirement: '#'\n"
     ]
    }
   ],
   "source": [
    "pip install freegames # Installs freegame module"
   ]
  },
  {
   "cell_type": "markdown",
   "id": "67009c32",
   "metadata": {},
   "source": [
    "Now, we need to import the correct modules that we are going to need,"
   ]
  },
  {
   "cell_type": "code",
   "execution_count": 3,
   "id": "d923cce9",
   "metadata": {},
   "outputs": [],
   "source": [
    "from random import *\n",
    "from turtle import *\n",
    "import turtle\n",
    "\n",
    "from freegames import vector"
   ]
  },
  {
   "cell_type": "code",
   "execution_count": 4,
   "id": "8a19dd85",
   "metadata": {},
   "outputs": [
    {
     "name": "stdout",
     "output_type": "stream",
     "text": [
      "1\n",
      "5\n"
     ]
    }
   ],
   "source": [
    "vector1 = vector(1, 5)\n",
    "\n",
    "print(vector1.x)\n",
    "print(vector1.y)"
   ]
  },
  {
   "cell_type": "markdown",
   "id": "f6133bac",
   "metadata": {},
   "source": [
    "Let's make a function that moves our bird around on the screen\n",
    "\n",
    "🚩 **Exercise 1:** Make the bird jump higher (50, 100) and less (10)\n",
    "\n",
    "🚩 **Exercise 2:** Make the bird move to the right or the left every time you tap"
   ]
  },
  {
   "cell_type": "code",
   "execution_count": 5,
   "id": "fa84caf1",
   "metadata": {},
   "outputs": [],
   "source": [
    "def tap(x, y):\n",
    "    \"\"\"Move bird up in response to screen tap.\"\"\"\n",
    "    up = vector(0, 30)\n",
    "    bird.move(up)"
   ]
  },
  {
   "cell_type": "markdown",
   "id": "d098e61a",
   "metadata": {},
   "source": [
    "Let's make a function that checks if the bird is inside the screen"
   ]
  },
  {
   "cell_type": "code",
   "execution_count": 6,
   "id": "e2ef2536",
   "metadata": {},
   "outputs": [],
   "source": [
    "def inside(point):\n",
    "    \"\"\"Return True if point on screen.\"\"\"\n",
    "    return -200 < point.x < 200 and -200 < point.y < 200"
   ]
  },
  {
   "cell_type": "markdown",
   "id": "607d855e",
   "metadata": {},
   "source": [
    "This function draws everything on the screen at every interval\n",
    "\n",
    "🚩 **Exercise 2:** Stop the screen from being cleared every time step by commenting out `clear()`.\n",
    "\n",
    "🚩 **Exercise 3:** Change the size of the bird to 100 when alive.\n",
    "\n",
    "🚩 **Exercise 3:** Change the size of the bird to 1 when alive.\n",
    "\n",
    "🚩 **Exercise 4:** Change the color of the bird to orange.\n",
    "\n",
    "🚩 **Exercise 5:** Change the color of the balls to yellow."
   ]
  },
  {
   "cell_type": "code",
   "execution_count": 7,
   "id": "add13376",
   "metadata": {},
   "outputs": [],
   "source": [
    "def draw(alive):               # alive is a boolean variable (True or False)\n",
    "    \"\"\"Draw screen objects.\"\"\"\n",
    "    global score\n",
    "    clear()\n",
    "\n",
    "    goto(bird.x, bird.y)\n",
    "    \n",
    "    colours = ['red', 'blue', 'green', 'yellow', 'orange', 'black']\n",
    "\n",
    "    if alive:            # Conditional statement \n",
    "        dot(10, colours[randrange(6)])\n",
    "        #shape('C:\\\\Mark\\\\uni\\\\Tutoring\\\\Python\\\\Classes\\\\Block_3_Class_6 - Flappy - 2\\\\flappy.gif')\n",
    "    else:\n",
    "        dot(10, 'blue')\n",
    "\n",
    "    for ball in balls:\n",
    "        goto(ball.x, ball.y)\n",
    "        dot(30, colours[randrange(6)])\n",
    "\n",
    "    turtle.goto(-200, 200)\n",
    "    turtle.write(f'Score: {score}')\n",
    "        \n",
    "    update()"
   ]
  },
  {
   "cell_type": "markdown",
   "id": "9310123e",
   "metadata": {},
   "source": [
    "This function runs the game by moving all the objects around every 50 miliseconds\n",
    "\n",
    "🚩 **Exercise 5:** Move the bird down faster and slower.\n",
    "\n",
    "🚩 **Exercise 6:** Make more balls appear on the screen.\n",
    "\n",
    "🚩 **Exercise 7:** Change the value of 15 on line 24 to 10, what does this do?\n",
    "\n",
    "🚩 **Exercise 8:** Make the game run faster. What should we change?"
   ]
  },
  {
   "cell_type": "code",
   "execution_count": 8,
   "id": "a98b5de9",
   "metadata": {},
   "outputs": [
    {
     "data": {
      "text/plain": [
       "'banana'"
      ]
     },
     "execution_count": 8,
     "metadata": {},
     "output_type": "execute_result"
    }
   ],
   "source": [
    "#randrange(5) # 0, 1, 2, 3, 4\n",
    "\n",
    "fruits = ['orange', 'banana']\n",
    "fruits.pop()\n"
   ]
  },
  {
   "cell_type": "code",
   "execution_count": 9,
   "id": "79cf3f44",
   "metadata": {},
   "outputs": [],
   "source": [
    "def move():\n",
    "    \"\"\"Update object positions.\"\"\"\n",
    "    global score\n",
    "    bird.y -= 5\n",
    "\n",
    "    for ball in balls:\n",
    "        ball.x -= 5\n",
    "        \n",
    "    random_number = randrange(10)\n",
    "    \n",
    "    if random_number == 0:\n",
    "        y = randrange(-199, 199) # -199, 199\n",
    "        ball = vector(199, y)\n",
    "        balls.append(ball)\n",
    "\n",
    "    while len(balls) > 0 and not inside(balls[0]):\n",
    "        balls.pop(0)\n",
    "        score += 1\n",
    "\n",
    "    # Checks if the bird is inside the screen    \n",
    "    if not inside(bird):\n",
    "        draw(False)\n",
    "        print(score)\n",
    "        return\n",
    "\n",
    "    # Checks if the bird crases into a ball \n",
    "    for ball in balls:\n",
    "        if abs(ball - bird) < 15:\n",
    "            draw(False)\n",
    "            print(score)\n",
    "            return\n",
    "\n",
    "    draw(True)\n",
    "    ontimer(move, 30)"
   ]
  },
  {
   "cell_type": "markdown",
   "id": "4f9a6e0f",
   "metadata": {},
   "source": [
    "🚩 **Exercise 9:** Let's make the bird change colours every time\n",
    "\n",
    "🚩 **Exercise 10:** Let's make the balls change colour every time\n",
    "\n",
    "🚩 **Exercise 11:** Let's add a score board"
   ]
  },
  {
   "cell_type": "markdown",
   "id": "263cebf5",
   "metadata": {},
   "source": [
    "This cell runs the game"
   ]
  },
  {
   "cell_type": "code",
   "execution_count": 13,
   "id": "08bc3b21",
   "metadata": {},
   "outputs": [
    {
     "name": "stdout",
     "output_type": "stream",
     "text": [
      "22\n"
     ]
    }
   ],
   "source": [
    "bird = vector(0, 0)\n",
    "balls = []\n",
    "score = 0\n",
    "\n",
    "\n",
    "setup(420, 420, 370, 0)\n",
    "hideturtle()\n",
    "up()\n",
    "tracer(False)\n",
    "onscreenclick(tap)\n",
    "move()\n",
    "done()"
   ]
  },
  {
   "cell_type": "markdown",
   "id": "133c025b",
   "metadata": {},
   "source": [
    "- Turn the game upside-down\n",
    "- Change the bird colour on every tap\n",
    "- Make the balls the same colour as the bird"
   ]
  },
  {
   "cell_type": "code",
   "execution_count": 11,
   "id": "2e6e9176",
   "metadata": {},
   "outputs": [
    {
     "name": "stdout",
     "output_type": "stream",
     "text": [
      "Help on function write in module turtle:\n",
      "\n",
      "write(arg, move=False, align='left', font=('Arial', 8, 'normal'))\n",
      "    Write text at the current turtle position.\n",
      "    \n",
      "    Arguments:\n",
      "    arg -- info, which is to be written to the TurtleScreen\n",
      "    move (optional) -- True/False\n",
      "    align (optional) -- one of the strings \"left\", \"center\" or right\"\n",
      "    font (optional) -- a triple (fontname, fontsize, fonttype)\n",
      "    \n",
      "    Write text - the string representation of arg - at the current\n",
      "    turtle position according to align (\"left\", \"center\" or right\")\n",
      "    and with the given font.\n",
      "    If move is True, the pen is moved to the bottom-right corner\n",
      "    of the text. By default, move is False.\n",
      "    \n",
      "    Example:\n",
      "    >>> write('Home = ', True, align=\"center\")\n",
      "    >>> write((0,0), True)\n",
      "\n"
     ]
    }
   ],
   "source": [
    "help(turtle.write)"
   ]
  },
  {
   "cell_type": "code",
   "execution_count": null,
   "id": "0db42365",
   "metadata": {},
   "outputs": [],
   "source": []
  }
 ],
 "metadata": {
  "kernelspec": {
   "display_name": "Python 3 (ipykernel)",
   "language": "python",
   "name": "python3"
  },
  "language_info": {
   "codemirror_mode": {
    "name": "ipython",
    "version": 3
   },
   "file_extension": ".py",
   "mimetype": "text/x-python",
   "name": "python",
   "nbconvert_exporter": "python",
   "pygments_lexer": "ipython3",
   "version": "3.8.12"
  }
 },
 "nbformat": 4,
 "nbformat_minor": 5
}
