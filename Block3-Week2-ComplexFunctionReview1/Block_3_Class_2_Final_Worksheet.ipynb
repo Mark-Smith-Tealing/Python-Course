{
 "cells": [
  {
   "cell_type": "markdown",
   "id": "29c877e6",
   "metadata": {},
   "source": [
    "# Introduction to Python - Block 3 Week 2\n",
    "\n",
    "Now, we are going to try a new worksheet style in this block, this should help us to see the exercises more easily while working on them. This is a Jupyter notebook, that allows for us to write code and display the information easily.\n",
    "\n",
    "Like Spyder, Jupyter notebooks have cells (Markdown and Code cells) that allow us to separate code and text.\n",
    "\n",
    "## Let's Try\n",
    "\n",
    "You can run the next cell using the \"<kbd>>| Run</kbd>\" button on the toolbar above, or press <kbd>Ctrl</kbd> + <kbd>Enter</kbd>.\n"
   ]
  },
  {
   "cell_type": "code",
   "execution_count": null,
   "id": "15782178",
   "metadata": {},
   "outputs": [],
   "source": [
    "print(5+5)"
   ]
  },
  {
   "cell_type": "markdown",
   "id": "b1a54d55",
   "metadata": {},
   "source": [
    "🚩 **Exercise:** print out 'Welcome to week 2!' in the code cell below!"
   ]
  },
  {
   "cell_type": "code",
   "execution_count": null,
   "id": "5464cf1b",
   "metadata": {},
   "outputs": [],
   "source": []
  },
  {
   "cell_type": "markdown",
   "id": "3438c438",
   "metadata": {},
   "source": [
    "## Warmup - Last Week\n",
    "\n",
    "Let's see if you can remember what we worked on last week!"
   ]
  },
  {
   "cell_type": "markdown",
   "id": "d7fc3d2e",
   "metadata": {},
   "source": [
    "🚩 **Warmup 1:** What does this cell print?"
   ]
  },
  {
   "cell_type": "code",
   "execution_count": null,
   "id": "337e871d",
   "metadata": {},
   "outputs": [],
   "source": [
    "abcde = 'Alpha'\n",
    "b = 21\n",
    "print(abcde, b)\n",
    "\n",
    "he45 = 'yellow'\n",
    "print(he45)"
   ]
  },
  {
   "cell_type": "markdown",
   "id": "c93315a1",
   "metadata": {},
   "source": [
    "🚩 **Warmup 2:** What does this cell print?"
   ]
  },
  {
   "cell_type": "code",
   "execution_count": null,
   "id": "0384474f",
   "metadata": {},
   "outputs": [],
   "source": [
    "x = 5.6\n",
    "y = 9.9\n",
    "z = 10\n",
    "\n",
    "y = x\n",
    "print(x, y, z)\n",
    "\n",
    "y = z\n",
    "\n",
    "print(x, y, z)"
   ]
  },
  {
   "cell_type": "markdown",
   "id": "38c9c4d9",
   "metadata": {},
   "source": [
    "🚩 **Warmup 3:** If our function is $F(x) = 12x + 1$. What are F(10), F(1) and F(5)? "
   ]
  },
  {
   "cell_type": "code",
   "execution_count": null,
   "id": "f00b6051",
   "metadata": {},
   "outputs": [],
   "source": [
    "#\n",
    "#\n",
    "#"
   ]
  },
  {
   "cell_type": "markdown",
   "id": "717d2975",
   "metadata": {},
   "source": [
    "🚩 **Warmup 4:** If our function is $F(x) = 5x$. What are F(3), F(8) and F(15)? "
   ]
  },
  {
   "cell_type": "code",
   "execution_count": null,
   "id": "93ccd17b",
   "metadata": {},
   "outputs": [],
   "source": [
    "#\n",
    "#\n",
    "#"
   ]
  },
  {
   "cell_type": "markdown",
   "id": "89513ccc",
   "metadata": {},
   "source": [
    "🚩 **Warmup 5:** If our function is $F(x, y) = x + y$. What are F(5, 8), F(1, 10) and F(5, 505)? "
   ]
  },
  {
   "cell_type": "code",
   "execution_count": null,
   "id": "853cfd05",
   "metadata": {},
   "outputs": [],
   "source": [
    "#\n",
    "#\n",
    "#"
   ]
  },
  {
   "cell_type": "markdown",
   "id": "aa9a6519",
   "metadata": {},
   "source": [
    "## Exercises - This Week"
   ]
  },
  {
   "cell_type": "markdown",
   "id": "0863ab61",
   "metadata": {},
   "source": [
    "### Functions"
   ]
  },
  {
   "cell_type": "markdown",
   "id": "1844adae",
   "metadata": {},
   "source": [
    "🚩 **Exercise 1:** If our function is $F(x) = 125x + 1$. What are F(10), F(1) and F(5)? "
   ]
  },
  {
   "cell_type": "code",
   "execution_count": null,
   "id": "95ed3a87",
   "metadata": {},
   "outputs": [],
   "source": [
    "#\n",
    "#\n",
    "#\n",
    "\n"
   ]
  },
  {
   "cell_type": "markdown",
   "id": "5d1f7d25",
   "metadata": {},
   "source": [
    "🚩 **Exercise 2:** If our function is $F(x) = x - 5$. What are F(10), F(8) and F(5)? "
   ]
  },
  {
   "cell_type": "code",
   "execution_count": null,
   "id": "23944620",
   "metadata": {},
   "outputs": [],
   "source": [
    "#\n",
    "#\n",
    "#\n"
   ]
  },
  {
   "cell_type": "markdown",
   "id": "65244074",
   "metadata": {},
   "source": [
    "🚩 **Exercise 3:** If our function is $F(x) = 6x$. What are F(10), F(15) and F(9)? "
   ]
  },
  {
   "cell_type": "code",
   "execution_count": null,
   "id": "29735964",
   "metadata": {},
   "outputs": [],
   "source": [
    "#\n",
    "#\n",
    "#\n",
    "\n"
   ]
  },
  {
   "cell_type": "markdown",
   "id": "e8480da9",
   "metadata": {},
   "source": [
    "🚩 **Exercise 4:** If our function is $F(x) = 125$. What are F(10), F(1) and F(5)? "
   ]
  },
  {
   "cell_type": "code",
   "execution_count": null,
   "id": "77808d0b",
   "metadata": {},
   "outputs": [],
   "source": [
    "#\n",
    "#\n",
    "#\n",
    "\n"
   ]
  },
  {
   "cell_type": "markdown",
   "id": "09cf38b6",
   "metadata": {},
   "source": [
    "🚩 **Exercise 5:** If our function is $F(x, y) = 12x + y$. What are F(10, 5), F(1, 1) and F(5, 2)? "
   ]
  },
  {
   "cell_type": "code",
   "execution_count": null,
   "id": "644087b1",
   "metadata": {},
   "outputs": [],
   "source": [
    "#\n",
    "#\n",
    "#\n",
    "\n"
   ]
  },
  {
   "cell_type": "markdown",
   "id": "1e93e8a3",
   "metadata": {},
   "source": [
    "🚩 **Exercise 6:** If our function is $F(x, y) = 3x + 2y$. What are F(2, 3), F(1, 4) and F(4, 5)? "
   ]
  },
  {
   "cell_type": "code",
   "execution_count": null,
   "id": "0951e386",
   "metadata": {},
   "outputs": [],
   "source": [
    "#\n",
    "#\n",
    "#\n",
    "\n"
   ]
  },
  {
   "cell_type": "markdown",
   "id": "bea8e9bc",
   "metadata": {},
   "source": [
    "🚩 **Exercise 7:** If our function is $F(x, y) = 9x + y$. What are F(2, 3), F(1, 4) and F(4, 5)? "
   ]
  },
  {
   "cell_type": "code",
   "execution_count": null,
   "id": "c827f2bb",
   "metadata": {},
   "outputs": [],
   "source": [
    "#\n",
    "#\n",
    "#\n",
    "\n"
   ]
  },
  {
   "cell_type": "markdown",
   "id": "29efcbb5",
   "metadata": {},
   "source": [
    "🚩 **Exercise 8:** If our function is $F(x, y, z, w) = x + y + z - w$. What are F(2, 3, 4, 1), F(1, 4, 7, 3) and F(4, 5, 6, 9)? "
   ]
  },
  {
   "cell_type": "code",
   "execution_count": null,
   "id": "87d77d8d",
   "metadata": {},
   "outputs": [],
   "source": [
    "#\n",
    "#\n",
    "#\n",
    "\n"
   ]
  },
  {
   "cell_type": "markdown",
   "id": "6960f78d",
   "metadata": {},
   "source": [
    "### More Complex Functions\n",
    "\n",
    "Functions in Python behave the exact same way, with arguments as variables. Instead of using $x,y,z,w$, Python functions use variables like `first_name`, `age`, `country_name`. Let's try to write some.\n",
    "\n",
    "**Note:** Below, you are given a description of the function without variables or a function name. You need to name these yourself."
   ]
  },
  {
   "cell_type": "markdown",
   "id": "d9a8305c",
   "metadata": {},
   "source": [
    "🚩 **Exercise 9:** Write a function that prints the message to the screen `Hello, my name is Jim`."
   ]
  },
  {
   "cell_type": "code",
   "execution_count": null,
   "id": "c3251b12",
   "metadata": {},
   "outputs": [],
   "source": []
  },
  {
   "cell_type": "markdown",
   "id": "f1059dd7",
   "metadata": {},
   "source": [
    "🚩 **Exercise 10:** Write a function that runs the function in Exercise 9 100 times."
   ]
  },
  {
   "cell_type": "code",
   "execution_count": null,
   "id": "67301be4",
   "metadata": {
    "scrolled": true
   },
   "outputs": [],
   "source": []
  },
  {
   "cell_type": "markdown",
   "id": "99e78dd9",
   "metadata": {},
   "source": [
    "🚩 **Exercise 11:** Write a function that runs the function in Exercise 9 1000 times."
   ]
  },
  {
   "cell_type": "code",
   "execution_count": null,
   "id": "b0c81170",
   "metadata": {},
   "outputs": [],
   "source": []
  },
  {
   "cell_type": "markdown",
   "id": "7354d97d",
   "metadata": {},
   "source": [
    "🚩 **Exercise 12:** Write a function called `minimum_number` that finds the smallest of two numbers a and b."
   ]
  },
  {
   "cell_type": "code",
   "execution_count": null,
   "id": "cf5634eb",
   "metadata": {},
   "outputs": [],
   "source": []
  },
  {
   "cell_type": "markdown",
   "id": "d925fa08",
   "metadata": {},
   "source": [
    "🚩 **Exercise 13:** Write a function called `minimum_number2` that finds the smallest of three numbers."
   ]
  },
  {
   "cell_type": "code",
   "execution_count": null,
   "id": "680f0829",
   "metadata": {},
   "outputs": [],
   "source": []
  },
  {
   "cell_type": "markdown",
   "id": "98762498",
   "metadata": {},
   "source": [
    "🚩 **Exercise 14:** Write a function that returns `True` if a word has a letter `e` and False otherwise.\n",
    "\n",
    "(Hint: This function is similar to one we have written before)"
   ]
  },
  {
   "cell_type": "code",
   "execution_count": null,
   "id": "8513d139",
   "metadata": {},
   "outputs": [],
   "source": []
  },
  {
   "attachments": {
    "image-5.png": {
     "image/png": "[encoded data removed]"
    }
   },
   "cell_type": "markdown",
   "id": "e4b708e9",
   "metadata": {},
   "source": [
    "### Challenge: Writing a Letter in Python\n",
    "\n",
    "If we want to write a letter, we need to write the address of the person we are sending the letter to in the top right. The message below and our sending off message on the bottom right. Finally, our name in the middle at the bottom. To do this in Python, we need to be able to 'justify' our text.\n",
    "\n",
    "![image-5.png](attachment:image-5.png)"
   ]
  },
  {
   "cell_type": "markdown",
   "id": "f09a3974",
   "metadata": {},
   "source": [
    "🚩 **Exercise 15:** Write a function `right_justify(text)` that prints 70 spaces before the text given.\n",
    "\n",
    "(Hint: `word*70` repeats word 70 times)"
   ]
  },
  {
   "cell_type": "code",
   "execution_count": null,
   "id": "5a12838e",
   "metadata": {},
   "outputs": [],
   "source": []
  },
  {
   "cell_type": "markdown",
   "id": "89092232",
   "metadata": {},
   "source": [
    "🚩 **Exercise 16:** Write a function `middle_justify(text)` that prints 35 spaces before the text given.\n",
    "\n",
    "(Hint: `word*35` repeats word 35 times)"
   ]
  },
  {
   "cell_type": "code",
   "execution_count": null,
   "id": "462addcd",
   "metadata": {},
   "outputs": [],
   "source": []
  },
  {
   "cell_type": "markdown",
   "id": "59179432",
   "metadata": {},
   "source": [
    "🚩 **Exercise 17:** You are King Solomon that lives at: 1 Castle Street, Squareland, Harrisville. Today is the 4th of January 3021. You have to write a letter to your jester, James, demanding that he come to your castle right now to play you a song, since you cannot fall asleep.\n"
   ]
  },
  {
   "cell_type": "code",
   "execution_count": null,
   "id": "f0334449",
   "metadata": {},
   "outputs": [],
   "source": []
  },
  {
   "cell_type": "markdown",
   "id": "93d8bdda",
   "metadata": {},
   "source": [
    "## Freegames\n",
    "\n",
    "Here is the link to the freegames website\n",
    "\n",
    "__[Freegames Website](https://pypi.org/project/freegames/#:~:text=Free%20Python%20Games%20is%20an%20Apache2%20licensed%20collection,versions%20of%20several%20classic%20arcade%20games%20are%20included)__\n",
    "\n",
    "There you can find the list of all games that can be played!"
   ]
  },
  {
   "cell_type": "code",
   "execution_count": null,
   "id": "a2527ec0",
   "metadata": {},
   "outputs": [],
   "source": []
  }
 ],
 "metadata": {
  "kernelspec": {
   "display_name": "Python 3 (ipykernel)",
   "language": "python",
   "name": "python3"
  },
  "language_info": {
   "codemirror_mode": {
    "name": "ipython",
    "version": 3
   },
   "file_extension": ".py",
   "mimetype": "text/x-python",
   "name": "python",
   "nbconvert_exporter": "python",
   "pygments_lexer": "ipython3",
   "version": "3.8.12"
  }
 },
 "nbformat": 4,
 "nbformat_minor": 5
}
