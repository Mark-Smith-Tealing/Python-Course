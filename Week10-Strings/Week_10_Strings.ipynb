{
 "cells": [
  {
   "cell_type": "markdown",
   "id": "29c877e6",
   "metadata": {},
   "source": [
    "# Introduction to Python - Strings\n",
    "\n",
    "**Remember:** This is a Jupyter notebook, an application that allows us to write code and view exercises easily.\n",
    "\n",
    "Like Spyder, Jupyter notebooks have cells (Markdown and Code cells) that allow us to separate code and text. Remember that the code cells have `In [ ]:` on the left hand side!\n",
    "\n",
    "## Let's Try\n",
    "\n",
    "**Remember** You can run the next cell using the \"<kbd>|> Run</kbd>\" button on the toolbar above, or you can press <kbd>Ctrl</kbd> + <kbd>Enter</kbd>.\n"
   ]
  },
  {
   "cell_type": "markdown",
   "id": "b1a54d55",
   "metadata": {},
   "source": [
    "🚩 **Exercise:** Run the next cell to make sure that your notebook is working!"
   ]
  },
  {
   "cell_type": "code",
   "execution_count": null,
   "id": "5464cf1b",
   "metadata": {},
   "outputs": [],
   "source": [
    "print('Welcome to the Strings in Python!')\n",
    "# \"\"\n",
    "# ''"
   ]
  },
  {
   "cell_type": "markdown",
   "id": "3438c438",
   "metadata": {},
   "source": [
    "## Warmup - Last Time (Review - Loops, Definitions, Conditionals)\n",
    "\n",
    "Let's see if you can remember what we worked on last week!\n"
   ]
  },
  {
   "cell_type": "markdown",
   "id": "944e8ee3",
   "metadata": {},
   "source": [
    "🚩 **Warmup 1:** What are the three important coding structures that we have been looking at? (Hint: `if`, `def` and `for`)"
   ]
  },
  {
   "cell_type": "markdown",
   "id": "26328f45",
   "metadata": {},
   "source": [
    "🚩 **Warmup 2:** Is this a definition, conditional or loop? (Hint: Look for the key words) \n",
    "\n",
    "What does this code do?"
   ]
  },
  {
   "cell_type": "code",
   "execution_count": 2,
   "id": "1397916c",
   "metadata": {},
   "outputs": [
    {
     "name": "stdout",
     "output_type": "stream",
     "text": [
      "Hello Patricia, I know that you are 100 years old!\n",
      "Hello Jason, I know that you are 105 years old!\n",
      "Hello Mak, I know that you are 98 years old!\n"
     ]
    }
   ],
   "source": [
    "def print_a_message(name, age):\n",
    "    print(f'Hello {name}, I know that you are {age} years old!')\n",
    "    \n",
    "print_a_message('Patricia', 100)\n",
    "print_a_message('Jason', 105)\n",
    "print_a_message('Mak', 98)"
   ]
  },
  {
   "cell_type": "markdown",
   "id": "bd8557e4",
   "metadata": {},
   "source": [
    "🚩 **Warmup 3:** What are the similarities in the three structures that we talked about last week?"
   ]
  },
  {
   "cell_type": "code",
   "execution_count": 1,
   "id": "3b8f73ec",
   "metadata": {},
   "outputs": [
    {
     "name": "stdout",
     "output_type": "stream",
     "text": [
      "4\n",
      "5\n",
      "6\n",
      "7\n",
      "8\n",
      "9\n"
     ]
    }
   ],
   "source": [
    "distance = 100\n",
    "\n",
    "if distance > 200:\n",
    "    print(\"Wow that is a long way!\")\n",
    "    \n",
    "for i in range(4,10):\n",
    "    print(i)\n",
    "    \n",
    "def print_a_message(name, age):\n",
    "    print(f'Hello {name}, I know that you are {age} years old!')"
   ]
  },
  {
   "cell_type": "markdown",
   "id": "9392ad75",
   "metadata": {},
   "source": [
    "🚩 **Warmup 4:** Is this a definition, conditional or loop? (Hint: Look for the key words) \n",
    "\n",
    "What does this code do?"
   ]
  },
  {
   "cell_type": "code",
   "execution_count": 5,
   "id": "be59bef8",
   "metadata": {
    "scrolled": true
   },
   "outputs": [
    {
     "name": "stdout",
     "output_type": "stream",
     "text": [
      "How old are you?10\n",
      "You are 10.\n"
     ]
    }
   ],
   "source": [
    "age = input(\"How old are you?\")\n",
    "\n",
    "if int(age) > 10:\n",
    "    print(\"You are older than the decade.\")\n",
    "elif int(age) < 10:\n",
    "    print(\"You are youger than the decade.\")\n",
    "else:\n",
    "    print(\"You are 10.\")"
   ]
  },
  {
   "cell_type": "markdown",
   "id": "e4616c29",
   "metadata": {},
   "source": [
    "🚩 **Warmup 5:** Is this a definition, conditional or loop? (Hint: Look for the key words)\n",
    "\n",
    "What does this code do?"
   ]
  },
  {
   "cell_type": "code",
   "execution_count": 6,
   "id": "e8483896",
   "metadata": {},
   "outputs": [
    {
     "name": "stdout",
     "output_type": "stream",
     "text": [
      "W 1\n",
      "e 2\n",
      "l 3\n",
      "c 4\n",
      "o 5\n",
      "m 6\n",
      "e 7\n"
     ]
    }
   ],
   "source": [
    "count = 1\n",
    "\n",
    "for i in \"Welcome\":\n",
    "    print(i, count)\n",
    "    count = count + 1"
   ]
  },
  {
   "cell_type": "markdown",
   "id": "feb108ee",
   "metadata": {},
   "source": [
    "Similarities:\n",
    "- They all use keywords (if, def, for) at the beginning of the first line\n",
    "- They all use a colon `:` at the end of the first line\n",
    "- They all need a value \n",
    "- They all have their second line indented"
   ]
  },
  {
   "cell_type": "markdown",
   "id": "e5497bb5",
   "metadata": {},
   "source": [
    "## This Week\n",
    "\n",
    "This week we are going to look at Strings.\n",
    "\n",
    "First, we want to think about strings, What are strings?\n",
    "\n",
    "**Answer:** They are really a sequence of characters. `\"hello\"` is really the same as `'h','e','l','l','o'`.\n",
    "\n",
    "\n",
    "### F-Strings\n"
   ]
  },
  {
   "cell_type": "markdown",
   "id": "309c2fa5",
   "metadata": {},
   "source": [
    "Now, we are going to see how to construct f-strings. They are a much easier way to make long strings rather than using many `+`s. \n",
    "\n",
    "To make an f-string, we type `f''` or `f\"\"` at the beginning of the string. Then we use curly braces `{}` to write all the variables that we want in our string. No need to convert numbers using `int()`.\n",
    "\n",
    "🚩 **Example:** Using the following variables, bring them together using an f-string."
   ]
  },
  {
   "cell_type": "code",
   "execution_count": 7,
   "id": "5bdcc33f",
   "metadata": {},
   "outputs": [
    {
     "name": "stdout",
     "output_type": "stream",
     "text": [
      "Greetings! Mark Welcome to my home, number 50\n",
      "Greetings! Mark Welcome to my home, number 50\n"
     ]
    }
   ],
   "source": [
    "welcome = 'Greetings'\n",
    "name = 'Mark'\n",
    "nice_message = 'Welcome to my home, number'\n",
    "num = 50\n",
    "\n",
    "print(welcome + '! ' + name + ' ' + nice_message + ' ' + str(num))\n",
    "print(f'{welcome}! {name} {nice_message} {num}')"
   ]
  },
  {
   "cell_type": "markdown",
   "id": "fcbbc1e8",
   "metadata": {},
   "source": [
    "🚩 **Exercise 1:** Using the variables `first_name`, `middle_name` and `family_name`. Construct the full name using f-strings and print this out."
   ]
  },
  {
   "cell_type": "code",
   "execution_count": null,
   "id": "61202e29",
   "metadata": {},
   "outputs": [],
   "source": [
    "first_name = \"James\"\n",
    "middle_name = \"Timothy\"\n",
    "family_name = \"Smith\"\n",
    "\n",
    "print(f'{first_name} {middle_name} {family_name}')"
   ]
  },
  {
   "cell_type": "markdown",
   "id": "1b5e8a6d",
   "metadata": {},
   "source": [
    "🚩 **Exercise 2:** Make an f-string that contains all of the even numbers less than or equal to 14, separated by a comma. i.e. \"2,4,...,12,14\""
   ]
  },
  {
   "cell_type": "code",
   "execution_count": 8,
   "id": "fda7cecd",
   "metadata": {},
   "outputs": [
    {
     "name": "stdout",
     "output_type": "stream",
     "text": [
      "2,4,6,8,10,12,14\n"
     ]
    }
   ],
   "source": [
    "print(f'2,4,6,8,10,12,14')"
   ]
  },
  {
   "cell_type": "markdown",
   "id": "a7113c2d",
   "metadata": {},
   "source": [
    "🚩 **Exercise 3:**  Make variables:\n",
    "\n",
    "- X = country name 1\n",
    "- Y = country name 2\n",
    "- Z = country name 3\n",
    "- W = continent name\n",
    "\n",
    "Then, write down a string that says, `'country x, country y and country z are in the\n",
    "continent of w’` and replace x, y, z with countries, and w with a continent. \n"
   ]
  },
  {
   "cell_type": "code",
   "execution_count": 9,
   "id": "1fa7d502",
   "metadata": {},
   "outputs": [
    {
     "name": "stdout",
     "output_type": "stream",
     "text": [
      "China, Brazil and Italy are not in the continent of Oceana\n"
     ]
    }
   ],
   "source": [
    "X = 'China'\n",
    "Y = 'Brazil'\n",
    "Z = 'Italy'\n",
    "W = 'Oceana'\n",
    "\n",
    "print(f'{X}, {Y} and {Z} are not in the continent of {W}')"
   ]
  },
  {
   "cell_type": "markdown",
   "id": "9782ee1d",
   "metadata": {},
   "source": [
    "🚩 **Exercise 4:** Make variables:\n",
    "\n",
    "- Germany_capital_city =\n",
    "- France_capital_city =\n",
    "- UK_capital_city =\n",
    "\n",
    "Then, write down a string that says: `‘The capital of France is …, the capital of\n",
    "Germany is … and the capital of the uk is …’`\n"
   ]
  },
  {
   "cell_type": "code",
   "execution_count": 10,
   "id": "2adc246b",
   "metadata": {},
   "outputs": [
    {
     "name": "stdout",
     "output_type": "stream",
     "text": [
      "The capital of Germany is Berlin. Next, the capital of France is Paris. Lastly, the capital of the UK is London.\n"
     ]
    }
   ],
   "source": [
    "Germany_capital_city = \"Berlin\" \n",
    "France_capital_city = \"Paris\"\n",
    "UK_capital_city = \"London\"\n",
    "\n",
    "print(f'The capital of Germany is {Germany_capital_city}. Next, the capital of France is {France_capital_city}. Lastly, the capital of the UK is {UK_capital_city}.')"
   ]
  },
  {
   "cell_type": "markdown",
   "id": "70ef34c1",
   "metadata": {},
   "source": [
    "🚩 **Exercise 5:**  If my favourite number is ‘3243454234’ and yours is also a 10 digit number, what is\n",
    "the sum of our favourite numbers?\n",
    "\n",
    "Then, print ‘His favourite number is: … . My favourite number is … . The sum of our\n",
    "favourite numbers is …’ "
   ]
  },
  {
   "cell_type": "code",
   "execution_count": 11,
   "id": "c8d620d2",
   "metadata": {},
   "outputs": [
    {
     "name": "stdout",
     "output_type": "stream",
     "text": [
      "His favourite number is:3243454234 My favourite number is:5698735231 The sum of our favourite numbers is:8942189465\n"
     ]
    }
   ],
   "source": [
    "My_favorite_number=3243454234\n",
    "Your_favorite_number=5698735231\n",
    "\n",
    "print(f'His favourite number is:{My_favorite_number} My favourite number is:{Your_favorite_number} The sum of our favourite numbers is:{My_favorite_number+Your_favorite_number}')"
   ]
  },
  {
   "cell_type": "markdown",
   "id": "acc52db9",
   "metadata": {},
   "source": [
    "### Strings - Accessing Elements"
   ]
  },
  {
   "cell_type": "markdown",
   "id": "a96fbe63",
   "metadata": {},
   "source": [
    "Now, let's look at accessing elements of a string.\n",
    "\n",
    "Strings are just like lists!"
   ]
  },
  {
   "cell_type": "code",
   "execution_count": 22,
   "id": "de91138d",
   "metadata": {},
   "outputs": [
    {
     "name": "stdout",
     "output_type": "stream",
     "text": [
      "i\n"
     ]
    }
   ],
   "source": [
    "message = \"hello my name is Mark\"\n",
    "\n",
    "print(message[-7])"
   ]
  },
  {
   "cell_type": "markdown",
   "id": "0736155c",
   "metadata": {},
   "source": [
    "Can you remember how indices are counted?\n",
    "\n",
    "Which index do we use for the last element of a string?"
   ]
  },
  {
   "cell_type": "code",
   "execution_count": 23,
   "id": "b28d86ac",
   "metadata": {},
   "outputs": [],
   "source": [
    "name = \"Shannon\"\n",
    "message1 = \"Hello my name is Mark\"\n",
    "message2 = \"Waffle \" + \"waffle \" + \"waffle\"\n",
    "message3 = f\"Hello {name}\""
   ]
  },
  {
   "cell_type": "markdown",
   "id": "dc71fc1f",
   "metadata": {},
   "source": [
    "🚩 **Exercise 6:** Which characters will be printed?"
   ]
  },
  {
   "cell_type": "code",
   "execution_count": null,
   "id": "808ba538",
   "metadata": {},
   "outputs": [],
   "source": [
    "print(message1[5])\n",
    "print(message1[10])\n",
    "print(message2[7])"
   ]
  },
  {
   "cell_type": "markdown",
   "id": "f3fce29f",
   "metadata": {},
   "source": [
    "🚩 **Exercise 7:** Which characters will be printed?"
   ]
  },
  {
   "cell_type": "code",
   "execution_count": null,
   "id": "5bada3da",
   "metadata": {},
   "outputs": [],
   "source": [
    "print(message3[5])\n",
    "print(message3[9])\n",
    "print(message1[12])"
   ]
  },
  {
   "cell_type": "markdown",
   "id": "c70815fe",
   "metadata": {},
   "source": [
    "🚩 **Exercise 8:** Which characters will be printed?"
   ]
  },
  {
   "cell_type": "code",
   "execution_count": null,
   "id": "c7384c70",
   "metadata": {},
   "outputs": [],
   "source": [
    "print(message2[15])\n",
    "print(message3[0])\n",
    "print(message3[7])"
   ]
  },
  {
   "cell_type": "markdown",
   "id": "79b72702",
   "metadata": {},
   "source": [
    "🚩 **Exercise 9:** Which characters will be printed?"
   ]
  },
  {
   "cell_type": "code",
   "execution_count": null,
   "id": "aaaa7c39",
   "metadata": {},
   "outputs": [],
   "source": [
    "print(message1[-5])\n",
    "print(message2[4])\n",
    "print(message3[3])"
   ]
  },
  {
   "cell_type": "markdown",
   "id": "9aae8462",
   "metadata": {},
   "source": [
    "### Strings - Length function"
   ]
  },
  {
   "cell_type": "markdown",
   "id": "f1bb08a9",
   "metadata": {},
   "source": [
    "Remember, we can use the `len()` function to check how long a string is, we did this with lists in snake!"
   ]
  },
  {
   "cell_type": "code",
   "execution_count": 24,
   "id": "c9665535",
   "metadata": {},
   "outputs": [
    {
     "name": "stdout",
     "output_type": "stream",
     "text": [
      "21\n",
      "20\n",
      "13\n"
     ]
    }
   ],
   "source": [
    "print(len(message1))\n",
    "print(len(message2))\n",
    "print(len(message3))"
   ]
  },
  {
   "cell_type": "markdown",
   "id": "eb872d2b",
   "metadata": {},
   "source": [
    "🚩 **Exercise 10:** What will the following code output?"
   ]
  },
  {
   "cell_type": "code",
   "execution_count": null,
   "id": "d23742f3",
   "metadata": {},
   "outputs": [],
   "source": [
    "message4 = \"hello\"\n",
    "message5 = \"your name\"\n",
    "print(len(message4), len(message5))"
   ]
  },
  {
   "cell_type": "markdown",
   "id": "fed068d7",
   "metadata": {},
   "source": [
    "🚩 **Exercise 11:** What will the following code output?"
   ]
  },
  {
   "cell_type": "code",
   "execution_count": null,
   "id": "b660c213",
   "metadata": {},
   "outputs": [],
   "source": [
    "message6 = 'This is a message'\n",
    "message7 = f'{message4}. {message6}'\n",
    "print(len(message6), len(message7))"
   ]
  },
  {
   "cell_type": "markdown",
   "id": "6d47e575",
   "metadata": {},
   "source": [
    "🚩 **Exercise 12:** What will the following code output?"
   ]
  },
  {
   "cell_type": "code",
   "execution_count": null,
   "id": "5c21eca8",
   "metadata": {},
   "outputs": [],
   "source": [
    "message8 = f'This is a message {message6}'\n",
    "message9 = f'{message4}. {message6}. {message7}'\n",
    "print(len(message8), len(message9))"
   ]
  },
  {
   "cell_type": "markdown",
   "id": "df2fc052",
   "metadata": {},
   "source": [
    "### Strings - Loops in another way"
   ]
  },
  {
   "cell_type": "markdown",
   "id": "a9977971",
   "metadata": {},
   "source": [
    "Now that we can use the `len()` function, we can run loops in another way."
   ]
  },
  {
   "cell_type": "code",
   "execution_count": 5,
   "id": "65f706cf",
   "metadata": {},
   "outputs": [
    {
     "name": "stdout",
     "output_type": "stream",
     "text": [
      "0 W\n",
      "1 e\n",
      "2 l\n",
      "3 c\n",
      "4 o\n",
      "5 m\n",
      "6 e\n"
     ]
    }
   ],
   "source": [
    "hello = \"Welcome\"\n",
    "\n",
    "for i in range(len(hello)):\n",
    "    print(i, hello[i])"
   ]
  },
  {
   "cell_type": "markdown",
   "id": "a01fe955",
   "metadata": {},
   "source": [
    "🚩 **Exercise 13:** Make a string that has length 15 and print out all the characters one at a time using a for loop."
   ]
  },
  {
   "cell_type": "code",
   "execution_count": null,
   "id": "a7cf79a0",
   "metadata": {},
   "outputs": [],
   "source": []
  },
  {
   "cell_type": "markdown",
   "id": "3223da9e",
   "metadata": {},
   "source": [
    "🚩 **Exercise 14:** Print out all the characters of the string `\"hello\"` using loops like above."
   ]
  },
  {
   "cell_type": "code",
   "execution_count": null,
   "id": "b30a7ce2",
   "metadata": {},
   "outputs": [],
   "source": []
  },
  {
   "cell_type": "markdown",
   "id": "f721973a",
   "metadata": {},
   "source": [
    "🚩 **Exercise 15:** Using the function `is_vowel(a)` that returns True if a is a vowel and False otherwise, and using a loop over the string, print out only the vowels in these words:\n",
    "\n",
    "- \"There\"\n",
    "- \"Buzzworthy\""
   ]
  },
  {
   "cell_type": "code",
   "execution_count": null,
   "id": "802a363f",
   "metadata": {},
   "outputs": [],
   "source": [
    "def is_vowel(a):\n",
    "    if a==\"a\" or a==\"e\" or a==\"i\" or a==\"o\" or a==\"u\":\n",
    "        return True \n",
    "    else:\n",
    "        return False\n",
    "\n",
    "is_vowel(\"e\")\n",
    "\n"
   ]
  },
  {
   "cell_type": "markdown",
   "id": "a8860f0f",
   "metadata": {},
   "source": [
    "🚩 **Exercise 16:** The same as exercise 15, but print out the vowels in the words:\n",
    "\n",
    "- \"potatoes\"\n",
    "- \"razzmatazz\"\n",
    "- \"unpuzzling\"\n"
   ]
  },
  {
   "cell_type": "code",
   "execution_count": null,
   "id": "62185ae8",
   "metadata": {},
   "outputs": [],
   "source": []
  },
  {
   "cell_type": "markdown",
   "id": "58b53fb1",
   "metadata": {},
   "source": [
    "🚩 **Exercise 17:** Write down the longest word you can think of, then print out the last, second last and third last letters.\n"
   ]
  },
  {
   "cell_type": "code",
   "execution_count": null,
   "id": "954ee9f8",
   "metadata": {},
   "outputs": [],
   "source": []
  },
  {
   "cell_type": "markdown",
   "id": "562cfd73",
   "metadata": {},
   "source": [
    "🚩 **Exercise 18:** Find out what are the 15th, 17th, 19th, 5th and 12th letters of the alphabet are and\n",
    "store them in variables. \n"
   ]
  },
  {
   "cell_type": "code",
   "execution_count": null,
   "id": "085b8ef1",
   "metadata": {},
   "outputs": [],
   "source": []
  },
  {
   "cell_type": "markdown",
   "id": "e1a4d249",
   "metadata": {},
   "source": [
    "🚩 **Exercise 19:** If my favourite number is ‘4536582757299992475’, print all the numbers that\n",
    "make up my favourite number on separate lines. "
   ]
  },
  {
   "cell_type": "code",
   "execution_count": null,
   "id": "d6cfbea0",
   "metadata": {},
   "outputs": [],
   "source": []
  },
  {
   "cell_type": "markdown",
   "id": "d60b6599",
   "metadata": {},
   "source": [
    "🚩 **Exercise 20:** Using range(10), print out 10 random numbers, between 0 and 9, and the index.\n",
    "i.e.\n",
    "use random.randint(a, b) to create a random integer from a to b\n",
    "- (a) Now make a string variable called word and store the random\n",
    "number in a variable num\n",
    "- (b) Add each of the numbers to the string variable inside the loop\n",
    "- (c) Print out the whole 10 digit number \n"
   ]
  },
  {
   "cell_type": "code",
   "execution_count": null,
   "id": "6bc763aa",
   "metadata": {},
   "outputs": [],
   "source": []
  },
  {
   "cell_type": "markdown",
   "id": "1b4eaca2",
   "metadata": {},
   "source": [
    "### Strings - Slicing"
   ]
  },
  {
   "cell_type": "markdown",
   "id": "34e3546d",
   "metadata": {},
   "source": [
    "🚩 **Exercise 21:** Use a string slice to only print the word “hello” from the message, “hello my name is\n",
    "jeff”."
   ]
  },
  {
   "cell_type": "code",
   "execution_count": null,
   "id": "73e8d500",
   "metadata": {},
   "outputs": [],
   "source": []
  },
  {
   "cell_type": "markdown",
   "id": "a29dc4d9",
   "metadata": {},
   "source": [
    "🚩 **Exercise 22:** Use a string slice to print the number in the following sentence, “I live in house\n",
    "number 124”."
   ]
  },
  {
   "cell_type": "code",
   "execution_count": null,
   "id": "55253be1",
   "metadata": {},
   "outputs": [],
   "source": []
  },
  {
   "cell_type": "markdown",
   "id": "843018dc",
   "metadata": {},
   "source": [
    "🚩 **Exercise 23:** Use a string slice to print the country from “I really like Europe and the UK”."
   ]
  },
  {
   "cell_type": "code",
   "execution_count": null,
   "id": "ca7c0725",
   "metadata": {},
   "outputs": [],
   "source": []
  },
  {
   "cell_type": "markdown",
   "id": "262028f7",
   "metadata": {},
   "source": [
    "🚩 **Exercise 24:** Use a string slice to print two words from the sentence “We love baked beans on our\n",
    "toast”."
   ]
  },
  {
   "cell_type": "code",
   "execution_count": null,
   "id": "2cd53978",
   "metadata": {},
   "outputs": [],
   "source": []
  },
  {
   "cell_type": "markdown",
   "id": "627d6cf7",
   "metadata": {},
   "source": [
    "🚩 **Exercise 25:** Use a string slice to print the number in the sentence, “I am 12 years old\"."
   ]
  },
  {
   "cell_type": "code",
   "execution_count": null,
   "id": "3cb66fee",
   "metadata": {},
   "outputs": [],
   "source": []
  },
  {
   "cell_type": "markdown",
   "id": "6b2542e1",
   "metadata": {},
   "source": [
    "🚩 **Exercise 26:** Use a string slice to print only the words after “you”, “Hello friend, do you have a cat?”"
   ]
  },
  {
   "cell_type": "code",
   "execution_count": null,
   "id": "09e8184e",
   "metadata": {},
   "outputs": [],
   "source": []
  },
  {
   "cell_type": "markdown",
   "id": "b314c675",
   "metadata": {},
   "source": [
    "🚩 **Exercise 27:** Use a string slice to print only the words before “waffle” from the sentence, “When I\n",
    "have a waffle, I have it with Nutella and strawberry”."
   ]
  },
  {
   "cell_type": "code",
   "execution_count": null,
   "id": "06cebc77",
   "metadata": {},
   "outputs": [],
   "source": []
  },
  {
   "cell_type": "markdown",
   "id": "5aa64cf5",
   "metadata": {},
   "source": [
    "🚩 **Exercise 28:** Using a string slice, print every 3rd letter of the word “LUMBERJACK”."
   ]
  },
  {
   "cell_type": "code",
   "execution_count": null,
   "id": "4b141f6d",
   "metadata": {},
   "outputs": [],
   "source": []
  },
  {
   "cell_type": "markdown",
   "id": "0af4b8ac",
   "metadata": {},
   "source": [
    "🚩 **Exercise 29:** Using a string slice, print every 4th letter of the word “BINOCULARS”."
   ]
  },
  {
   "cell_type": "code",
   "execution_count": null,
   "id": "fa6232dd",
   "metadata": {},
   "outputs": [],
   "source": []
  },
  {
   "cell_type": "markdown",
   "id": "5814cd1a",
   "metadata": {},
   "source": [
    "🚩 **Exercise 30:** Using a string slice, print your whole name."
   ]
  },
  {
   "cell_type": "code",
   "execution_count": null,
   "id": "1e8b0209",
   "metadata": {},
   "outputs": [],
   "source": []
  },
  {
   "cell_type": "markdown",
   "id": "2dd3fa0f",
   "metadata": {},
   "source": [
    "🚩 **Exercise 31:** Using a string slice, print every 2nd letter of the word before “trampoline” in the\n",
    "sentence: “When I play at home, I always play on my gargantuan trampoline”."
   ]
  },
  {
   "cell_type": "code",
   "execution_count": null,
   "id": "4c7c1b80",
   "metadata": {},
   "outputs": [],
   "source": []
  },
  {
   "cell_type": "markdown",
   "id": "5a01ac08",
   "metadata": {},
   "source": [
    "🚩 **Exercise 32:** Write a function called print_even(word) that takes a word and prints all the even\n",
    "indices of the word.\n",
    "So print_even(‘123456’) should print ‘2’, ‘4’ and ‘6’."
   ]
  },
  {
   "cell_type": "code",
   "execution_count": null,
   "id": "9dcc0a1b",
   "metadata": {},
   "outputs": [],
   "source": []
  },
  {
   "cell_type": "markdown",
   "id": "c7296c74",
   "metadata": {},
   "source": [
    "🚩 **Exercise 33:** Write a function called print_odd(word) that takes a word and prints all the odd\n",
    "indices of the word.\n",
    "So print_odd(‘123456’) should print ‘1’, ‘3’ and ‘5’."
   ]
  },
  {
   "cell_type": "code",
   "execution_count": null,
   "id": "356307d4",
   "metadata": {},
   "outputs": [],
   "source": []
  }
 ],
 "metadata": {
  "kernelspec": {
   "display_name": "Python 3 (ipykernel)",
   "language": "python",
   "name": "python3"
  },
  "language_info": {
   "codemirror_mode": {
    "name": "ipython",
    "version": 3
   },
   "file_extension": ".py",
   "mimetype": "text/x-python",
   "name": "python",
   "nbconvert_exporter": "python",
   "pygments_lexer": "ipython3",
   "version": "3.8.12"
  },
  "toc": {
   "base_numbering": 1,
   "nav_menu": {},
   "number_sections": true,
   "sideBar": true,
   "skip_h1_title": false,
   "title_cell": "Table of Contents",
   "title_sidebar": "Contents",
   "toc_cell": false,
   "toc_position": {},
   "toc_section_display": true,
   "toc_window_display": false
  }
 },
 "nbformat": 4,
 "nbformat_minor": 5
}
