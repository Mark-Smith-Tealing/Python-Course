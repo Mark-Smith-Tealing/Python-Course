{
 "cells": [
  {
   "cell_type": "markdown",
   "id": "29c877e6",
   "metadata": {},
   "source": [
    "# Introduction to Python - Block 3 Week 1\n",
    "\n",
    "Now, we are going to try a new worksheet style in this block, this should help us to see the exercises more easily while working on them. This is a Jupyter notebook, that allows for us to write code and display the information easily.\n",
    "\n",
    "Like Spyder, Jupyter notebooks have cells (Markdown and Code cells) that allow us to separate code and text.\n",
    "\n",
    "## Let's Try\n",
    "\n",
    "You can run the next cell using the \"<kbd>>| Run</kbd>\" button on the toolbar above, or press <kbd>Ctrl</kbd> + <kbd>Enter</kbd>.\n"
   ]
  },
  {
   "cell_type": "code",
   "execution_count": null,
   "id": "15782178",
   "metadata": {},
   "outputs": [],
   "source": [
    "print(5+5)"
   ]
  },
  {
   "cell_type": "markdown",
   "id": "b1a54d55",
   "metadata": {},
   "source": [
    "🚩 **Exercise:** print out 'hello world' in the code cell below!"
   ]
  },
  {
   "cell_type": "code",
   "execution_count": null,
   "id": "5464cf1b",
   "metadata": {},
   "outputs": [],
   "source": []
  },
  {
   "cell_type": "markdown",
   "id": "3438c438",
   "metadata": {},
   "source": [
    "## Warmup - Last Week\n",
    "\n",
    "Let's see if you can remember what we worked on last week!\n",
    "\n",
    "🚩 **Question:** What does this code do?"
   ]
  },
  {
   "cell_type": "code",
   "execution_count": null,
   "id": "eb6bec1c",
   "metadata": {
    "scrolled": true
   },
   "outputs": [],
   "source": [
    "import os\n",
    "print(os.getcwd())\n",
    "\n",
    "fin = open('words.txt')\n",
    "\n",
    "words=[]\n",
    "\n",
    "for word in fin:\n",
    "    words.append(word.strip())\n",
    "    \n",
    "print(words[-100:])"
   ]
  },
  {
   "cell_type": "markdown",
   "id": "d7fc3d2e",
   "metadata": {},
   "source": [
    "🚩 **Exercise 1:** Write code to find out how many words there are in English."
   ]
  },
  {
   "cell_type": "code",
   "execution_count": null,
   "id": "337e871d",
   "metadata": {},
   "outputs": [],
   "source": []
  },
  {
   "cell_type": "markdown",
   "id": "c93315a1",
   "metadata": {},
   "source": [
    "🚩 **Exercise 2:** How many words are longer than 20 characters in English? (Hint: You might want to use one of the cells from last week!)"
   ]
  },
  {
   "cell_type": "code",
   "execution_count": null,
   "id": "0384474f",
   "metadata": {},
   "outputs": [],
   "source": []
  },
  {
   "cell_type": "markdown",
   "id": "38c9c4d9",
   "metadata": {},
   "source": [
    "🚩 **Exercise 3:** How do we write the `has_e(word)` function? Remember it should return `True` if the word contains the letter e and `False` otherwise. (Hint: you can look at last week's worksheet if you're stuck)"
   ]
  },
  {
   "cell_type": "code",
   "execution_count": null,
   "id": "f00b6051",
   "metadata": {},
   "outputs": [],
   "source": [
    "def has_e(word):\n",
    "    break\n",
    "    \n",
    "word1 = 'hello'\n",
    "word2 = 'Scotland'\n",
    "word3 = 'Super Mario'"
   ]
  },
  {
   "cell_type": "markdown",
   "id": "aa9a6519",
   "metadata": {},
   "source": [
    "## Exercises - This Week\n",
    "\n",
    "### Variables"
   ]
  },
  {
   "cell_type": "markdown",
   "id": "7423e384",
   "metadata": {},
   "source": [
    "🚩 **Exercise 4:** What does the cell below do?"
   ]
  },
  {
   "cell_type": "code",
   "execution_count": null,
   "id": "ae9bf1fe",
   "metadata": {},
   "outputs": [],
   "source": [
    "a = 100\n",
    "b = 200\n",
    "print(a)\n",
    "print(b)\n",
    "\n",
    "a = b\n",
    "\n",
    "print(a)\n",
    "print(b)"
   ]
  },
  {
   "cell_type": "markdown",
   "id": "b72226de",
   "metadata": {},
   "source": [
    "🚩 **Exercise 5:** What does the cell below do?"
   ]
  },
  {
   "cell_type": "code",
   "execution_count": null,
   "id": "bbe20619",
   "metadata": {},
   "outputs": [],
   "source": [
    "g = 'hello'\n",
    "b = ''\n",
    "j = 10\n",
    "print(g)\n",
    "print(b)\n",
    "\n",
    "b = j\n",
    "\n",
    "print(b)"
   ]
  },
  {
   "cell_type": "markdown",
   "id": "2fdb2e54",
   "metadata": {},
   "source": [
    "🚩 **Exercise 6:** What does the cell below do?"
   ]
  },
  {
   "cell_type": "code",
   "execution_count": null,
   "id": "eda950e3",
   "metadata": {},
   "outputs": [],
   "source": [
    "abcde = 'Alpha'\n",
    "b = 21\n",
    "print(abcde, b)\n",
    "\n",
    "he45 = 'yellow'\n",
    "print(he45)"
   ]
  },
  {
   "cell_type": "markdown",
   "id": "f35cd781",
   "metadata": {},
   "source": [
    "🚩 **Exercise 7:** What does the cell below do?"
   ]
  },
  {
   "cell_type": "code",
   "execution_count": null,
   "id": "70965f5d",
   "metadata": {},
   "outputs": [],
   "source": [
    "a = 5\n",
    "b = 1\n",
    "\n",
    "a = b\n",
    "\n",
    "print(b)\n",
    "print(a)"
   ]
  },
  {
   "cell_type": "markdown",
   "id": "90d5931d",
   "metadata": {},
   "source": [
    "🚩 **Exercise 8:** What does the cell below do?"
   ]
  },
  {
   "cell_type": "code",
   "execution_count": null,
   "id": "b15bf0d3",
   "metadata": {},
   "outputs": [],
   "source": [
    "x = 5.6\n",
    "y = 9.9\n",
    "z = 10\n",
    "\n",
    "y = x\n",
    "print(x, y, z)\n",
    "\n",
    "y = z\n",
    "\n",
    "print(x, y, z)"
   ]
  },
  {
   "cell_type": "markdown",
   "id": "37fee9d3",
   "metadata": {},
   "source": [
    "🚩 **Exercise 9:** What does the cell below do?"
   ]
  },
  {
   "cell_type": "code",
   "execution_count": null,
   "id": "f4eaab37",
   "metadata": {},
   "outputs": [],
   "source": [
    "first_word = 'hello'\n",
    "second_word = 'there'\n",
    "third_word = 'yesterday'\n",
    "\n",
    "second_word = first_word\n",
    "\n",
    "print(third_word, second_word)"
   ]
  },
  {
   "cell_type": "markdown",
   "id": "437de3ff",
   "metadata": {},
   "source": [
    "🚩 **Exercise 10:** What does the cell below do?"
   ]
  },
  {
   "cell_type": "code",
   "execution_count": null,
   "id": "89ca6bf9",
   "metadata": {},
   "outputs": [],
   "source": [
    "x = 50\n",
    "y = 132\n",
    "\n",
    "y = x\n",
    "z = x + y\n",
    "\n",
    "print(y)\n",
    "print(z)"
   ]
  },
  {
   "cell_type": "markdown",
   "id": "e8aa5905",
   "metadata": {},
   "source": [
    "🚩 **Exercise 11:** What does the cell below do?"
   ]
  },
  {
   "cell_type": "code",
   "execution_count": null,
   "id": "bf942087",
   "metadata": {},
   "outputs": [],
   "source": [
    "name = 'Me'\n",
    "family_name = 'Yes'\n",
    "\n",
    "new_var = f'{name} {family_name}'\n",
    "family_name = new_var\n",
    "\n",
    "print(family_name)"
   ]
  },
  {
   "cell_type": "markdown",
   "id": "d77c23b1",
   "metadata": {},
   "source": [
    "🚩 **Exercise 12:** What does the cell below do?"
   ]
  },
  {
   "cell_type": "code",
   "execution_count": null,
   "id": "88011212",
   "metadata": {},
   "outputs": [],
   "source": [
    "x = 1\n",
    "y = 10\n",
    "z = 100\n",
    "\n",
    "z = x\n",
    "z = y\n",
    "print(x+y+z)"
   ]
  },
  {
   "cell_type": "markdown",
   "id": "0863ab61",
   "metadata": {},
   "source": [
    "### Functions"
   ]
  },
  {
   "cell_type": "code",
   "execution_count": null,
   "id": "942e4a2f",
   "metadata": {},
   "outputs": [],
   "source": []
  },
  {
   "cell_type": "markdown",
   "id": "1844adae",
   "metadata": {},
   "source": [
    "🚩 **Exercise 12:** If our function is $F(x) = 125x + 1$. What are F(10), F(1) and F(5)? "
   ]
  },
  {
   "cell_type": "code",
   "execution_count": null,
   "id": "95ed3a87",
   "metadata": {},
   "outputs": [],
   "source": [
    "#\n",
    "#\n",
    "#\n",
    "\n"
   ]
  },
  {
   "cell_type": "markdown",
   "id": "5d1f7d25",
   "metadata": {},
   "source": [
    "🚩 **Exercise 13:** If our function is $F(x) = x - 5$. What are F(10), F(8) and F(5)? "
   ]
  },
  {
   "cell_type": "code",
   "execution_count": null,
   "id": "23944620",
   "metadata": {},
   "outputs": [],
   "source": [
    "#\n",
    "#\n",
    "#\n"
   ]
  },
  {
   "cell_type": "markdown",
   "id": "65244074",
   "metadata": {},
   "source": [
    "🚩 **Exercise 14:** If our function is $F(x) = 6x$. What are F(10), F(15) and F(9)? "
   ]
  },
  {
   "cell_type": "code",
   "execution_count": null,
   "id": "29735964",
   "metadata": {},
   "outputs": [],
   "source": [
    "#\n",
    "#\n",
    "#\n",
    "\n"
   ]
  },
  {
   "cell_type": "markdown",
   "id": "e8480da9",
   "metadata": {},
   "source": [
    "🚩 **Exercise 15:** If our function is $F(x) = 125$. What are F(10), F(1) and F(5)? "
   ]
  },
  {
   "cell_type": "code",
   "execution_count": null,
   "id": "77808d0b",
   "metadata": {},
   "outputs": [],
   "source": [
    "#\n",
    "#\n",
    "#\n",
    "\n"
   ]
  },
  {
   "cell_type": "markdown",
   "id": "09cf38b6",
   "metadata": {},
   "source": [
    "🚩 **Exercise 16:** If our function is $F(x, y) = 12x + y$. What are F(10, 5), F(1, 1) and F(5, 2)? "
   ]
  },
  {
   "cell_type": "code",
   "execution_count": null,
   "id": "644087b1",
   "metadata": {},
   "outputs": [],
   "source": [
    "#\n",
    "#\n",
    "#\n",
    "\n"
   ]
  },
  {
   "cell_type": "markdown",
   "id": "1e93e8a3",
   "metadata": {},
   "source": [
    "🚩 **Exercise 17:** If our function is $F(x, y) = 3x + 2y$. What are F(2, 3), F(1, 4) and F(4, 5)? "
   ]
  },
  {
   "cell_type": "code",
   "execution_count": null,
   "id": "0951e386",
   "metadata": {},
   "outputs": [],
   "source": [
    "#\n",
    "#\n",
    "#\n",
    "\n"
   ]
  },
  {
   "cell_type": "markdown",
   "id": "93d8bdda",
   "metadata": {},
   "source": [
    "## Freegames\n",
    "\n",
    "Here is the link to the freegames website\n",
    "\n",
    "__[Freegames Website](https://pypi.org/project/freegames/#:~:text=Free%20Python%20Games%20is%20an%20Apache2%20licensed%20collection,versions%20of%20several%20classic%20arcade%20games%20are%20included)__\n",
    "\n",
    "There you can find the list of all games that can be played!"
   ]
  },
  {
   "cell_type": "code",
   "execution_count": null,
   "id": "a2527ec0",
   "metadata": {},
   "outputs": [],
   "source": []
  }
 ],
 "metadata": {
  "kernelspec": {
   "display_name": "Python 3 (ipykernel)",
   "language": "python",
   "name": "python3"
  },
  "language_info": {
   "codemirror_mode": {
    "name": "ipython",
    "version": 3
   },
   "file_extension": ".py",
   "mimetype": "text/x-python",
   "name": "python",
   "nbconvert_exporter": "python",
   "pygments_lexer": "ipython3",
   "version": "3.8.12"
  }
 },
 "nbformat": 4,
 "nbformat_minor": 5
}
