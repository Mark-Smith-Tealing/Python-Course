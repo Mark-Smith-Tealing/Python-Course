{
 "cells": [
  {
   "cell_type": "markdown",
   "id": "29c877e6",
   "metadata": {},
   "source": [
    "# Introduction to Python - Conditional Statements\n",
    "\n",
    "**Remember:** This is a Jupyter notebook, an application that allows us to write code and view exercises easily.\n",
    "\n",
    "Like Spyder, Jupyter notebooks have cells (Markdown and Code cells) that allow us to separate code and text. Remember that the code cells have a `In [ ]:` on the left hand side!\n",
    "\n",
    "## Let's Try\n",
    "\n",
    "**Remember** You can run the next cell using the \"<kbd>>| Run</kbd>\" button on the toolbar above, or you can press <kbd>Ctrl</kbd> + <kbd>Enter</kbd>.\n"
   ]
  },
  {
   "cell_type": "markdown",
   "id": "b1a54d55",
   "metadata": {},
   "source": [
    "🚩 **Exercise:** Run the next cell to make sure that your notebook is working!"
   ]
  },
  {
   "cell_type": "code",
   "execution_count": 1,
   "id": "5464cf1b",
   "metadata": {},
   "outputs": [
    {
     "name": "stdout",
     "output_type": "stream",
     "text": [
      "Welcome to Conditionals in Python!\n"
     ]
    }
   ],
   "source": [
    "print('Welcome to Conditionals in Python!')"
   ]
  },
  {
   "cell_type": "markdown",
   "id": "3438c438",
   "metadata": {},
   "source": [
    "## Warmup - Last Time (Variables & Functions)\n",
    "\n",
    "Let's see if you can remember what we worked on last week!\n",
    "\n",
    "🚩 **Warmup 1:** What does this code do?"
   ]
  },
  {
   "cell_type": "code",
   "execution_count": 2,
   "id": "eb6bec1c",
   "metadata": {
    "scrolled": true
   },
   "outputs": [
    {
     "name": "stdout",
     "output_type": "stream",
     "text": [
      "15\n"
     ]
    }
   ],
   "source": [
    "x = 5\n",
    "y = 10\n",
    "\n",
    "print(x+y)"
   ]
  },
  {
   "cell_type": "markdown",
   "id": "d7fc3d2e",
   "metadata": {},
   "source": [
    "🚩 **Warmup 2:** Make a variable that has your first name as a value."
   ]
  },
  {
   "cell_type": "code",
   "execution_count": 3,
   "id": "337e871d",
   "metadata": {},
   "outputs": [],
   "source": [
    "name1 = \"Mark\""
   ]
  },
  {
   "cell_type": "markdown",
   "id": "c93315a1",
   "metadata": {},
   "source": [
    "🚩 **Warmup 3:** How do we remeber the way that Python remembers functions?\n"
   ]
  },
  {
   "cell_type": "markdown",
   "id": "38c9c4d9",
   "metadata": {},
   "source": [
    "🚩 **Warmup 4:** What does it mean to define a function?"
   ]
  },
  {
   "cell_type": "markdown",
   "id": "30b59692",
   "metadata": {},
   "source": [
    "🚩 **Warmup 5:** What does it mean to call a function?"
   ]
  },
  {
   "cell_type": "markdown",
   "id": "aa9a6519",
   "metadata": {},
   "source": [
    "## Exercises - This Week\n",
    "\n",
    "### Checking Equality\n",
    "\n",
    "**Remember:** we can use `==` to check if two things are equal."
   ]
  },
  {
   "cell_type": "code",
   "execution_count": null,
   "id": "38931d24",
   "metadata": {},
   "outputs": [],
   "source": []
  },
  {
   "cell_type": "markdown",
   "id": "7423e384",
   "metadata": {},
   "source": [
    "🚩 **Exercise 1:** Check if `5` and `10` are equal. Also check if `105` and `105` are equal. "
   ]
  },
  {
   "cell_type": "code",
   "execution_count": null,
   "id": "ae9bf1fe",
   "metadata": {},
   "outputs": [],
   "source": []
  },
  {
   "cell_type": "markdown",
   "id": "ad393e54",
   "metadata": {},
   "source": [
    "🚩 **Exercise 2:** Check if `4` and `4` are equal. Also, check if `'hi'` and `'yes'` are equal."
   ]
  },
  {
   "cell_type": "code",
   "execution_count": null,
   "id": "bbe20619",
   "metadata": {},
   "outputs": [],
   "source": []
  },
  {
   "cell_type": "markdown",
   "id": "d8470ae4",
   "metadata": {},
   "source": [
    "🚩 **Exercise 3:** Check if `'hello'` and `\"hello\"` are equal.  Also, check if `'4'` and `'4'` are equal."
   ]
  },
  {
   "cell_type": "code",
   "execution_count": null,
   "id": "eda950e3",
   "metadata": {},
   "outputs": [],
   "source": []
  },
  {
   "cell_type": "markdown",
   "id": "c6670424",
   "metadata": {},
   "source": [
    "🚩 **Exercise 4:** Check if `'4'` and `'5'` are equal.  Also, check if `6` and `1` are equal."
   ]
  },
  {
   "cell_type": "code",
   "execution_count": null,
   "id": "70965f5d",
   "metadata": {},
   "outputs": [],
   "source": []
  },
  {
   "cell_type": "markdown",
   "id": "c86bbea3",
   "metadata": {},
   "source": [
    "🚩 **Exercise 5:** Check if `'open'` and `\"open\"` are equal.  Also, check if `9` and `9` are equal."
   ]
  },
  {
   "cell_type": "code",
   "execution_count": null,
   "id": "b15bf0d3",
   "metadata": {},
   "outputs": [],
   "source": []
  },
  {
   "cell_type": "markdown",
   "id": "f6bfe569",
   "metadata": {},
   "source": [
    "🚩 **Exercise 6:** Check if `896` and `896` are equal.  Also, check if `'yellow'` and `'green'` are equal."
   ]
  },
  {
   "cell_type": "code",
   "execution_count": null,
   "id": "f4eaab37",
   "metadata": {},
   "outputs": [],
   "source": []
  },
  {
   "cell_type": "markdown",
   "id": "33d87982",
   "metadata": {},
   "source": [
    "🚩 **Exercise 7:** Check if `6` and `'6'` are equal.  Also, check if `'one'` and `1` are equal."
   ]
  },
  {
   "cell_type": "code",
   "execution_count": null,
   "id": "89ca6bf9",
   "metadata": {},
   "outputs": [],
   "source": []
  },
  {
   "cell_type": "markdown",
   "id": "0863ab61",
   "metadata": {},
   "source": [
    "### Relational Operators"
   ]
  },
  {
   "cell_type": "markdown",
   "id": "6a96b647",
   "metadata": {},
   "source": [
    "**Remember:** Here are our relational operators.\n",
    "\n",
    "| Code | Statement (True if...) | True | False |\n",
    "| --- | --- | --- | --- |\n",
    "| x == y| x equals y          | 5 == 5 |  5 ==3 |\n",
    "| x != y| x is not equal to y | 5 != 4 | 4 != 4 |\n",
    "| x > y | x is greater than y | 5 > 3 | 3 > 5 |\n",
    "| x < y | x is less than y       | 3 < 5 | 5 < 3 |\n",
    "| x >= y| x is greater than or equal to y | 4 >= 4 | 2 >= 4 |\n",
    "| x <= y| x is less than or equal to y | 4 <= 10 | 10 <= 4 |"
   ]
  },
  {
   "cell_type": "markdown",
   "id": "d201b85b",
   "metadata": {},
   "source": [
    "**Remember:** We can use the operators the same way as the `==`."
   ]
  },
  {
   "cell_type": "code",
   "execution_count": 3,
   "id": "56dfbade",
   "metadata": {},
   "outputs": [
    {
     "name": "stdout",
     "output_type": "stream",
     "text": [
      "False\n"
     ]
    }
   ],
   "source": [
    "print(4 > 5)"
   ]
  },
  {
   "cell_type": "markdown",
   "id": "1844adae",
   "metadata": {},
   "source": [
    "🚩 **Exercise 8:** Use the correct operator to check if: (a) 4 > 2 (b) 7 < 9"
   ]
  },
  {
   "cell_type": "code",
   "execution_count": null,
   "id": "95ed3a87",
   "metadata": {},
   "outputs": [],
   "source": []
  },
  {
   "cell_type": "markdown",
   "id": "9b7396db",
   "metadata": {},
   "source": [
    "🚩 **Exercise 9:** Use the correct operator to check if: (a) 4 >= 4 (b) 9 <= 23"
   ]
  },
  {
   "cell_type": "code",
   "execution_count": null,
   "id": "23944620",
   "metadata": {},
   "outputs": [],
   "source": []
  },
  {
   "cell_type": "markdown",
   "id": "06e60233",
   "metadata": {},
   "source": [
    "🚩 **Exercise 10:** Use the correct operator to check if: (a) 45 > 23 (b) 56 < 100"
   ]
  },
  {
   "cell_type": "code",
   "execution_count": null,
   "id": "29735964",
   "metadata": {},
   "outputs": [],
   "source": []
  },
  {
   "cell_type": "markdown",
   "id": "c409bfc1",
   "metadata": {},
   "source": [
    "🚩 **Exercise 11:** Use the correct operator to check if: (a) 6 >= 7 (b) 6 <= 9"
   ]
  },
  {
   "cell_type": "code",
   "execution_count": null,
   "id": "77808d0b",
   "metadata": {},
   "outputs": [],
   "source": []
  },
  {
   "cell_type": "markdown",
   "id": "6a64b727",
   "metadata": {},
   "source": [
    "🚩 **Exercise 12:** Use the correct operator to check if: (a) 4 != 4 (b) 9 > 1"
   ]
  },
  {
   "cell_type": "code",
   "execution_count": null,
   "id": "644087b1",
   "metadata": {},
   "outputs": [],
   "source": []
  },
  {
   "cell_type": "markdown",
   "id": "150a5350",
   "metadata": {},
   "source": [
    "### Writing Conditional Statements\n",
    "\n",
    "**Remember:** We write a conditional statement like."
   ]
  },
  {
   "cell_type": "code",
   "execution_count": 4,
   "id": "8b3168c0",
   "metadata": {},
   "outputs": [
    {
     "name": "stdout",
     "output_type": "stream",
     "text": [
      "You can go on the ride!\n"
     ]
    }
   ],
   "source": [
    "age = 10\n",
    "\n",
    "if age > 9:\n",
    "    print('You can go on the ride!')"
   ]
  },
  {
   "cell_type": "markdown",
   "id": "ebc5c6c4",
   "metadata": {},
   "source": [
    "Here are some useful variables."
   ]
  },
  {
   "cell_type": "code",
   "execution_count": 5,
   "id": "61e590cc",
   "metadata": {},
   "outputs": [],
   "source": [
    "x = 100\n",
    "age = 15\n",
    "name = 'Alex'\n",
    "height = 105\n",
    "school_year = 3"
   ]
  },
  {
   "cell_type": "markdown",
   "id": "a938d8fa",
   "metadata": {},
   "source": [
    "🚩 **Exercise 13:** Write a conditional statement that prints `'Yes'` if x is bigger than 50."
   ]
  },
  {
   "cell_type": "code",
   "execution_count": null,
   "id": "613388a7",
   "metadata": {},
   "outputs": [],
   "source": []
  },
  {
   "cell_type": "markdown",
   "id": "605c5086",
   "metadata": {},
   "source": [
    "🚩 **Exercise 14:** Write a conditional statement that prints `'No'` if x is smaller than 50."
   ]
  },
  {
   "cell_type": "code",
   "execution_count": null,
   "id": "cb343552",
   "metadata": {},
   "outputs": [],
   "source": []
  },
  {
   "cell_type": "markdown",
   "id": "7d6d4e53",
   "metadata": {},
   "source": [
    "🚩 **Exercise 15:** Write a conditional statement that prints `'You can watch the movie'` if age is older than or equal to 15."
   ]
  },
  {
   "cell_type": "code",
   "execution_count": null,
   "id": "2c3a7d59",
   "metadata": {},
   "outputs": [],
   "source": []
  },
  {
   "cell_type": "markdown",
   "id": "67a58df8",
   "metadata": {},
   "source": [
    "🚩 **Exercise 16:** Write a conditional statement that prints `'This is your bike Alex!'` if the name is `'Alex'`."
   ]
  },
  {
   "cell_type": "code",
   "execution_count": null,
   "id": "878f5291",
   "metadata": {},
   "outputs": [],
   "source": []
  },
  {
   "cell_type": "markdown",
   "id": "501389e3",
   "metadata": {},
   "source": [
    "🚩 **Exercise 17:** Write a conditional statement that prints `'Hello ...!'` if the name is not `'Alex'`."
   ]
  },
  {
   "cell_type": "code",
   "execution_count": null,
   "id": "951c3a25",
   "metadata": {},
   "outputs": [],
   "source": []
  },
  {
   "cell_type": "markdown",
   "id": "42e1c67a",
   "metadata": {},
   "source": [
    "🚩 **Exercise 18:** Write a conditional statement that prints `'Your school book is Harry Potter'` if age is older than or equal to 10 and the school year is 3."
   ]
  },
  {
   "cell_type": "code",
   "execution_count": null,
   "id": "ac316a1b",
   "metadata": {},
   "outputs": [],
   "source": []
  },
  {
   "cell_type": "markdown",
   "id": "830c56a9",
   "metadata": {},
   "source": [
    "🚩 **Exercise 19:** Write a conditional statement that prints `'You are tall enough and old enough for the ride'` if the age is greater than 10 and the height is greater than 100."
   ]
  },
  {
   "cell_type": "code",
   "execution_count": null,
   "id": "c18aaa5a",
   "metadata": {},
   "outputs": [],
   "source": []
  },
  {
   "cell_type": "markdown",
   "id": "22121184",
   "metadata": {},
   "source": [
    "🚩 **Exercise 20:** Write a conditional statement that prints `'Next year you will not be in year 5'` if the school year is year 4."
   ]
  },
  {
   "cell_type": "code",
   "execution_count": null,
   "id": "f19c64b1",
   "metadata": {},
   "outputs": [],
   "source": []
  },
  {
   "cell_type": "markdown",
   "id": "b27e85f6",
   "metadata": {},
   "source": [
    "Now, change the variables above to these new values and see what happens:\n",
    "- x = 5\n",
    "- age = 10\n",
    "- name = 'Jamie'\n",
    "- height = 95\n",
    "- school_year = 4"
   ]
  },
  {
   "cell_type": "code",
   "execution_count": null,
   "id": "71e28bf9",
   "metadata": {},
   "outputs": [],
   "source": []
  }
 ],
 "metadata": {
  "kernelspec": {
   "display_name": "Python 3 (ipykernel)",
   "language": "python",
   "name": "python3"
  },
  "language_info": {
   "codemirror_mode": {
    "name": "ipython",
    "version": 3
   },
   "file_extension": ".py",
   "mimetype": "text/x-python",
   "name": "python",
   "nbconvert_exporter": "python",
   "pygments_lexer": "ipython3",
   "version": "3.8.12"
  }
 },
 "nbformat": 4,
 "nbformat_minor": 5
}
