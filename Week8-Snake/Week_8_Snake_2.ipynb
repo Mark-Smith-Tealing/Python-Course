{
 "cells": [
  {
   "cell_type": "markdown",
   "id": "29c877e6",
   "metadata": {},
   "source": [
    "# Introduction to Python - Snake\n",
    "\n",
    "**Remember:** This is a Jupyter notebook, an application that allows us to write code and view exercises easily.\n",
    "\n",
    "Like Spyder, Jupyter notebooks have cells (Markdown and Code cells) that allow us to separate code and text. Remember that the code cells have `In [ ]:` on the left hand side!\n",
    "\n",
    "## Let's Try\n",
    "\n",
    "**Remember** You can run the next cell using the \"<kbd>|> Run</kbd>\" button on the toolbar above, or you can press <kbd>Ctrl</kbd> + <kbd>Enter</kbd>.\n"
   ]
  },
  {
   "cell_type": "markdown",
   "id": "b1a54d55",
   "metadata": {},
   "source": [
    "🚩 **Exercise:** Run the next cell to make sure that your notebook is working!"
   ]
  },
  {
   "cell_type": "code",
   "execution_count": 1,
   "id": "5464cf1b",
   "metadata": {},
   "outputs": [
    {
     "name": "stdout",
     "output_type": "stream",
     "text": [
      "Welcome to Functions with Return Values in Python!\n"
     ]
    }
   ],
   "source": [
    "print('Welcome to Functions with Return Values in Python!')"
   ]
  },
  {
   "cell_type": "markdown",
   "id": "3438c438",
   "metadata": {},
   "source": [
    "## Warmup - Last Time (Functions with Return Values)\n",
    "\n",
    "Let's see if you can remember what we worked on last week! Here are some useful variables.\n"
   ]
  },
  {
   "cell_type": "markdown",
   "id": "a69357ec",
   "metadata": {},
   "source": [
    "🚩 **Warmup 1:** Why do we use: \n",
    "1. a conditional?\n",
    "2. a definition?\n",
    "\n",
    "🚩 **Warmup 2:** What two uses do we have for loops?"
   ]
  },
  {
   "cell_type": "markdown",
   "id": "7137f3f5",
   "metadata": {},
   "source": [
    "🚩 **Warmup 3:** Here is a long list of numbers. How many numbers are in this list? (Hint: Use the `len()` function on the list)"
   ]
  },
  {
   "cell_type": "code",
   "execution_count": 8,
   "id": "e4b6b797",
   "metadata": {},
   "outputs": [],
   "source": [
    "numbers = [1,6345,234,346,576,234,756,234,8675,312,3234,235,45,75,68,678,65,563,45,23,42,45,345,345]"
   ]
  },
  {
   "cell_type": "markdown",
   "id": "d7fc3d2e",
   "metadata": {},
   "source": [
    "🚩 **Warmup 4:** Print out the tenth element of the list."
   ]
  },
  {
   "cell_type": "code",
   "execution_count": 9,
   "id": "1397916c",
   "metadata": {},
   "outputs": [
    {
     "name": "stdout",
     "output_type": "stream",
     "text": [
      "312\n"
     ]
    }
   ],
   "source": [
    "print(numbers[9])"
   ]
  },
  {
   "cell_type": "markdown",
   "id": "a1ab3bc2",
   "metadata": {},
   "source": [
    "🚩 **Warmup 5:** Add an element to the list using `append()`."
   ]
  },
  {
   "cell_type": "code",
   "execution_count": 10,
   "id": "be59bef8",
   "metadata": {
    "scrolled": true
   },
   "outputs": [
    {
     "name": "stdout",
     "output_type": "stream",
     "text": [
      "[1, 6345, 234, 346, 576, 234, 756, 234, 8675, 312, 3234, 235, 45, 75, 68, 678, 65, 563, 45, 23, 42, 45, 345, 345, 1325]\n"
     ]
    }
   ],
   "source": [
    "numbers.append(1325)\n",
    "print(numbers)"
   ]
  },
  {
   "cell_type": "markdown",
   "id": "e5497bb5",
   "metadata": {},
   "source": [
    "## Snake\n"
   ]
  },
  {
   "cell_type": "code",
   "execution_count": 1,
   "id": "908cd86e",
   "metadata": {},
   "outputs": [
    {
     "name": "stdout",
     "output_type": "stream",
     "text": [
      "Requirement already satisfied: freegames in c:\\users\\mark\\anaconda3\\lib\\site-packages (2.4.0)\n",
      "Note: you may need to restart the kernel to use updated packages.\n"
     ]
    }
   ],
   "source": [
    "pip install freegames"
   ]
  },
  {
   "cell_type": "code",
   "execution_count": 1,
   "id": "b086df3d",
   "metadata": {},
   "outputs": [],
   "source": [
    "from random import randrange\n",
    "from turtle import *\n",
    "import turtle\n",
    "\n",
    "from freegames import square, vector"
   ]
  },
  {
   "cell_type": "code",
   "execution_count": 2,
   "id": "5a3fe6ed",
   "metadata": {},
   "outputs": [],
   "source": [
    "def change(x, y):\n",
    "    \"Change snake direction.\"\n",
    "    aim.x = x\n",
    "    aim.y = y"
   ]
  },
  {
   "cell_type": "code",
   "execution_count": 3,
   "id": "4ae9185c",
   "metadata": {},
   "outputs": [],
   "source": [
    "def inside(head):\n",
    "    \"Return True if head inside boundaries.\"\n",
    "    return -200 < head.x < 190 and -200 < head.y < 190"
   ]
  },
  {
   "cell_type": "code",
   "execution_count": 4,
   "id": "ddb3808c",
   "metadata": {},
   "outputs": [],
   "source": [
    "def move():\n",
    "    \"Move snake forward one segment.\"\n",
    "    head = snake[-1].copy()\n",
    "    head.move(aim)\n",
    "\n",
    "    if not inside(head) or head in snake:\n",
    "        square(head.x, head.y, 9, 'red')\n",
    "        update()\n",
    "        return\n",
    "\n",
    "    snake.append(head)\n",
    "\n",
    "    if head == food:\n",
    "        food.x = randrange(-15, 15) * 10\n",
    "        food.y = randrange(-15, 15) * 10\n",
    "    else:\n",
    "        snake.pop(0)\n",
    "    \n",
    "    clear()\n",
    "    \n",
    "    for body in snake:\n",
    "        square(body.x, body.y, 9, 'orange')\n",
    "\n",
    "    square(food.x, food.y, 9, 'blue')\n",
    "    update()\n",
    "    \n",
    "    turtle.goto(-199,190)\n",
    "    turtle.write(f'Score: {len(snake)}')\n",
    "    \n",
    "    ontimer(move, 100)"
   ]
  },
  {
   "cell_type": "code",
   "execution_count": 16,
   "id": "454420a0",
   "metadata": {},
   "outputs": [],
   "source": [
    "food = vector(0, 0)\n",
    "snake = [vector(0, 0)]\n",
    "aim = vector(-10, 0)\n",
    "\n",
    "setup(420, 420, 370, 0)\n",
    "hideturtle()\n",
    "tracer(False)\n",
    "turtle.up()\n",
    "listen()\n",
    "\n",
    "onkey(lambda: change(10, 0), 'Right')\n",
    "onkey(lambda: change(-10, 0), 'Left')\n",
    "onkey(lambda: change(0, 10), 'Up')\n",
    "onkey(lambda: change(0, -10), 'Down')\n",
    "\n",
    "move()\n",
    "done()"
   ]
  },
  {
   "cell_type": "markdown",
   "id": "c818e08a",
   "metadata": {},
   "source": [
    "## Exercises"
   ]
  },
  {
   "cell_type": "markdown",
   "id": "1a55e497",
   "metadata": {},
   "source": [
    "🚩 **Exercise 1:** Add a scoreboard. Use `turtle.goto(x,y)` to go a specfic position (x,y) on the screen and `turtle.write()` to write on the screen.\n",
    "\n",
    "🚩 **Exercise 2:** Change the color of the snake.\n",
    "\n",
    "🚩 **Exercise 3:** Change the color of the food.\n",
    "\n",
    "🚩 **Exercise 4:** Make the game move faster/slower.\n",
    "\n",
    "🚩 **Exercise 5:** Add another piece of food to the game."
   ]
  },
  {
   "cell_type": "code",
   "execution_count": null,
   "id": "61202e29",
   "metadata": {},
   "outputs": [],
   "source": []
  }
 ],
 "metadata": {
  "kernelspec": {
   "display_name": "Python 3 (ipykernel)",
   "language": "python",
   "name": "python3"
  },
  "language_info": {
   "codemirror_mode": {
    "name": "ipython",
    "version": 3
   },
   "file_extension": ".py",
   "mimetype": "text/x-python",
   "name": "python",
   "nbconvert_exporter": "python",
   "pygments_lexer": "ipython3",
   "version": "3.8.12"
  },
  "toc": {
   "base_numbering": 1,
   "nav_menu": {},
   "number_sections": true,
   "sideBar": true,
   "skip_h1_title": false,
   "title_cell": "Table of Contents",
   "title_sidebar": "Contents",
   "toc_cell": false,
   "toc_position": {},
   "toc_section_display": true,
   "toc_window_display": false
  }
 },
 "nbformat": 4,
 "nbformat_minor": 5
}
