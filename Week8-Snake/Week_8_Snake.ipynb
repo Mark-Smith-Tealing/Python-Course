{
 "cells": [
  {
   "cell_type": "markdown",
   "id": "29c877e6",
   "metadata": {},
   "source": [
    "# Introduction to Python - Loops, Lists and Turtles\n",
    "\n",
    "**Remember:** This is a Jupyter notebook, an application that allows us to write code and view exercises easily.\n",
    "\n",
    "Like Spyder, Jupyter notebooks have cells (Markdown and Code cells) that allow us to separate code and text. Remember that the code cells have `In [ ]:` on the left hand side!\n",
    "\n",
    "## Let's Try\n",
    "\n",
    "**Remember** You can run the next cell using the \"<kbd>|> Run</kbd>\" button on the toolbar above, or you can press <kbd>Ctrl</kbd> + <kbd>Enter</kbd>.\n"
   ]
  },
  {
   "cell_type": "markdown",
   "id": "b1a54d55",
   "metadata": {},
   "source": [
    "🚩 **Exercise:** Run the next cell to make sure that your notebook is working!"
   ]
  },
  {
   "cell_type": "code",
   "execution_count": null,
   "id": "5464cf1b",
   "metadata": {},
   "outputs": [],
   "source": [
    "print('Welcome to Functions with Return Values in Python!')"
   ]
  },
  {
   "cell_type": "markdown",
   "id": "3438c438",
   "metadata": {},
   "source": [
    "## Warmup - Last Time (Functions with Return Values)\n",
    "\n",
    "Let's see if you can remember what we worked on last week! Here are some useful variables.\n"
   ]
  },
  {
   "cell_type": "markdown",
   "id": "7137f3f5",
   "metadata": {},
   "source": [
    "🚩 **Warmup 1:** Which keywords do we use to write a loop?\n",
    "\n",
    "🚩 **Warmup 2:** Print out all the numbers between 16 and 23.\n",
    "\n",
    "🚩 **Warmup 3:** Print out all the letters in \"Welcome to this class about Snake\".\n",
    "\n",
    "🚩 **Warmup 4:** Make a list with 3 fruits inside."
   ]
  },
  {
   "cell_type": "code",
   "execution_count": 5,
   "id": "e4b6b797",
   "metadata": {},
   "outputs": [
    {
     "name": "stdout",
     "output_type": "stream",
     "text": [
      "M\n",
      "A\n",
      "r\n",
      "k\n",
      "16\n",
      "17\n",
      "18\n",
      "19\n",
      "20\n",
      "21\n",
      "22\n",
      "23\n"
     ]
    }
   ],
   "source": [
    "for letter in \"MArk\":\n",
    "    print(letter)\n",
    "    \n",
    "for nub in range(16,24):\n",
    "    print(nub)\n",
    "\n",
    "fruit=[\"banana\",\"apple\",\"peach\"]\n"
   ]
  },
  {
   "cell_type": "markdown",
   "id": "d7fc3d2e",
   "metadata": {},
   "source": [
    "🚩 **Warmup 5:** Print out the second element of the list."
   ]
  },
  {
   "cell_type": "code",
   "execution_count": 6,
   "id": "1397916c",
   "metadata": {},
   "outputs": [
    {
     "name": "stdout",
     "output_type": "stream",
     "text": [
      "apple\n"
     ]
    }
   ],
   "source": [
    "print(fruit[1])"
   ]
  },
  {
   "cell_type": "markdown",
   "id": "a1ab3bc2",
   "metadata": {},
   "source": [
    "🚩 **Warmup 6:** Add an element to the list using `append()`."
   ]
  },
  {
   "cell_type": "code",
   "execution_count": 7,
   "id": "be59bef8",
   "metadata": {},
   "outputs": [
    {
     "name": "stdout",
     "output_type": "stream",
     "text": [
      "['banana', 'apple', 'peach']\n",
      "['banana', 'apple', 'peach', 'Pineapple']\n"
     ]
    }
   ],
   "source": [
    "print(fruit)\n",
    "\n",
    "fruit.append(\"Pineapple\")\n",
    "\n",
    "print(fruit)"
   ]
  },
  {
   "cell_type": "markdown",
   "id": "e5497bb5",
   "metadata": {},
   "source": [
    "## Snake\n"
   ]
  },
  {
   "cell_type": "code",
   "execution_count": 8,
   "id": "b086df3d",
   "metadata": {},
   "outputs": [],
   "source": [
    "from random import randrange\n",
    "from turtle import *\n",
    "import turtle\n",
    "\n",
    "from freegames import square, vector"
   ]
  },
  {
   "cell_type": "code",
   "execution_count": 9,
   "id": "5a3fe6ed",
   "metadata": {},
   "outputs": [],
   "source": [
    "def change(x, y):\n",
    "    \"Change snake direction.\"\n",
    "    aim.x = x\n",
    "    aim.y = y"
   ]
  },
  {
   "cell_type": "code",
   "execution_count": 10,
   "id": "4ae9185c",
   "metadata": {},
   "outputs": [],
   "source": [
    "def inside(head):\n",
    "    \"Return True if head inside boundaries.\"\n",
    "    return -200 < head.x < 190 and -200 < head.y < 190"
   ]
  },
  {
   "cell_type": "code",
   "execution_count": 11,
   "id": "ddb3808c",
   "metadata": {},
   "outputs": [],
   "source": [
    "def move():\n",
    "    \"Move snake forward one segment.\"\n",
    "    head = snake[-1].copy()\n",
    "    head.move(aim)\n",
    "\n",
    "    if not inside(head) or head in snake:\n",
    "        square(head.x, head.y, 9, 'red')\n",
    "        update()\n",
    "        return\n",
    "\n",
    "    snake.append(head)\n",
    "\n",
    "    if head == food:\n",
    "        food.x = randrange(-15, 15) * 10\n",
    "        food.y = randrange(-15, 15) * 10\n",
    "    else:\n",
    "        snake.pop(0)\n",
    "    \n",
    "    clear()\n",
    "    \n",
    "    for body in snake:\n",
    "        square(body.x, body.y, 9, 'orange')\n",
    "\n",
    "    square(food.x, food.y, 9, 'blue')\n",
    "    update()\n",
    "    \n",
    "    turtle.goto(-199,190)\n",
    "    turtle.write(f'Score: {len(snake)}')\n",
    "    \n",
    "    ontimer(move, 100)"
   ]
  },
  {
   "cell_type": "code",
   "execution_count": 14,
   "id": "454420a0",
   "metadata": {},
   "outputs": [],
   "source": [
    "food = vector(0, 0)\n",
    "snake = [vector(-100, -100)]\n",
    "aim = vector(0, 10)\n",
    "\n",
    "setup(420, 420, 370, 0)\n",
    "hideturtle()\n",
    "tracer(False)\n",
    "turtle.up()\n",
    "listen()\n",
    "\n",
    "onkey(lambda: change(10, 0), 'Right')\n",
    "onkey(lambda: change(-10, 0), 'Left')\n",
    "onkey(lambda: change(0, 10), 'Up')\n",
    "onkey(lambda: change(0, -10), 'Down')\n",
    "\n",
    "move()\n",
    "done()"
   ]
  },
  {
   "cell_type": "markdown",
   "id": "c818e08a",
   "metadata": {},
   "source": [
    "## Exercises"
   ]
  },
  {
   "cell_type": "markdown",
   "id": "1a55e497",
   "metadata": {},
   "source": [
    "🚩 **Exercise 1:** Add a scoreboard.\n",
    "\n",
    "🚩 **Exercise 2:** Change the color of the snake.\n",
    "\n",
    "🚩 **Exercise 3:** Change the color of the food.\n",
    "\n",
    "🚩 **Exercise 4:** Make the game move faster/slower."
   ]
  },
  {
   "cell_type": "code",
   "execution_count": null,
   "id": "61202e29",
   "metadata": {},
   "outputs": [],
   "source": []
  }
 ],
 "metadata": {
  "kernelspec": {
   "display_name": "Python 3 (ipykernel)",
   "language": "python",
   "name": "python3"
  },
  "language_info": {
   "codemirror_mode": {
    "name": "ipython",
    "version": 3
   },
   "file_extension": ".py",
   "mimetype": "text/x-python",
   "name": "python",
   "nbconvert_exporter": "python",
   "pygments_lexer": "ipython3",
   "version": "3.8.12"
  },
  "toc": {
   "base_numbering": 1,
   "nav_menu": {},
   "number_sections": true,
   "sideBar": true,
   "skip_h1_title": false,
   "title_cell": "Table of Contents",
   "title_sidebar": "Contents",
   "toc_cell": false,
   "toc_position": {},
   "toc_section_display": true,
   "toc_window_display": false
  }
 },
 "nbformat": 4,
 "nbformat_minor": 5
}
